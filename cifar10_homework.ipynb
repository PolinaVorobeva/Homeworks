{
  "nbformat": 4,
  "nbformat_minor": 0,
  "metadata": {
    "colab": {
      "name": "cifar10_тык.ipynb",
      "version": "0.3.2",
      "provenance": [],
      "collapsed_sections": []
    },
    "kernelspec": {
      "name": "python3",
      "display_name": "Python 3"
    },
    "accelerator": "GPU"
  },
  "cells": [
    {
      "metadata": {
        "id": "jOSKJARhPO57",
        "colab_type": "code",
        "colab": {}
      },
      "cell_type": "code",
      "source": [
        "import os\n",
        "from __future__ import print_function\n",
        "import keras\n",
        "from keras.datasets import cifar10\n",
        "from keras.preprocessing.image import ImageDataGenerator\n",
        "from keras.models import Sequential\n",
        "from keras.layers import Dense, Dropout, Activation, Flatten\n",
        "from keras.layers import Conv2D, MaxPooling2D, AveragePooling2D\n",
        "from keras.layers.advanced_activations import PReLU,  LeakyReLU"
      ],
      "execution_count": 0,
      "outputs": []
    },
    {
      "metadata": {
        "id": "0F29PC7iLWEa",
        "colab_type": "code",
        "colab": {}
      },
      "cell_type": "code",
      "source": [
        "from keras.datasets import cifar10"
      ],
      "execution_count": 0,
      "outputs": []
    },
    {
      "metadata": {
        "id": "tGfykSjGN-qC",
        "colab_type": "code",
        "outputId": "111d1b54-1505-491e-cfa1-7953d4e5e703",
        "colab": {
          "base_uri": "https://localhost:8080/",
          "height": 67
        }
      },
      "cell_type": "code",
      "source": [
        "batch_size = 64\n",
        "num_classes = 10\n",
        "epochs = 50\n",
        "# data_augmentation = True\n",
        "num_predictions = 20\n",
        "save_dir = os.path.join(os.getcwd(), 'saved_models')\n",
        "model_name = 'keras_cifar10_trained_model.h5'\n",
        "act = keras.layers.advanced_activations.LeakyReLU\n",
        "\n",
        "# The data, split between train and test sets:\n",
        "(x_train, y_train), (x_test, y_test) = cifar10.load_data()\n",
        "print('x_train shape:', x_train.shape)\n",
        "print(x_train.shape[0], 'train samples')\n",
        "print(x_test.shape[0], 'test samples')\n",
        "\n",
        "# Convert class vectors to binary class matrices.\n",
        "y_train = keras.utils.to_categorical(y_train, num_classes)\n",
        "y_test = keras.utils.to_categorical(y_test, num_classes)\n",
        "\n",
        "model = Sequential()\n",
        "model.add(Conv2D(64, (3, 3), padding='same',\n",
        "                 input_shape=x_train.shape[1:]))\n",
        "model.add(act())\n",
        "model.add(Conv2D(64, (3, 3)))\n",
        "model.add(act)\n",
        "model.add(MaxPooling2D(pool_size=(2, 2)))\n",
        "model.add(Dropout(0.25))\n",
        "\n",
        "model.add(Conv2D(128, (3, 3), padding='same'\n",
        "                ))\n",
        "model.add(Activation('relu'))\n",
        "model.add(Conv2D(128, (3, 3)))\n",
        "model.add(Activation('relu'))\n",
        "model.add(MaxPooling2D(pool_size=(2, 2)))\n",
        "model.add(Dropout(0.25))\n",
        "\n",
        "\n",
        "model.add(Flatten())\n",
        "model.add(Dense(1024))\n",
        "model.add(Activation('relu'))\n",
        "model.add(Dropout(0.4))\n",
        "model.add(Dense(num_classes))\n",
        "model.add(Activation('softmax'))\n",
        "\n",
        "# initiate RMSprop optimizer\n",
        "opt = keras.optimizers.Adam(lr=0.001, decay=1e-6)\n",
        "\n",
        "# Let's train the model using RMSprop\n",
        "model.compile(loss='categorical_crossentropy',\n",
        "              optimizer=opt,\n",
        "              metrics=['accuracy'])\n",
        "\n",
        "x_train = x_train.astype('float32')\n",
        "x_test = x_test.astype('float32')\n",
        "x_train /= 255\n",
        "x_test /= 255\n",
        "\n"
      ],
      "execution_count": 0,
      "outputs": [
        {
          "output_type": "stream",
          "text": [
            "x_train shape: (50000, 32, 32, 3)\n",
            "50000 train samples\n",
            "10000 test samples\n"
          ],
          "name": "stdout"
        }
      ]
    },
    {
      "metadata": {
        "id": "fOFnO0TMPvS4",
        "colab_type": "code",
        "outputId": "4a607754-214d-4612-d485-0990e589f191",
        "colab": {
          "base_uri": "https://localhost:8080/",
          "height": 706
        }
      },
      "cell_type": "code",
      "source": [
        "model.summary()"
      ],
      "execution_count": 0,
      "outputs": [
        {
          "output_type": "stream",
          "text": [
            "_________________________________________________________________\n",
            "Layer (type)                 Output Shape              Param #   \n",
            "=================================================================\n",
            "conv2d_97 (Conv2D)           (None, 32, 32, 64)        1792      \n",
            "_________________________________________________________________\n",
            "leaky_re_lu_7 (LeakyReLU)    multiple                  0         \n",
            "_________________________________________________________________\n",
            "conv2d_98 (Conv2D)           (None, 30, 30, 64)        36928     \n",
            "_________________________________________________________________\n",
            "max_pooling2d_27 (MaxPooling (None, 15, 15, 64)        0         \n",
            "_________________________________________________________________\n",
            "dropout_50 (Dropout)         (None, 15, 15, 64)        0         \n",
            "_________________________________________________________________\n",
            "conv2d_99 (Conv2D)           (None, 15, 15, 128)       73856     \n",
            "_________________________________________________________________\n",
            "activation_59 (Activation)   (None, 15, 15, 128)       0         \n",
            "_________________________________________________________________\n",
            "conv2d_100 (Conv2D)          (None, 13, 13, 128)       147584    \n",
            "_________________________________________________________________\n",
            "activation_60 (Activation)   (None, 13, 13, 128)       0         \n",
            "_________________________________________________________________\n",
            "max_pooling2d_28 (MaxPooling (None, 6, 6, 128)         0         \n",
            "_________________________________________________________________\n",
            "dropout_51 (Dropout)         (None, 6, 6, 128)         0         \n",
            "_________________________________________________________________\n",
            "flatten_15 (Flatten)         (None, 4608)              0         \n",
            "_________________________________________________________________\n",
            "dense_30 (Dense)             (None, 1024)              4719616   \n",
            "_________________________________________________________________\n",
            "activation_61 (Activation)   (None, 1024)              0         \n",
            "_________________________________________________________________\n",
            "dropout_52 (Dropout)         (None, 1024)              0         \n",
            "_________________________________________________________________\n",
            "dense_31 (Dense)             (None, 10)                10250     \n",
            "_________________________________________________________________\n",
            "activation_62 (Activation)   (None, 10)                0         \n",
            "=================================================================\n",
            "Total params: 4,990,026\n",
            "Trainable params: 4,990,026\n",
            "Non-trainable params: 0\n",
            "_________________________________________________________________\n"
          ],
          "name": "stdout"
        }
      ]
    },
    {
      "metadata": {
        "id": "O4NaGlz1fTx0",
        "colab_type": "code",
        "colab": {}
      },
      "cell_type": "code",
      "source": [
        "from keras.callbacks import ModelCheckpoint, EarlyStopping"
      ],
      "execution_count": 0,
      "outputs": []
    },
    {
      "metadata": {
        "id": "CFcConLxPa81",
        "colab_type": "code",
        "outputId": "49f1f549-d3ef-4867-aeff-9c7860ed63f0",
        "colab": {
          "base_uri": "https://localhost:8080/",
          "height": 1730
        }
      },
      "cell_type": "code",
      "source": [
        "checkpoint = ModelCheckpoint(filepath='baest_model.h5', save_best_only=True, mode='max')\n",
        "earlystopper = EarlyStopping(monitor='val_acc', patience=10, mode='max', restore_best_weights=True)\n",
        "callbacks = [checkpoint, earlystopper]\n",
        "\n",
        "\n",
        "\n",
        "model.fit(x_train, y_train, batch_size=batch_size,\n",
        "                        epochs=epochs, callbacks = callbacks,\n",
        "                        validation_data=(x_test, y_test))"
      ],
      "execution_count": 0,
      "outputs": [
        {
          "output_type": "stream",
          "text": [
            "Train on 50000 samples, validate on 10000 samples\n",
            "Epoch 1/50\n",
            "50000/50000 [==============================] - 17s 347us/step - loss: 1.3944 - acc: 0.4953 - val_loss: 1.0267 - val_acc: 0.6382\n",
            "Epoch 2/50\n",
            "50000/50000 [==============================] - 15s 297us/step - loss: 0.9365 - acc: 0.6708 - val_loss: 0.8218 - val_acc: 0.7199\n",
            "Epoch 3/50\n",
            "50000/50000 [==============================] - 15s 296us/step - loss: 0.7673 - acc: 0.7314 - val_loss: 0.7197 - val_acc: 0.7529\n",
            "Epoch 4/50\n",
            "50000/50000 [==============================] - 15s 299us/step - loss: 0.6706 - acc: 0.7660 - val_loss: 0.6776 - val_acc: 0.7649\n",
            "Epoch 5/50\n",
            "50000/50000 [==============================] - 15s 305us/step - loss: 0.5872 - acc: 0.7940 - val_loss: 0.6378 - val_acc: 0.7868\n",
            "Epoch 6/50\n",
            "50000/50000 [==============================] - 15s 302us/step - loss: 0.5178 - acc: 0.8211 - val_loss: 0.6298 - val_acc: 0.7914\n",
            "Epoch 7/50\n",
            "50000/50000 [==============================] - 15s 298us/step - loss: 0.4636 - acc: 0.8388 - val_loss: 0.6142 - val_acc: 0.7935\n",
            "Epoch 8/50\n",
            "50000/50000 [==============================] - 15s 298us/step - loss: 0.4175 - acc: 0.8548 - val_loss: 0.6108 - val_acc: 0.7993\n",
            "Epoch 9/50\n",
            "50000/50000 [==============================] - 15s 298us/step - loss: 0.3718 - acc: 0.8695 - val_loss: 0.7182 - val_acc: 0.7783\n",
            "Epoch 10/50\n",
            "50000/50000 [==============================] - 15s 298us/step - loss: 0.3520 - acc: 0.8763 - val_loss: 0.6759 - val_acc: 0.7947\n",
            "Epoch 11/50\n",
            "50000/50000 [==============================] - 15s 306us/step - loss: 0.3214 - acc: 0.8880 - val_loss: 0.7207 - val_acc: 0.7853\n",
            "Epoch 12/50\n",
            "50000/50000 [==============================] - 15s 298us/step - loss: 0.2970 - acc: 0.8971 - val_loss: 0.6625 - val_acc: 0.8021\n",
            "Epoch 13/50\n",
            "50000/50000 [==============================] - 15s 299us/step - loss: 0.2883 - acc: 0.9008 - val_loss: 0.7488 - val_acc: 0.7894\n",
            "Epoch 14/50\n",
            "50000/50000 [==============================] - 15s 298us/step - loss: 0.2616 - acc: 0.9102 - val_loss: 0.6883 - val_acc: 0.8005\n",
            "Epoch 15/50\n",
            "50000/50000 [==============================] - 15s 309us/step - loss: 0.2543 - acc: 0.9128 - val_loss: 0.7175 - val_acc: 0.8017\n",
            "Epoch 16/50\n",
            "50000/50000 [==============================] - 15s 305us/step - loss: 0.2469 - acc: 0.9155 - val_loss: 0.7033 - val_acc: 0.8014\n",
            "Epoch 17/50\n",
            "50000/50000 [==============================] - 15s 300us/step - loss: 0.2348 - acc: 0.9202 - val_loss: 0.7605 - val_acc: 0.7995\n",
            "Epoch 18/50\n",
            "50000/50000 [==============================] - 15s 298us/step - loss: 0.2315 - acc: 0.9224 - val_loss: 0.7431 - val_acc: 0.7981\n",
            "Epoch 19/50\n",
            "50000/50000 [==============================] - 15s 298us/step - loss: 0.2169 - acc: 0.9283 - val_loss: 0.7663 - val_acc: 0.8010\n",
            "Epoch 20/50\n",
            "50000/50000 [==============================] - 15s 299us/step - loss: 0.2116 - acc: 0.9301 - val_loss: 0.7714 - val_acc: 0.7914\n",
            "Epoch 21/50\n",
            "50000/50000 [==============================] - 15s 300us/step - loss: 0.2122 - acc: 0.9299 - val_loss: 0.7765 - val_acc: 0.7959\n",
            "Epoch 22/50\n",
            "50000/50000 [==============================] - 15s 305us/step - loss: 0.2118 - acc: 0.9312 - val_loss: 0.7958 - val_acc: 0.8032\n",
            "Epoch 23/50\n",
            "50000/50000 [==============================] - 15s 299us/step - loss: 0.1999 - acc: 0.9352 - val_loss: 0.9076 - val_acc: 0.7943\n",
            "Epoch 24/50\n",
            "50000/50000 [==============================] - 15s 299us/step - loss: 0.1900 - acc: 0.9375 - val_loss: 0.8714 - val_acc: 0.8003\n",
            "Epoch 25/50\n",
            "50000/50000 [==============================] - 15s 303us/step - loss: 0.1955 - acc: 0.9371 - val_loss: 0.8484 - val_acc: 0.8008\n",
            "Epoch 26/50\n",
            "50000/50000 [==============================] - 15s 298us/step - loss: 0.1893 - acc: 0.9383 - val_loss: 0.8363 - val_acc: 0.8033\n",
            "Epoch 27/50\n",
            "50000/50000 [==============================] - 15s 305us/step - loss: 0.1927 - acc: 0.9392 - val_loss: 0.8021 - val_acc: 0.8022\n",
            "Epoch 28/50\n",
            "50000/50000 [==============================] - 15s 298us/step - loss: 0.1804 - acc: 0.9418 - val_loss: 0.8682 - val_acc: 0.7965\n",
            "Epoch 29/50\n",
            "50000/50000 [==============================] - 15s 298us/step - loss: 0.1779 - acc: 0.9446 - val_loss: 0.8400 - val_acc: 0.7995\n",
            "Epoch 30/50\n",
            "50000/50000 [==============================] - 15s 298us/step - loss: 0.1767 - acc: 0.9435 - val_loss: 0.8373 - val_acc: 0.7972\n",
            "Epoch 31/50\n",
            "50000/50000 [==============================] - 15s 298us/step - loss: 0.1874 - acc: 0.9420 - val_loss: 0.8894 - val_acc: 0.7961\n",
            "Epoch 32/50\n",
            "50000/50000 [==============================] - 15s 302us/step - loss: 0.1792 - acc: 0.9426 - val_loss: 0.8398 - val_acc: 0.7995\n",
            "Epoch 33/50\n",
            "50000/50000 [==============================] - 15s 302us/step - loss: 0.1760 - acc: 0.9456 - val_loss: 0.8779 - val_acc: 0.8023\n",
            "Epoch 34/50\n",
            "50000/50000 [==============================] - 15s 297us/step - loss: 0.1637 - acc: 0.9470 - val_loss: 0.8664 - val_acc: 0.8083\n",
            "Epoch 35/50\n",
            "50000/50000 [==============================] - 15s 298us/step - loss: 0.1687 - acc: 0.9487 - val_loss: 0.9257 - val_acc: 0.7971\n",
            "Epoch 36/50\n",
            "50000/50000 [==============================] - 15s 308us/step - loss: 0.1638 - acc: 0.9493 - val_loss: 0.8829 - val_acc: 0.8035\n",
            "Epoch 37/50\n",
            "50000/50000 [==============================] - 15s 299us/step - loss: 0.1658 - acc: 0.9489 - val_loss: 0.9028 - val_acc: 0.8043\n",
            "Epoch 38/50\n",
            "50000/50000 [==============================] - 15s 306us/step - loss: 0.1554 - acc: 0.9519 - val_loss: 0.9241 - val_acc: 0.8005\n",
            "Epoch 39/50\n",
            "50000/50000 [==============================] - 15s 298us/step - loss: 0.1644 - acc: 0.9502 - val_loss: 0.9693 - val_acc: 0.8021\n",
            "Epoch 40/50\n",
            "50000/50000 [==============================] - 15s 298us/step - loss: 0.1678 - acc: 0.9500 - val_loss: 0.9774 - val_acc: 0.7955\n",
            "Epoch 41/50\n",
            "50000/50000 [==============================] - 15s 297us/step - loss: 0.1534 - acc: 0.9535 - val_loss: 0.9266 - val_acc: 0.7952\n",
            "Epoch 42/50\n",
            "50000/50000 [==============================] - 15s 297us/step - loss: 0.1633 - acc: 0.9515 - val_loss: 1.0370 - val_acc: 0.8034\n",
            "Epoch 43/50\n",
            "50000/50000 [==============================] - 15s 306us/step - loss: 0.1677 - acc: 0.9492 - val_loss: 0.9185 - val_acc: 0.8096\n",
            "Epoch 44/50\n",
            "50000/50000 [==============================] - 15s 297us/step - loss: 0.1611 - acc: 0.9522 - val_loss: 0.9010 - val_acc: 0.8054\n",
            "Epoch 45/50\n",
            "50000/50000 [==============================] - 15s 302us/step - loss: 0.1551 - acc: 0.9544 - val_loss: 0.9540 - val_acc: 0.7992\n",
            "Epoch 46/50\n",
            "50000/50000 [==============================] - 15s 298us/step - loss: 0.1519 - acc: 0.9537 - val_loss: 0.9929 - val_acc: 0.7989\n",
            "Epoch 47/50\n",
            "50000/50000 [==============================] - 15s 298us/step - loss: 0.1512 - acc: 0.9555 - val_loss: 1.0188 - val_acc: 0.8010\n",
            "Epoch 48/50\n",
            "50000/50000 [==============================] - 15s 301us/step - loss: 0.1532 - acc: 0.9554 - val_loss: 0.9737 - val_acc: 0.8034\n",
            "Epoch 49/50\n",
            "50000/50000 [==============================] - 15s 302us/step - loss: 0.1561 - acc: 0.9548 - val_loss: 0.9849 - val_acc: 0.7921\n",
            "Epoch 50/50\n",
            "50000/50000 [==============================] - 15s 297us/step - loss: 0.1530 - acc: 0.9542 - val_loss: 0.9650 - val_acc: 0.7966\n"
          ],
          "name": "stdout"
        },
        {
          "output_type": "execute_result",
          "data": {
            "text/plain": [
              "<keras.callbacks.History at 0x7f0da6266470>"
            ]
          },
          "metadata": {
            "tags": []
          },
          "execution_count": 103
        }
      ]
    },
    {
      "metadata": {
        "id": "jQrj6CKIg6xq",
        "colab_type": "code",
        "colab": {}
      },
      "cell_type": "code",
      "source": [
        ""
      ],
      "execution_count": 0,
      "outputs": []
    }
  ]
}