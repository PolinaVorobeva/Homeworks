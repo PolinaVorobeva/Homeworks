{
  "nbformat": 4,
  "nbformat_minor": 0,
  "metadata": {
    "colab": {
      "name": "nn_vs_mnist_тык-тык.ipynb",
      "version": "0.3.2",
      "provenance": [],
      "collapsed_sections": []
    },
    "language_info": {
      "codemirror_mode": {
        "name": "ipython",
        "version": 3
      },
      "file_extension": ".py",
      "mimetype": "text/x-python",
      "name": "python",
      "nbconvert_exporter": "python",
      "pygments_lexer": "ipython3",
      "version": "3.6.6"
    },
    "kernelspec": {
      "name": "python3",
      "display_name": "Python 3"
    },
    "accelerator": "GPU"
  },
  "cells": [
    {
      "metadata": {
        "id": "roGo87e4Lxrk",
        "colab_type": "text"
      },
      "cell_type": "markdown",
      "source": [
        "### Import dependencies"
      ]
    },
    {
      "metadata": {
        "id": "H1LPhIwSLxrl",
        "colab_type": "code",
        "outputId": "92f259a9-8b86-46f4-f319-9ea86d4942dc",
        "colab": {
          "base_uri": "https://localhost:8080/",
          "height": 34
        }
      },
      "cell_type": "code",
      "source": [
        "# Библиотека для отрисовки картинок\n",
        "import matplotlib.pyplot as plt \n",
        "# Магическое слово для отрисовки их в юпитер ноутбуке\n",
        "%matplotlib inline\n",
        "\n",
        "# Для повторяемости результатов\n",
        "RANDOM_SEED = 42\n",
        "\n",
        "# Для нейронок\n",
        "import keras\n",
        "import tensorflow as tf\n",
        "# Для работы с предиктами нейронки\n",
        "import numpy as np\n",
        "# Наша метрика\n",
        "from sklearn.metrics import accuracy_score\n",
        "from sklearn.preprocessing import OneHotEncoder\n",
        "\n",
        "# Фиксируем рэндом сид для повторяемости результатов\n",
        "np.random.seed(RANDOM_SEED)\n",
        "tf.set_random_seed(RANDOM_SEED)"
      ],
      "execution_count": 0,
      "outputs": [
        {
          "output_type": "stream",
          "text": [
            "Using TensorFlow backend.\n"
          ],
          "name": "stderr"
        }
      ]
    },
    {
      "metadata": {
        "id": "qKa33ALhLxro",
        "colab_type": "text"
      },
      "cell_type": "markdown",
      "source": [
        "### Prepare data"
      ]
    },
    {
      "metadata": {
        "id": "aXp_CWkzLxrp",
        "colab_type": "code",
        "outputId": "c9e0bbbe-9f11-4fae-e29d-fe3f79c3245a",
        "colab": {
          "base_uri": "https://localhost:8080/",
          "height": 50
        }
      },
      "cell_type": "code",
      "source": [
        "# Загружаем датасет MNIST\n",
        "(X_train, y_train), (X_test, y_test) = keras.datasets.mnist.load_data()\n",
        "\n",
        "# Скалируем/Нормализуем данные (они были от 0 до 255, а стали от 0 до 1)\n",
        "X_train = X_train.astype(float) / 255.\n",
        "X_test = X_test.astype(float) / 255."
      ],
      "execution_count": 0,
      "outputs": [
        {
          "output_type": "stream",
          "text": [
            "Downloading data from https://s3.amazonaws.com/img-datasets/mnist.npz\n",
            "11493376/11490434 [==============================] - 1s 0us/step\n"
          ],
          "name": "stdout"
        }
      ]
    },
    {
      "metadata": {
        "id": "l0suy7zMLxrs",
        "colab_type": "code",
        "outputId": "6f55bfa2-ecc6-497e-e901-62ad69da031d",
        "colab": {
          "base_uri": "https://localhost:8080/",
          "height": 286
        }
      },
      "cell_type": "code",
      "source": [
        "# Поменяйте номер ниже, чтобы посмотреть на различные примеры из тестового датасета\n",
        "picture_num = 1337\n",
        "\n",
        "plt.imshow(X_test[picture_num], cmap=\"Greys\"); \n",
        "print(y_test[picture_num])"
      ],
      "execution_count": 0,
      "outputs": [
        {
          "output_type": "stream",
          "text": [
            "2\n"
          ],
          "name": "stdout"
        },
        {
          "output_type": "display_data",
          "data": {
            "image/png": "[encoded data removed]",
            "text/plain": [
              "<Figure size 432x288 with 1 Axes>"
            ]
          },
          "metadata": {
            "tags": []
          }
        }
      ]
    },
    {
      "metadata": {
        "id": "qmSTqyIcLxru",
        "colab_type": "code",
        "colab": {}
      },
      "cell_type": "code",
      "source": [
        "def flatten_images(x):\n",
        "    # Функция делает из прямоугольных изображений плоские, вытянутые в вектор длиной 28*28 = 784\n",
        "    return x.reshape(x.shape[0], x.shape[1] * x.shape[2])\n",
        "\n",
        "# \"Плющим\" все датасеты\n",
        "X_train = flatten_images(X_train)\n",
        "X_test = flatten_images(X_test)\n",
        "\n",
        "def one_hot_labels(y):\n",
        "    # Функция делает из ответов вида 1, 4, 7, 9 их one hot представление для подачи в нейронку\n",
        "    result = np.zeros((y.size, 10))\n",
        "    result[np.arange(y.size), y] = 1\n",
        "    return result\n",
        "\n",
        "# \"Ванхотим\" все ответы \n",
        "y_train_one_hot = one_hot_labels(y_train)\n",
        "y_test_one_hot = one_hot_labels(y_test)"
      ],
      "execution_count": 0,
      "outputs": []
    },
    {
      "metadata": {
        "id": "9zf_-fVPLxrw",
        "colab_type": "text"
      },
      "cell_type": "markdown",
      "source": [
        "### Building and training a model"
      ]
    },
    {
      "metadata": {
        "id": "qQ746xRKLxrx",
        "colab_type": "code",
        "outputId": "f5663323-6fb7-4f77-d79f-27210c74c0f7",
        "colab": {
          "base_uri": "https://localhost:8080/",
          "height": 339
        }
      },
      "cell_type": "code",
      "source": [
        "# Импортируем заготовку для нашей сетки\n",
        "from keras.models import Sequential\n",
        "# И полносвязные слои\n",
        "from keras.layers import Dense\n",
        "\n",
        "# Создаем пустую сетку\n",
        "net = Sequential()\n",
        "\n",
        "# Наполняем ее 3 внутренними слоями\n",
        "net.add(Dense(512, activation='relu', input_dim=28*28)) \n",
        "net.add(Dense(128, activation='relu')) \n",
        "net.add(Dense(32, activation='relu')) \n",
        "\n",
        "# + 1 выходной с активацией софтмакс\n",
        "net.add(Dense(10, activation='softmax')) \n",
        "\n",
        "# Собираем в кучу нашу модель, указываем ей ошибку для минимизации (категориальная кроссэнтропия)\n",
        "# Также выбираем оптимизатор (любимый Адам) и метрику, которая будет показываться (точность)\n",
        "net.compile(loss='categorical_crossentropy', optimizer='adam', metrics=['accuracy'])\n",
        "\n",
        "# Показываем какие у нас слои есть и сколько в них весов\n",
        "net.summary()"
      ],
      "execution_count": 0,
      "outputs": [
        {
          "output_type": "stream",
          "text": [
            "WARNING:tensorflow:From /usr/local/lib/python3.6/dist-packages/tensorflow/python/framework/op_def_library.py:263: colocate_with (from tensorflow.python.framework.ops) is deprecated and will be removed in a future version.\n",
            "Instructions for updating:\n",
            "Colocations handled automatically by placer.\n",
            "_________________________________________________________________\n",
            "Layer (type)                 Output Shape              Param #   \n",
            "=================================================================\n",
            "dense_1 (Dense)              (None, 512)               401920    \n",
            "_________________________________________________________________\n",
            "dense_2 (Dense)              (None, 128)               65664     \n",
            "_________________________________________________________________\n",
            "dense_3 (Dense)              (None, 32)                4128      \n",
            "_________________________________________________________________\n",
            "dense_4 (Dense)              (None, 10)                330       \n",
            "=================================================================\n",
            "Total params: 472,042\n",
            "Trainable params: 472,042\n",
            "Non-trainable params: 0\n",
            "_________________________________________________________________\n"
          ],
          "name": "stdout"
        }
      ]
    },
    {
      "metadata": {
        "id": "QWzYmH-VNZNT",
        "colab_type": "code",
        "colab": {}
      },
      "cell_type": "code",
      "source": [
        "from keras.callbacks import ModelCheckpoint, EarlyStopping"
      ],
      "execution_count": 0,
      "outputs": []
    },
    {
      "metadata": {
        "id": "-kP8BptVNZP0",
        "colab_type": "code",
        "colab": {}
      },
      "cell_type": "code",
      "source": [
        "\n",
        "\n",
        "\"\"\"\n",
        "т.к. у нас в распоряжении данные входным размером = 784, \n",
        "размерность первого слоя (если идти по степеням 2) будет равна 512.\n",
        "Затем, опускаясь все ниже, размерности слоев будут так же уменьшаться по степеням двойки.\n",
        "В итоге максимальное количество слоев сетки = 6 (от 512 нейронов до 16 + softmax-активация)\n",
        "\n",
        "\"\"\"\n",
        "\n",
        "\n",
        "\"\"\"\n",
        " n_layers_max - максимальное значение количества слоев\n",
        " n_epoch_max - максимальное количество эпох\n",
        " \n",
        " \"\"\"\n",
        "\n",
        "\n",
        "# функция завершает свою работу при нахождении первого скора, превышающего заложенный\n",
        "def make_better(n_layers_max, n_epoch_max, X_train, y_train, X_test, y_t):\n",
        "  \n",
        "  \n",
        "  score = 0.981\n",
        "  checkpoint = ModelCheckpoint(filepath='baest_model.h5', save_best_only=True, mode='max')\n",
        "  earlystopper = EarlyStopping(monitor='val_acc', patience=2, mode='max', baseline=score, restore_best_weights=True)\n",
        "  callbacks = [checkpoint, earlystopper]\n",
        "  \n",
        "  \n",
        "  for i in range(3, n_layers_max):\n",
        "    net = Sequential()\n",
        "  \n",
        "    s = 9\n",
        "    net.add(Dense(int(2**s), activation='relu', input_dim=28*28))\n",
        "  \n",
        "  \n",
        "    for j in range(i-1):\n",
        "      \n",
        "        s -= 1\n",
        "        net.add(Dense(int(2**s), activation='relu'))\n",
        "      \n",
        "      \n",
        "    net.add(Dense(10, activation='softmax')) \n",
        "    net.compile(loss='categorical_crossentropy', optimizer='adam', metrics=['accuracy'])\n",
        "  \n",
        "  \n",
        "    for f in range(10,n_epoch_max+1):\n",
        "      print('number of epoch ... ', f)\n",
        "      net.summary()\n",
        "      history = net.fit(X_train, y_train_one_hot, batch_size=128, epochs=f, \n",
        "                  verbose=2, callbacks = callbacks)\n",
        "      \n",
        "      y_pred_one_hot = net.predict(X_test)\n",
        "      y_pred_labels = np.argmax(y_pred_one_hot, axis=1)\n",
        "      \n",
        "      your_score = accuracy_score(y_test, y_pred_labels)\n",
        "      if your_score > score:\n",
        "        print('Your accuracy on a test dataset =', your_score)\n",
        "        print('best n_epoch = ', f)\n",
        "        print('best n_layers = ', i)\n",
        "        break\n",
        "    break\n",
        "    "
      ],
      "execution_count": 0,
      "outputs": []
    },
    {
      "metadata": {
        "id": "jBBmgc-MNZSk",
        "colab_type": "code",
        "outputId": "669b5070-7c3f-43be-92e1-1111eb035d1c",
        "colab": {
          "base_uri": "https://localhost:8080/",
          "height": 1398
        }
      },
      "cell_type": "code",
      "source": [
        "make_better(n_layers_max=6, n_epoch_max=20, X_train=X_train, y_train=y_train_one_hot, X_test=X_test, y_t=y_test_one_hot)"
      ],
      "execution_count": 0,
      "outputs": [
        {
          "output_type": "stream",
          "text": [
            "number of epoch ...  10\n",
            "_________________________________________________________________\n",
            "Layer (type)                 Output Shape              Param #   \n",
            "=================================================================\n",
            "dense_13 (Dense)             (None, 512)               401920    \n",
            "_________________________________________________________________\n",
            "dense_14 (Dense)             (None, 256)               131328    \n",
            "_________________________________________________________________\n",
            "dense_15 (Dense)             (None, 128)               32896     \n",
            "_________________________________________________________________\n",
            "dense_16 (Dense)             (None, 10)                1290      \n",
            "=================================================================\n",
            "Total params: 567,434\n",
            "Trainable params: 567,434\n",
            "Non-trainable params: 0\n",
            "_________________________________________________________________\n",
            "Epoch 1/10\n",
            " - 3s - loss: 0.2331 - acc: 0.9313\n",
            "Epoch 2/10\n"
          ],
          "name": "stdout"
        },
        {
          "output_type": "stream",
          "text": [
            "/usr/local/lib/python3.6/dist-packages/keras/callbacks.py:434: RuntimeWarning: Can save best model only with val_loss available, skipping.\n",
            "  'skipping.' % (self.monitor), RuntimeWarning)\n",
            "/usr/local/lib/python3.6/dist-packages/keras/callbacks.py:569: RuntimeWarning: Early stopping conditioned on metric `val_acc` which is not available. Available metrics are: loss,acc\n",
            "  (self.monitor, ','.join(list(logs.keys()))), RuntimeWarning\n"
          ],
          "name": "stderr"
        },
        {
          "output_type": "stream",
          "text": [
            " - 3s - loss: 0.0847 - acc: 0.9741\n",
            "Epoch 3/10\n",
            " - 3s - loss: 0.0550 - acc: 0.9826\n",
            "Epoch 4/10\n",
            " - 3s - loss: 0.0406 - acc: 0.9869\n",
            "Epoch 5/10\n",
            " - 3s - loss: 0.0301 - acc: 0.9900\n",
            "Epoch 6/10\n",
            " - 3s - loss: 0.0257 - acc: 0.9918\n",
            "Epoch 7/10\n",
            " - 3s - loss: 0.0225 - acc: 0.9925\n",
            "Epoch 8/10\n",
            " - 3s - loss: 0.0211 - acc: 0.9930\n",
            "Epoch 9/10\n",
            " - 3s - loss: 0.0148 - acc: 0.9954\n",
            "Epoch 10/10\n",
            " - 3s - loss: 0.0145 - acc: 0.9953\n",
            "number of epoch ...  11\n",
            "_________________________________________________________________\n",
            "Layer (type)                 Output Shape              Param #   \n",
            "=================================================================\n",
            "dense_13 (Dense)             (None, 512)               401920    \n",
            "_________________________________________________________________\n",
            "dense_14 (Dense)             (None, 256)               131328    \n",
            "_________________________________________________________________\n",
            "dense_15 (Dense)             (None, 128)               32896     \n",
            "_________________________________________________________________\n",
            "dense_16 (Dense)             (None, 10)                1290      \n",
            "=================================================================\n",
            "Total params: 567,434\n",
            "Trainable params: 567,434\n",
            "Non-trainable params: 0\n",
            "_________________________________________________________________\n",
            "Epoch 1/11\n",
            " - 3s - loss: 0.0172 - acc: 0.9947\n",
            "Epoch 2/11\n",
            " - 3s - loss: 0.0112 - acc: 0.9967\n",
            "Epoch 3/11\n",
            " - 3s - loss: 0.0128 - acc: 0.9957\n",
            "Epoch 4/11\n",
            " - 3s - loss: 0.0125 - acc: 0.9960\n",
            "Epoch 5/11\n",
            " - 3s - loss: 0.0099 - acc: 0.9970\n",
            "Epoch 6/11\n",
            " - 3s - loss: 0.0098 - acc: 0.9966\n",
            "Epoch 7/11\n",
            " - 3s - loss: 0.0104 - acc: 0.9969\n",
            "Epoch 8/11\n",
            " - 3s - loss: 0.0077 - acc: 0.9974\n",
            "Epoch 9/11\n",
            " - 3s - loss: 0.0107 - acc: 0.9968\n",
            "Epoch 10/11\n",
            " - 3s - loss: 0.0066 - acc: 0.9979\n",
            "Epoch 11/11\n",
            " - 3s - loss: 0.0101 - acc: 0.9969\n",
            "Your accuracy on a test dataset = 0.983\n",
            "best n_epoch =  11\n",
            "best n_layers =  3\n"
          ],
          "name": "stdout"
        }
      ]
    },
    {
      "metadata": {
        "id": "1KDaqKrKLxr4",
        "colab_type": "text"
      },
      "cell_type": "markdown",
      "source": [
        "### Getting a test score"
      ]
    },
    {
      "metadata": {
        "id": "L7kHrJJ2Lxr4",
        "colab_type": "code",
        "outputId": "042d838c-ff52-473f-c3b3-bca75e9577dc",
        "colab": {
          "base_uri": "https://localhost:8080/",
          "height": 34
        }
      },
      "cell_type": "code",
      "source": [
        "# Делаем предикт сеткой и получаем One Hot матрицу\n",
        "y_pred_one_hot = net.predict(X_test)\n",
        "# Преобразовываем ее в ответы\n",
        "y_pred_labels = np.argmax(y_pred_one_hot, axis=1)\n",
        "\n",
        "# Считаем ваш скор\n",
        "your_score = accuracy_score(y_test, y_pred_labels)\n",
        "print('Your accuracy on a test dataset =', your_score)"
      ],
      "execution_count": 0,
      "outputs": [
        {
          "output_type": "stream",
          "text": [
            "Your accuracy on a test dataset = 0.9824\n"
          ],
          "name": "stdout"
        }
      ]
    },
    {
      "metadata": {
        "id": "QNFT5SarLxr8",
        "colab_type": "code",
        "colab": {}
      },
      "cell_type": "code",
      "source": [
        ""
      ],
      "execution_count": 0,
      "outputs": []
    }
  ]
}