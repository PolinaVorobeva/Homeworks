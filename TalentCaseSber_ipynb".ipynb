{
  "cells": [
    {
      "cell_type": "markdown",
      "metadata": {
        "id": "view-in-github",
        "colab_type": "text"
      },
      "source": [
        "<a href=\"https://colab.research.google.com/github/PolinaVorobeva/Homeworks/blob/master/TalentCaseSber_ipynb%22.ipynb\" target=\"_parent\"><img src=\"https://colab.research.google.com/assets/colab-badge.svg\" alt=\"Open In Colab\"/></a>"
      ]
    },
    {
      "cell_type": "markdown",
      "metadata": {
        "id": "aVcFRr-61MiV"
      },
      "source": [
        "# ЗАГРУЗКА"
      ]
    },
    {
      "cell_type": "code",
      "execution_count": null,
      "metadata": {
        "colab": {
          "base_uri": "https://localhost:8080/"
        },
        "id": "OnS5pVD5mKld",
        "outputId": "c48a1137-edb1-48fe-8d91-6e3f33b0222d"
      },
      "outputs": [
        {
          "output_type": "stream",
          "name": "stdout",
          "text": [
            "Collecting dostoevsky\n",
            "  Downloading dostoevsky-0.6.0-py2.py3-none-any.whl (8.5 kB)\n",
            "Collecting fasttext==0.9.2 (from dostoevsky)\n",
            "  Downloading fasttext-0.9.2.tar.gz (68 kB)\n",
            "\u001b[?25l     \u001b[90m━━━━━━━━━━━━━━━━━━━━━━━━━━━━━━━━━━━━━━━━\u001b[0m \u001b[32m0.0/68.8 kB\u001b[0m \u001b[31m?\u001b[0m eta \u001b[36m-:--:--\u001b[0m\r\u001b[2K     \u001b[90m━━━━━━━━━━━━━━━━━━━━━━━━━━━━━━━━━━━━━━━━\u001b[0m \u001b[32m68.8/68.8 kB\u001b[0m \u001b[31m4.5 MB/s\u001b[0m eta \u001b[36m0:00:00\u001b[0m\n",
            "\u001b[?25h  Preparing metadata (setup.py) ... \u001b[?25l\u001b[?25hdone\n",
            "Collecting razdel==0.5.0 (from dostoevsky)\n",
            "  Downloading razdel-0.5.0-py3-none-any.whl (21 kB)\n",
            "Collecting pybind11>=2.2 (from fasttext==0.9.2->dostoevsky)\n",
            "  Using cached pybind11-2.10.4-py3-none-any.whl (222 kB)\n",
            "Requirement already satisfied: setuptools>=0.7.0 in /usr/local/lib/python3.10/dist-packages (from fasttext==0.9.2->dostoevsky) (67.7.2)\n",
            "Requirement already satisfied: numpy in /usr/local/lib/python3.10/dist-packages (from fasttext==0.9.2->dostoevsky) (1.22.4)\n",
            "Building wheels for collected packages: fasttext\n",
            "  Building wheel for fasttext (setup.py) ... \u001b[?25l\u001b[?25hdone\n",
            "  Created wheel for fasttext: filename=fasttext-0.9.2-cp310-cp310-linux_x86_64.whl size=4393296 sha256=b8e53dd289c116b6a723222c8f7417e00bd2fdc1e2a843329110f64191e1a76f\n",
            "  Stored in directory: /root/.cache/pip/wheels/a5/13/75/f811c84a8ab36eedbaef977a6a58a98990e8e0f1967f98f394\n",
            "Successfully built fasttext\n",
            "Installing collected packages: razdel, pybind11, fasttext, dostoevsky\n",
            "Successfully installed dostoevsky-0.6.0 fasttext-0.9.2 pybind11-2.10.4 razdel-0.5.0\n"
          ]
        }
      ],
      "source": [
        "!pip install dostoevsky"
      ]
    },
    {
      "cell_type": "code",
      "execution_count": null,
      "metadata": {
        "colab": {
          "base_uri": "https://localhost:8080/"
        },
        "id": "SsTm4jvlYDov",
        "outputId": "bd650d24-da42-4923-efa8-92b61a5a5085"
      },
      "outputs": [
        {
          "output_type": "stream",
          "name": "stdout",
          "text": [
            "Collecting pymorphy2\n",
            "  Downloading pymorphy2-0.9.1-py3-none-any.whl (55 kB)\n",
            "\u001b[?25l     \u001b[90m━━━━━━━━━━━━━━━━━━━━━━━━━━━━━━━━━━━━━━━━\u001b[0m \u001b[32m0.0/55.5 kB\u001b[0m \u001b[31m?\u001b[0m eta \u001b[36m-:--:--\u001b[0m\r\u001b[2K     \u001b[90m━━━━━━━━━━━━━━━━━━━━━━━━━━━━━━━━━━━━━━━━\u001b[0m \u001b[32m55.5/55.5 kB\u001b[0m \u001b[31m5.7 MB/s\u001b[0m eta \u001b[36m0:00:00\u001b[0m\n",
            "\u001b[?25hCollecting dawg-python>=0.7.1 (from pymorphy2)\n",
            "  Downloading DAWG_Python-0.7.2-py2.py3-none-any.whl (11 kB)\n",
            "Collecting pymorphy2-dicts-ru<3.0,>=2.4 (from pymorphy2)\n",
            "  Downloading pymorphy2_dicts_ru-2.4.417127.4579844-py2.py3-none-any.whl (8.2 MB)\n",
            "\u001b[2K     \u001b[90m━━━━━━━━━━━━━━━━━━━━━━━━━━━━━━━━━━━━━━━━\u001b[0m \u001b[32m8.2/8.2 MB\u001b[0m \u001b[31m55.7 MB/s\u001b[0m eta \u001b[36m0:00:00\u001b[0m\n",
            "\u001b[?25hCollecting docopt>=0.6 (from pymorphy2)\n",
            "  Downloading docopt-0.6.2.tar.gz (25 kB)\n",
            "  Preparing metadata (setup.py) ... \u001b[?25l\u001b[?25hdone\n",
            "Building wheels for collected packages: docopt\n",
            "  Building wheel for docopt (setup.py) ... \u001b[?25l\u001b[?25hdone\n",
            "  Created wheel for docopt: filename=docopt-0.6.2-py2.py3-none-any.whl size=13707 sha256=073552ded33f61e7a57056c907b4e52e123218084fc80dd635dce02468ba2417\n",
            "  Stored in directory: /root/.cache/pip/wheels/fc/ab/d4/5da2067ac95b36618c629a5f93f809425700506f72c9732fac\n",
            "Successfully built docopt\n",
            "Installing collected packages: pymorphy2-dicts-ru, docopt, dawg-python, pymorphy2\n",
            "Successfully installed dawg-python-0.7.2 docopt-0.6.2 pymorphy2-0.9.1 pymorphy2-dicts-ru-2.4.417127.4579844\n"
          ]
        }
      ],
      "source": [
        "!pip install pymorphy2"
      ]
    },
    {
      "cell_type": "code",
      "execution_count": null,
      "metadata": {
        "colab": {
          "base_uri": "https://localhost:8080/"
        },
        "id": "kpEi_rSRnJXr",
        "outputId": "8f336f42-e8f5-47c5-96da-5f30df70bd20"
      },
      "outputs": [
        {
          "output_type": "stream",
          "name": "stdout",
          "text": [
            "Collecting sentence_transformers\n",
            "  Downloading sentence-transformers-2.2.2.tar.gz (85 kB)\n",
            "\u001b[2K     \u001b[90m━━━━━━━━━━━━━━━━━━━━━━━━━━━━━━━━━━━━━━━━\u001b[0m \u001b[32m86.0/86.0 kB\u001b[0m \u001b[31m5.4 MB/s\u001b[0m eta \u001b[36m0:00:00\u001b[0m\n",
            "\u001b[?25h  Preparing metadata (setup.py) ... \u001b[?25l\u001b[?25hdone\n",
            "Collecting transformers<5.0.0,>=4.6.0 (from sentence_transformers)\n",
            "  Downloading transformers-4.30.2-py3-none-any.whl (7.2 MB)\n",
            "\u001b[2K     \u001b[90m━━━━━━━━━━━━━━━━━━━━━━━━━━━━━━━━━━━━━━━━\u001b[0m \u001b[32m7.2/7.2 MB\u001b[0m \u001b[31m87.4 MB/s\u001b[0m eta \u001b[36m0:00:00\u001b[0m\n",
            "\u001b[?25hRequirement already satisfied: tqdm in /usr/local/lib/python3.10/dist-packages (from sentence_transformers) (4.65.0)\n",
            "Requirement already satisfied: torch>=1.6.0 in /usr/local/lib/python3.10/dist-packages (from sentence_transformers) (2.0.1+cu118)\n",
            "Requirement already satisfied: torchvision in /usr/local/lib/python3.10/dist-packages (from sentence_transformers) (0.15.2+cu118)\n",
            "Requirement already satisfied: numpy in /usr/local/lib/python3.10/dist-packages (from sentence_transformers) (1.22.4)\n",
            "Requirement already satisfied: scikit-learn in /usr/local/lib/python3.10/dist-packages (from sentence_transformers) (1.2.2)\n",
            "Requirement already satisfied: scipy in /usr/local/lib/python3.10/dist-packages (from sentence_transformers) (1.10.1)\n",
            "Requirement already satisfied: nltk in /usr/local/lib/python3.10/dist-packages (from sentence_transformers) (3.8.1)\n",
            "Collecting sentencepiece (from sentence_transformers)\n",
            "  Downloading sentencepiece-0.1.99-cp310-cp310-manylinux_2_17_x86_64.manylinux2014_x86_64.whl (1.3 MB)\n",
            "\u001b[2K     \u001b[90m━━━━━━━━━━━━━━━━━━━━━━━━━━━━━━━━━━━━━━━━\u001b[0m \u001b[32m1.3/1.3 MB\u001b[0m \u001b[31m84.5 MB/s\u001b[0m eta \u001b[36m0:00:00\u001b[0m\n",
            "\u001b[?25hCollecting huggingface-hub>=0.4.0 (from sentence_transformers)\n",
            "  Downloading huggingface_hub-0.16.4-py3-none-any.whl (268 kB)\n",
            "\u001b[2K     \u001b[90m━━━━━━━━━━━━━━━━━━━━━━━━━━━━━━━━━━━━━━\u001b[0m \u001b[32m268.8/268.8 kB\u001b[0m \u001b[31m26.7 MB/s\u001b[0m eta \u001b[36m0:00:00\u001b[0m\n",
            "\u001b[?25hRequirement already satisfied: filelock in /usr/local/lib/python3.10/dist-packages (from huggingface-hub>=0.4.0->sentence_transformers) (3.12.2)\n",
            "Requirement already satisfied: fsspec in /usr/local/lib/python3.10/dist-packages (from huggingface-hub>=0.4.0->sentence_transformers) (2023.6.0)\n",
            "Requirement already satisfied: requests in /usr/local/lib/python3.10/dist-packages (from huggingface-hub>=0.4.0->sentence_transformers) (2.27.1)\n",
            "Requirement already satisfied: pyyaml>=5.1 in /usr/local/lib/python3.10/dist-packages (from huggingface-hub>=0.4.0->sentence_transformers) (6.0)\n",
            "Requirement already satisfied: typing-extensions>=3.7.4.3 in /usr/local/lib/python3.10/dist-packages (from huggingface-hub>=0.4.0->sentence_transformers) (4.7.1)\n",
            "Requirement already satisfied: packaging>=20.9 in /usr/local/lib/python3.10/dist-packages (from huggingface-hub>=0.4.0->sentence_transformers) (23.1)\n",
            "Requirement already satisfied: sympy in /usr/local/lib/python3.10/dist-packages (from torch>=1.6.0->sentence_transformers) (1.11.1)\n",
            "Requirement already satisfied: networkx in /usr/local/lib/python3.10/dist-packages (from torch>=1.6.0->sentence_transformers) (3.1)\n",
            "Requirement already satisfied: jinja2 in /usr/local/lib/python3.10/dist-packages (from torch>=1.6.0->sentence_transformers) (3.1.2)\n",
            "Requirement already satisfied: triton==2.0.0 in /usr/local/lib/python3.10/dist-packages (from torch>=1.6.0->sentence_transformers) (2.0.0)\n",
            "Requirement already satisfied: cmake in /usr/local/lib/python3.10/dist-packages (from triton==2.0.0->torch>=1.6.0->sentence_transformers) (3.25.2)\n",
            "Requirement already satisfied: lit in /usr/local/lib/python3.10/dist-packages (from triton==2.0.0->torch>=1.6.0->sentence_transformers) (16.0.6)\n",
            "Requirement already satisfied: regex!=2019.12.17 in /usr/local/lib/python3.10/dist-packages (from transformers<5.0.0,>=4.6.0->sentence_transformers) (2022.10.31)\n",
            "Collecting tokenizers!=0.11.3,<0.14,>=0.11.1 (from transformers<5.0.0,>=4.6.0->sentence_transformers)\n",
            "  Downloading tokenizers-0.13.3-cp310-cp310-manylinux_2_17_x86_64.manylinux2014_x86_64.whl (7.8 MB)\n",
            "\u001b[2K     \u001b[90m━━━━━━━━━━━━━━━━━━━━━━━━━━━━━━━━━━━━━━━━\u001b[0m \u001b[32m7.8/7.8 MB\u001b[0m \u001b[31m134.3 MB/s\u001b[0m eta \u001b[36m0:00:00\u001b[0m\n",
            "\u001b[?25hCollecting safetensors>=0.3.1 (from transformers<5.0.0,>=4.6.0->sentence_transformers)\n",
            "  Downloading safetensors-0.3.1-cp310-cp310-manylinux_2_17_x86_64.manylinux2014_x86_64.whl (1.3 MB)\n",
            "\u001b[2K     \u001b[90m━━━━━━━━━━━━━━━━━━━━━━━━━━━━━━━━━━━━━━━━\u001b[0m \u001b[32m1.3/1.3 MB\u001b[0m \u001b[31m91.3 MB/s\u001b[0m eta \u001b[36m0:00:00\u001b[0m\n",
            "\u001b[?25hRequirement already satisfied: click in /usr/local/lib/python3.10/dist-packages (from nltk->sentence_transformers) (8.1.4)\n",
            "Requirement already satisfied: joblib in /usr/local/lib/python3.10/dist-packages (from nltk->sentence_transformers) (1.3.1)\n",
            "Requirement already satisfied: threadpoolctl>=2.0.0 in /usr/local/lib/python3.10/dist-packages (from scikit-learn->sentence_transformers) (3.1.0)\n",
            "Requirement already satisfied: pillow!=8.3.*,>=5.3.0 in /usr/local/lib/python3.10/dist-packages (from torchvision->sentence_transformers) (8.4.0)\n",
            "Requirement already satisfied: MarkupSafe>=2.0 in /usr/local/lib/python3.10/dist-packages (from jinja2->torch>=1.6.0->sentence_transformers) (2.1.3)\n",
            "Requirement already satisfied: urllib3<1.27,>=1.21.1 in /usr/local/lib/python3.10/dist-packages (from requests->huggingface-hub>=0.4.0->sentence_transformers) (1.26.16)\n",
            "Requirement already satisfied: certifi>=2017.4.17 in /usr/local/lib/python3.10/dist-packages (from requests->huggingface-hub>=0.4.0->sentence_transformers) (2023.5.7)\n",
            "Requirement already satisfied: charset-normalizer~=2.0.0 in /usr/local/lib/python3.10/dist-packages (from requests->huggingface-hub>=0.4.0->sentence_transformers) (2.0.12)\n",
            "Requirement already satisfied: idna<4,>=2.5 in /usr/local/lib/python3.10/dist-packages (from requests->huggingface-hub>=0.4.0->sentence_transformers) (3.4)\n",
            "Requirement already satisfied: mpmath>=0.19 in /usr/local/lib/python3.10/dist-packages (from sympy->torch>=1.6.0->sentence_transformers) (1.3.0)\n",
            "Building wheels for collected packages: sentence_transformers\n",
            "  Building wheel for sentence_transformers (setup.py) ... \u001b[?25l\u001b[?25hdone\n",
            "  Created wheel for sentence_transformers: filename=sentence_transformers-2.2.2-py3-none-any.whl size=125926 sha256=de07c283e7a8fb32ff16c30d1f1d4a8c88fc0967355f15fc0919caf77dbc289f\n",
            "  Stored in directory: /root/.cache/pip/wheels/62/f2/10/1e606fd5f02395388f74e7462910fe851042f97238cbbd902f\n",
            "Successfully built sentence_transformers\n",
            "Installing collected packages: tokenizers, sentencepiece, safetensors, huggingface-hub, transformers, sentence_transformers\n",
            "Successfully installed huggingface-hub-0.16.4 safetensors-0.3.1 sentence_transformers-2.2.2 sentencepiece-0.1.99 tokenizers-0.13.3 transformers-4.30.2\n"
          ]
        }
      ],
      "source": [
        "!pip install sentence_transformers"
      ]
    },
    {
      "cell_type": "code",
      "source": [
        "!pip install circlify"
      ],
      "metadata": {
        "id": "EfMOEZOIpo0Y",
        "colab": {
          "base_uri": "https://localhost:8080/"
        },
        "outputId": "dd04ae9a-c41b-4261-a673-f30d8c4308af"
      },
      "execution_count": null,
      "outputs": [
        {
          "output_type": "stream",
          "name": "stdout",
          "text": [
            "Collecting circlify\n",
            "  Downloading circlify-0.15.0-py2.py3-none-any.whl (11 kB)\n",
            "Installing collected packages: circlify\n",
            "Successfully installed circlify-0.15.0\n"
          ]
        }
      ]
    },
    {
      "cell_type": "code",
      "execution_count": null,
      "metadata": {
        "id": "qijhEbbLmKnZ"
      },
      "outputs": [],
      "source": [
        "!python -m dostoevsky download fasttext-social-network-model"
      ]
    },
    {
      "cell_type": "code",
      "execution_count": null,
      "metadata": {
        "colab": {
          "base_uri": "https://localhost:8080/",
          "referenced_widgets": [
            "f7421e116abd4d6d8a9ed42433962ed8",
            "ff0e9e98e88244dc845416943d7c5d70",
            "c5c60c2e2f8f462cac63c452e568137f",
            "77ae5a4772f14a9a9306d040b6bc8119",
            "d8213205ab634f9da7dd86693d78c762",
            "8af43831f62b4a719345308850978ea1",
            "a3d83c24cce74c5eac795026e4dfa425",
            "9a906c017e624d6d88b4acc07725bf0e",
            "eebbdb01235643db891109b638952842",
            "87f1bd3ab29a4c7293de8da33249551d",
            "2e8e3c0da4874ab39a23568c98188c2a",
            "79cb34e77b0548a39f0c8c79ff58b159",
            "b1d03d6c79f84e8092099f8ed3eb753f",
            "9e654a4b89dd4e3e953a36b09a9b5d5b",
            "671513a87cac4ce7a995fbdd02f33d14",
            "17398889e1ef4e30a673d14a493be936",
            "18fe1cb151dc4a1e8f2b81196d6d047d",
            "b0dcbc7ca15640dc8afd5d502fbdbf8c",
            "587af4fffa9944928b0f09b26b0fda86",
            "02de14f990f549b29df708cc3e47f74b",
            "4c79302645c64d42862ab5dfaddb35a1",
            "4cb40259ec954c599add3d4248b54203",
            "6d52eb0025b0471d827502d26d439968",
            "41816b2fe71046daa50ae1679294e238",
            "f52d769fa6d5461c87253e16d0d9ccba",
            "d1476e03463b4b0a906f60f70606235e",
            "7137df8a424649819320a1f8c1dfda22",
            "6306a67e39b14e99b40b0f8348a04ad4",
            "13c254c101ea4e6f8d1c1e45c011a2c7",
            "c7f8a5ca8d47430585b1dc6a62963879",
            "2916c60a16ac4c96b9db8ee199f0f3c1",
            "e604cab300bb4bd4bab31c03cac89579",
            "99b646fd5a0f4ef9b5638d4aff8eef86",
            "a3c1422492c7468693d28fde439fc8bb",
            "dfb3771d5cf7426a87bb846e110925ef",
            "21f229f296884fd781dbffb4499b2124",
            "89d94440e4e2420397f04b21fd20c4d7",
            "2fd4bc253dd64a3c80670e50bc59f942",
            "c0377279381647cca8a0089079d995be",
            "bf434a4fb67e4e8ab0757ebd1e59fa6f",
            "c2e48851ec3e4e378b4c53e3acfb4832",
            "8b54901353b144d89280ec8b5641ca54",
            "30b8cefddb0b4e5cbf402802fb56b6f3",
            "fef9ab9701e0490baf62705e9a272301",
            "5ca67c7989f5478ea8d33472e2761c20",
            "f25b6e055e204313bd6418288cfed3f5",
            "cea2bdcc3290448eb901e70e3a1f78e4",
            "73d76e226bce427d8077fbebd50aff82",
            "cb787e14fe334e71b4d733246dee4d78",
            "2ed06fc9cd194ac69d776750f8ef7d05",
            "e5a25a6d7783492186bfd2ebfdbc4b6c",
            "66da366d78694cc3a0b5550f3a2f8af8",
            "daf6de88439f435d86fe40be0de64037",
            "5c5e3497246d4830b42b72b8290fc84b",
            "76e782373113413f9ee6f2c7e9343e03",
            "947522e293e54751a8c925082e8ed0a4",
            "13c4d7eb3b7c41b08245e060f0930694",
            "045ecd17ee6547fe85e138e9d8a83968",
            "2f0f39b1d3214666beb463b99aff4990",
            "16a452f23bb74b35829b20f3e8b1f24b",
            "7aea5aa944da4cec81d09f2ef55b5bca",
            "ed01831ff2ff428abeccb63a6300383f",
            "4ac6859efc48432384f4d597a231b6a9",
            "ce75b73c6de54183bd562a24a5bed567",
            "4c009ae1b5ad4ae79fc980c95558aa9e",
            "722f360acc8e4659b6cb5fdbfdae2544",
            "ba69f60b2e334b52ab1955ad7b5d085d",
            "8c3dc4f0cb6643bc809497c54ed76133",
            "5a77f8aba9f548bb8fb5210f4f6aa59d",
            "60e3f4fedcc74b0a9d6442a2859a6a0e",
            "315a78428aef4df099b246114f7eec65",
            "4b67c490eb564f7ba0d7b53dbcb560cb",
            "276bbbbc16664bfe999931950bd6fa33",
            "934d731af7074373828073cc79604f7c",
            "2b93b392b7424fa99c5863ab7bce42ff",
            "27ca0deb28284a3ab192ff51cb93a6bf",
            "b54466901d0b46ee95c6219481261169",
            "99245148434e46ebb6acae373c228a94",
            "50f380c47f434266b60086f33c891ed2",
            "7426b921e6624224a712457bb8ca671a",
            "162419304f384242b60d8e14bd7e76d4",
            "d7175a15a7344fe59f283b3e580f48e8",
            "b975b9510ea148338863fffae1e89cba",
            "1447ac5cd3ee4646b8d8927674fd9fdc",
            "674418cd2e314c968fb8cfbf4b2c0a14",
            "92239211a625492b8449ee6e7b15ae7b",
            "4425b6470158439384c38c8f5227bd24",
            "aeebab5f3f3e4652920888959a613fea"
          ],
          "height": 414
        },
        "id": "iZXG-B_ImKqD",
        "outputId": "17cf2ec3-24a5-490d-f49b-d1db881bd6e2"
      },
      "outputs": [
        {
          "output_type": "stream",
          "name": "stderr",
          "text": [
            "[nltk_data] Downloading package stopwords to /root/nltk_data...\n",
            "[nltk_data]   Unzipping corpora/stopwords.zip.\n",
            "Warning : `load_model` does not return WordVectorModel or SupervisedModel any more, but a `FastText` object which is very similar.\n"
          ]
        },
        {
          "output_type": "display_data",
          "data": {
            "text/plain": [
              "Downloading (…)382ba/.gitattributes:   0%|          | 0.00/445 [00:00<?, ?B/s]"
            ],
            "application/vnd.jupyter.widget-view+json": {
              "version_major": 2,
              "version_minor": 0,
              "model_id": "f7421e116abd4d6d8a9ed42433962ed8"
            }
          },
          "metadata": {}
        },
        {
          "output_type": "display_data",
          "data": {
            "text/plain": [
              "Downloading (…)e19f0382ba/README.md:   0%|          | 0.00/7.10k [00:00<?, ?B/s]"
            ],
            "application/vnd.jupyter.widget-view+json": {
              "version_major": 2,
              "version_minor": 0,
              "model_id": "79cb34e77b0548a39f0c8c79ff58b159"
            }
          },
          "metadata": {}
        },
        {
          "output_type": "display_data",
          "data": {
            "text/plain": [
              "Downloading (…)9f0382ba/config.json:   0%|          | 0.00/625 [00:00<?, ?B/s]"
            ],
            "application/vnd.jupyter.widget-view+json": {
              "version_major": 2,
              "version_minor": 0,
              "model_id": "6d52eb0025b0471d827502d26d439968"
            }
          },
          "metadata": {}
        },
        {
          "output_type": "display_data",
          "data": {
            "text/plain": [
              "Downloading model.safetensors:   0%|          | 0.00/714M [00:00<?, ?B/s]"
            ],
            "application/vnd.jupyter.widget-view+json": {
              "version_major": 2,
              "version_minor": 0,
              "model_id": "a3c1422492c7468693d28fde439fc8bb"
            }
          },
          "metadata": {}
        },
        {
          "output_type": "display_data",
          "data": {
            "text/plain": [
              "Downloading pytorch_model.bin:   0%|          | 0.00/714M [00:00<?, ?B/s]"
            ],
            "application/vnd.jupyter.widget-view+json": {
              "version_major": 2,
              "version_minor": 0,
              "model_id": "5ca67c7989f5478ea8d33472e2761c20"
            }
          },
          "metadata": {}
        },
        {
          "output_type": "display_data",
          "data": {
            "text/plain": [
              "Downloading (…)382ba/tokenizer.json:   0%|          | 0.00/1.96M [00:00<?, ?B/s]"
            ],
            "application/vnd.jupyter.widget-view+json": {
              "version_major": 2,
              "version_minor": 0,
              "model_id": "947522e293e54751a8c925082e8ed0a4"
            }
          },
          "metadata": {}
        },
        {
          "output_type": "display_data",
          "data": {
            "text/plain": [
              "Downloading (…)okenizer_config.json:   0%|          | 0.00/29.0 [00:00<?, ?B/s]"
            ],
            "application/vnd.jupyter.widget-view+json": {
              "version_major": 2,
              "version_minor": 0,
              "model_id": "ba69f60b2e334b52ab1955ad7b5d085d"
            }
          },
          "metadata": {}
        },
        {
          "output_type": "display_data",
          "data": {
            "text/plain": [
              "Downloading (…)e19f0382ba/vocab.txt:   0%|          | 0.00/996k [00:00<?, ?B/s]"
            ],
            "application/vnd.jupyter.widget-view+json": {
              "version_major": 2,
              "version_minor": 0,
              "model_id": "99245148434e46ebb6acae373c228a94"
            }
          },
          "metadata": {}
        },
        {
          "output_type": "stream",
          "name": "stderr",
          "text": [
            "WARNING:sentence_transformers.SentenceTransformer:No sentence-transformers model found with name /root/.cache/torch/sentence_transformers/bert-base-multilingual-cased. Creating a new one with MEAN pooling.\n",
            "Some weights of the model checkpoint at /root/.cache/torch/sentence_transformers/bert-base-multilingual-cased were not used when initializing BertModel: ['cls.seq_relationship.weight', 'cls.predictions.transform.dense.weight', 'cls.seq_relationship.bias', 'cls.predictions.bias', 'cls.predictions.transform.LayerNorm.weight', 'cls.predictions.transform.LayerNorm.bias', 'cls.predictions.transform.dense.bias']\n",
            "- This IS expected if you are initializing BertModel from the checkpoint of a model trained on another task or with another architecture (e.g. initializing a BertForSequenceClassification model from a BertForPreTraining model).\n",
            "- This IS NOT expected if you are initializing BertModel from the checkpoint of a model that you expect to be exactly identical (initializing a BertForSequenceClassification model from a BertForSequenceClassification model).\n"
          ]
        }
      ],
      "source": [
        "import pandas as pd\n",
        "import numpy as np\n",
        "import pymorphy2\n",
        "import re\n",
        "import circlify\n",
        "import matplotlib.pyplot as plt\n",
        "%matplotlib inline\n",
        "\n",
        "import dostoevsky\n",
        "import nltk\n",
        "nltk.download(\"stopwords\")\n",
        "\n",
        "from nltk.corpus import stopwords\n",
        "russian_stopwords = stopwords.words(\"russian\")\n",
        "from pymorphy2 import MorphAnalyzer\n",
        "morph = MorphAnalyzer()\n",
        "\n",
        "from sklearn.feature_extraction.text import TfidfVectorizer\n",
        "from sklearn.metrics.pairwise import cosine_similarity\n",
        "\n",
        "from dostoevsky.tokenization import RegexTokenizer\n",
        "from dostoevsky.models import FastTextSocialNetworkModel\n",
        "\n",
        "##Для всех карт одна предобученная моделька\n",
        "tokenizer = RegexTokenizer()\n",
        "model = FastTextSocialNetworkModel(tokenizer=tokenizer)\n",
        "\n",
        "##или такая предобученная моделька\n",
        "from sentence_transformers import SentenceTransformer\n",
        "# model_stransf = SentenceTransformer('bert-base-nli-mean-tokens')\n",
        "model_stransf = SentenceTransformer('bert-base-multilingual-cased')\n",
        "\n",
        "\n",
        "vectorizer = TfidfVectorizer()\n",
        "\n",
        "from collections import Counter\n",
        "from wordcloud import WordCloud"
      ]
    },
    {
      "cell_type": "markdown",
      "metadata": {
        "id": "aP1NE_1Q4EoT"
      },
      "source": [
        "# ФУНКЦИИ"
      ]
    },
    {
      "cell_type": "markdown",
      "metadata": {
        "id": "B-Ot0D3b809-"
      },
      "source": [
        "### Предобработка"
      ]
    },
    {
      "cell_type": "code",
      "execution_count": null,
      "metadata": {
        "id": "Pbq8p19z1ojm"
      },
      "outputs": [],
      "source": [
        "def preprocessing_defs_odnoklassniki(df_PRACTISE):\n",
        "  # Превращаем колонку лайков в числа и заполняем 0 пропуски\n",
        "  df_PRACTISE['likes'] = df_PRACTISE['likes'].str.lower().str.replace('\\n', ' ', regex = False).str.replace(r'[^\\d]+', '', regex=True)\n",
        "  df_PRACTISE['likes'] = pd.to_numeric(df_PRACTISE['likes'])\n",
        "  df_PRACTISE['likes'] = df_PRACTISE['likes'].fillna(0)\n",
        "  return df_PRACTISE\n",
        "\n",
        "def preprocessing_texts(df_PRACTISE):\n",
        "  # Обрабатываем тексты\n",
        "  df_PRACTISE['text'] = df_PRACTISE['text'].str.lower().str.replace('\\n', ' ', regex = False).str.replace(r'[^\\w\\s\\.\\?,!:;-]+', '', regex=True).str.strip()\n",
        "  # Удаляем получившиеся полностью пустые комментарии, они нам все равно не помогут\n",
        "  df_PRACTISE = df_PRACTISE[df_PRACTISE['text'].astype(bool) == True]\n",
        "  # Удаляем пропуски в колонке тексте\n",
        "  df_PRACTISE.dropna(subset=['text'], inplace=True)\n",
        "\n",
        "  return df_PRACTISE"
      ]
    },
    {
      "cell_type": "markdown",
      "source": [
        "### Для статистики"
      ],
      "metadata": {
        "id": "rQ8b6L0FD-4r"
      }
    },
    {
      "cell_type": "code",
      "source": [
        "def remove_stopwords_normalize(TEXT_SERIES):\n",
        "  clean_text = []\n",
        "  for string in TEXT_SERIES.str.split(' '):\n",
        "    for word in string:\n",
        "      if (word not in russian_stopwords):\n",
        "        # print(f\"RAW FORM IS...{word}\")\n",
        "        word = morph.normal_forms(word)[0]\n",
        "        # print(f\"NORMAL FORM IS...{word}\")\n",
        "        clean_text.append(word)\n",
        "    text = \" \".join(x for x in clean_text)\n",
        "  return clean_text, text"
      ],
      "metadata": {
        "id": "XDq2f5ZSRWUq"
      },
      "execution_count": null,
      "outputs": []
    },
    {
      "cell_type": "code",
      "source": [
        "def preprocessing_texts_raw(TEXT_SERIES):\n",
        "  TEXT_SERIES = TEXT_SERIES.str.lower().str.replace('\\n', ' ', regex = False).str.replace(r'[^\\w\\s]+', '', regex=True).str.strip()\n",
        "  # TEXT_SERIES = TEXT_SERIES.astype(bool) == True\n",
        "  TEXT_SERIES = TEXT_SERIES.dropna()\n",
        "  TEXT_SERIES = TEXT_SERIES.apply(lambda x: re.sub(' +', ' ', x))\n",
        "  raw_text = remove_stopwords_normalize(TEXT_SERIES)\n",
        "\n",
        "  return raw_text"
      ],
      "metadata": {
        "id": "s3-fGoEh_lgJ"
      },
      "execution_count": null,
      "outputs": []
    },
    {
      "cell_type": "markdown",
      "source": [],
      "metadata": {
        "id": "RjLNkbW4ByXK"
      }
    },
    {
      "cell_type": "markdown",
      "metadata": {
        "id": "lI_8EHG-qlMt"
      },
      "source": [
        "### Извлечение постов"
      ]
    },
    {
      "cell_type": "code",
      "execution_count": null,
      "metadata": {
        "id": "raYIkRP1qpBF"
      },
      "outputs": [],
      "source": [
        "def get_posts(df_PRACTISE, column_with_ids, num_of_posts=2, start_post=0):\n",
        "  posts = df_PRACTISE[column_with_ids].value_counts()\n",
        "  print(posts)\n",
        "  ids_for_cognitive_maps = posts.index[start_post:start_post+num_of_posts]\n",
        "\n",
        "  work = []\n",
        "  for i in range(num_of_posts):\n",
        "    post = df_PRACTISE.loc[df_PRACTISE[column_with_ids] == ids_for_cognitive_maps[i]]\n",
        "    work.append(post)\n",
        "  return work"
      ]
    },
    {
      "cell_type": "markdown",
      "metadata": {
        "id": "1rE7CBNj86wy"
      },
      "source": [
        "### Когнитивное картирование"
      ]
    },
    {
      "cell_type": "code",
      "execution_count": null,
      "metadata": {
        "id": "eN-1dIxqpVFj"
      },
      "outputs": [],
      "source": [
        "def sentiments(text):\n",
        "  results = model.predict(text, k = 1)\n",
        "  sentiments = []\n",
        "  for r in results:\n",
        "    sent = list(r.keys())[0]\n",
        "    if (sent == 'speech'): sent = 'neutral'\n",
        "    sentiments.append(sent)\n",
        "  return sentiments"
      ]
    },
    {
      "cell_type": "code",
      "execution_count": null,
      "metadata": {
        "id": "HJGoQwOTpU9E"
      },
      "outputs": [],
      "source": [
        "def semantic_similarity(text):\n",
        "  sentembedding = model_stransf.encode(text.to_list())\n",
        "  scores = np.zeros((sentembedding.shape[0], sentembedding.shape[0]))\n",
        "\n",
        "  for i in range(sentembedding.shape[0]):\n",
        "    scores[i] = cosine_similarity([sentembedding[i]], sentembedding)\n",
        "\n",
        "  # means = []\n",
        "  # for sim in scores:\n",
        "  #   means.append(sim.mean())\n",
        "  # MIN_SIMILARITY = np.mean(means)\n",
        "  # print(\"MEAN SIMILARITY NOW IS \", MIN_SIMILARITY)\n",
        "\n",
        "  return scores"
      ]
    },
    {
      "cell_type": "code",
      "execution_count": null,
      "metadata": {
        "id": "phIG2KaNpUzy"
      },
      "outputs": [],
      "source": [
        "def generate_graph(df_PRACTISE, SCORES, SIMILARITY=0.5):\n",
        "  GRAPH = pd.DataFrame(columns = ['source', 'source label', 'target',\n",
        "                                  'target label', 'sentiment', 'distance'])\n",
        "  count = 0\n",
        "  for i in range (0, len(SCORES)):\n",
        "    comment_similarities = SCORES[i]\n",
        "    k = i+1\n",
        "    for sim in comment_similarities[i+1:]:\n",
        "      if sim > SIMILARITY:\n",
        "        count = count + 1\n",
        "        source = min(df_PRACTISE['time'].iloc[i], df_PRACTISE['time'].iloc[k])\n",
        "        target = max(df_PRACTISE['time'].iloc[i], df_PRACTISE['time'].iloc[k])\n",
        "        source_row = df_PRACTISE.query(f'time == {source}')\n",
        "        target_row = df_PRACTISE.query(f'time == {target}')\n",
        "        # print(source_row['text'].iloc[0])\n",
        "        GRAPH = GRAPH.append({'source': source, 'source label': source_row['text'].iloc[0],\n",
        "                            'target': target, 'target label': target_row['text'].iloc[0],\n",
        "                          'sentiment':  source_row['sentiment'].iloc[0],\n",
        "                           'distance': sim}, ignore_index=True)\n",
        "      k += 1\n",
        "  print(f\"GRAPH HAS... {count} EDGES\")\n",
        "  return GRAPH"
      ]
    },
    {
      "cell_type": "code",
      "execution_count": null,
      "metadata": {
        "id": "HxrBZmpC1bib"
      },
      "outputs": [],
      "source": [
        "def cognitive_maps_pipline(df_PRACTISE, SIMILARITY=0.5):\n",
        "  df_PRACTISE = df_PRACTISE.sort_values('likes', ascending=False)\n",
        "\n",
        "  #эмоциональная окраска\n",
        "  df_PRACTISE['sentiment'] = sentiments(df_PRACTISE['text'])\n",
        "\n",
        "  #семантическая близость\n",
        "  scores = semantic_similarity(df_PRACTISE['text'])\n",
        "\n",
        "  # непосредственно граф\n",
        "  GRAPH = generate_graph(df_PRACTISE, scores, SIMILARITY)\n",
        "\n",
        "  return df_PRACTISE, GRAPH"
      ]
    },
    {
      "cell_type": "markdown",
      "metadata": {
        "id": "T858nKF88_AW"
      },
      "source": [
        "### Форматы сохранения"
      ]
    },
    {
      "cell_type": "code",
      "execution_count": null,
      "metadata": {
        "id": "pM--d3y71eDS"
      },
      "outputs": [],
      "source": [
        "def save_Gephi_format(practise_name, df_PRACTISE, GRAPH):\n",
        "  VERTECES = {'Id': df_PRACTISE['time'], 'Label': df_PRACTISE['text'], 'Sentiment': df_PRACTISE['sentiment']}\n",
        "  VERTECES = pd.DataFrame(data = VERTECES)\n",
        "  VERTECES.to_csv(f'verteces_{practise_name}.csv', index = False)\n",
        "\n",
        "  EDGES = {'Source': GRAPH['source'],'Target': GRAPH['target'],\n",
        "         'Weight': GRAPH['distance'],'Type': \"direct\"}\n",
        "  EDGES = pd.DataFrame(data = EDGES)\n",
        "  EDGES.to_csv(f'edges_{practise_name}.csv', index = False)"
      ]
    },
    {
      "cell_type": "code",
      "execution_count": null,
      "metadata": {
        "id": "hUPoO-8q1nIY"
      },
      "outputs": [],
      "source": [
        "#не работает\n",
        "def save_GC_format(practise_name, df_PRACTISE, GRAPH):\n",
        "  VERTECES = {'Node Type': df_PRACTISE['time'], 'Name': df_PRACTISE['text']}\n",
        "  VERTECES = pd.DataFrame(data = VERTECES)\n",
        "\n",
        "  VERTECES.to_csv(f'verteces_GC_{public_name}.csv', encoding=\"utf-8\")\n",
        "\n",
        "  EDGES = {'From Type': GRAPH['source'], 'From Name': GRAPH['source label'],\n",
        "         'Edge Type': GRAPH['sentiment'],\n",
        "         'To Type': GRAPH['target'], 'To Name': GRAPH['target label'],\n",
        "         'Weight': GRAPH['distance']}\n",
        "  EDGES = pd.DataFrame(data = EDGES)\n",
        "  EDGES.to_csv(f'edges_GC_{public_name}.csv', encoding=\"utf-8\")"
      ]
    },
    {
      "cell_type": "code",
      "source": [],
      "metadata": {
        "id": "3YX-Qz1Rrfhy"
      },
      "execution_count": null,
      "outputs": []
    },
    {
      "cell_type": "markdown",
      "source": [
        "#КАРТЫ"
      ],
      "metadata": {
        "id": "qBk0_HH6FsFt"
      }
    },
    {
      "cell_type": "markdown",
      "source": [
        "## Важная статистика"
      ],
      "metadata": {
        "id": "BKvidYymFWNI"
      }
    },
    {
      "cell_type": "markdown",
      "metadata": {
        "id": "mVcgEwOosldH"
      },
      "source": [
        "Количество ребер: 23 [0.965], 17 [0.977], 20 [0.98], 20 [0.96], 17 [0.9798], 18 [0.977],\n",
        " 17 [0.979], 23 [0.975], 17 [0.94], 17 [0.89]\n",
        "\n",
        "\n",
        " Количество ребер  с другой штукой: 18 [0.775], 15 [0.86], 19 [0.86], 16 [0.83], 16 [0.87], 19 [0.86],\n",
        " 17 [0.92], 18 [0.89], 16 [0.74], 18 [0.75]\n"
      ]
    },
    {
      "cell_type": "markdown",
      "metadata": {
        "id": "-8Qi-ljao40m"
      },
      "source": [
        "## СПОРТ_ОДНОКЛАССНИКИ_2"
      ]
    },
    {
      "cell_type": "markdown",
      "metadata": {
        "id": "rC6WPoZs4En0"
      },
      "source": [
        "#### загрузка"
      ]
    },
    {
      "cell_type": "code",
      "execution_count": null,
      "metadata": {
        "id": "jZhxmziTn3Yi"
      },
      "outputs": [],
      "source": [
        "#загрузка\n",
        "public_name = \"спорт_одноклассники_2\"\n",
        "sports0 = pd.read_csv(f\"{public_name}.csv\", header=0, names=[\"time\",\"username\", \"date\",\n",
        "                                                              \"text\", \"likes\"])"
      ]
    },
    {
      "cell_type": "markdown",
      "metadata": {
        "id": "o0lteI1B4Lk1"
      },
      "source": [
        "#### предобработка"
      ]
    },
    {
      "cell_type": "code",
      "execution_count": null,
      "metadata": {
        "colab": {
          "base_uri": "https://localhost:8080/"
        },
        "id": "EVd7TuPPalaW",
        "outputId": "fe56af3f-ebaf-4b5f-b0a8-782893d78edc"
      },
      "outputs": [
        {
          "output_type": "stream",
          "name": "stderr",
          "text": [
            "<ipython-input-9-4f17b0a815ba>:14: SettingWithCopyWarning: \n",
            "A value is trying to be set on a copy of a slice from a DataFrame\n",
            "\n",
            "See the caveats in the documentation: https://pandas.pydata.org/pandas-docs/stable/user_guide/indexing.html#returning-a-view-versus-a-copy\n",
            "  df_PRACTISE.dropna(subset=['text'], inplace=True)\n"
          ]
        }
      ],
      "source": [
        "# предобработка\n",
        "sports0 = preprocessing_defs_odnoklassniki(sports0)\n",
        "sports0 = preprocessing_texts(sports0)"
      ]
    },
    {
      "cell_type": "markdown",
      "metadata": {
        "id": "frTs0_a94Peu"
      },
      "source": [
        "#### картирование"
      ]
    },
    {
      "cell_type": "code",
      "execution_count": null,
      "metadata": {
        "colab": {
          "base_uri": "https://localhost:8080/"
        },
        "id": "3IimHgwzZFX6",
        "outputId": "b3bb154c-5c08-4e13-a0b4-a1fa61bd2c09"
      },
      "outputs": [
        {
          "output_type": "stream",
          "name": "stdout",
          "text": [
            "MEAN SIMILARITY NOW IS  0.636845280993576\n",
            "GRAPH HAS... 18 EDGES\n"
          ]
        },
        {
          "output_type": "stream",
          "name": "stderr",
          "text": [
            "<ipython-input-21-b862181dc70c>:16: FutureWarning: The frame.append method is deprecated and will be removed from pandas in a future version. Use pandas.concat instead.\n",
            "  GRAPH = GRAPH.append({'source': source, 'source label': source_row['text'].iloc[0],\n",
            "<ipython-input-21-b862181dc70c>:16: FutureWarning: The frame.append method is deprecated and will be removed from pandas in a future version. Use pandas.concat instead.\n",
            "  GRAPH = GRAPH.append({'source': source, 'source label': source_row['text'].iloc[0],\n",
            "<ipython-input-21-b862181dc70c>:16: FutureWarning: The frame.append method is deprecated and will be removed from pandas in a future version. Use pandas.concat instead.\n",
            "  GRAPH = GRAPH.append({'source': source, 'source label': source_row['text'].iloc[0],\n",
            "<ipython-input-21-b862181dc70c>:16: FutureWarning: The frame.append method is deprecated and will be removed from pandas in a future version. Use pandas.concat instead.\n",
            "  GRAPH = GRAPH.append({'source': source, 'source label': source_row['text'].iloc[0],\n",
            "<ipython-input-21-b862181dc70c>:16: FutureWarning: The frame.append method is deprecated and will be removed from pandas in a future version. Use pandas.concat instead.\n",
            "  GRAPH = GRAPH.append({'source': source, 'source label': source_row['text'].iloc[0],\n",
            "<ipython-input-21-b862181dc70c>:16: FutureWarning: The frame.append method is deprecated and will be removed from pandas in a future version. Use pandas.concat instead.\n",
            "  GRAPH = GRAPH.append({'source': source, 'source label': source_row['text'].iloc[0],\n",
            "<ipython-input-21-b862181dc70c>:16: FutureWarning: The frame.append method is deprecated and will be removed from pandas in a future version. Use pandas.concat instead.\n",
            "  GRAPH = GRAPH.append({'source': source, 'source label': source_row['text'].iloc[0],\n",
            "<ipython-input-21-b862181dc70c>:16: FutureWarning: The frame.append method is deprecated and will be removed from pandas in a future version. Use pandas.concat instead.\n",
            "  GRAPH = GRAPH.append({'source': source, 'source label': source_row['text'].iloc[0],\n",
            "<ipython-input-21-b862181dc70c>:16: FutureWarning: The frame.append method is deprecated and will be removed from pandas in a future version. Use pandas.concat instead.\n",
            "  GRAPH = GRAPH.append({'source': source, 'source label': source_row['text'].iloc[0],\n",
            "<ipython-input-21-b862181dc70c>:16: FutureWarning: The frame.append method is deprecated and will be removed from pandas in a future version. Use pandas.concat instead.\n",
            "  GRAPH = GRAPH.append({'source': source, 'source label': source_row['text'].iloc[0],\n",
            "<ipython-input-21-b862181dc70c>:16: FutureWarning: The frame.append method is deprecated and will be removed from pandas in a future version. Use pandas.concat instead.\n",
            "  GRAPH = GRAPH.append({'source': source, 'source label': source_row['text'].iloc[0],\n",
            "<ipython-input-21-b862181dc70c>:16: FutureWarning: The frame.append method is deprecated and will be removed from pandas in a future version. Use pandas.concat instead.\n",
            "  GRAPH = GRAPH.append({'source': source, 'source label': source_row['text'].iloc[0],\n",
            "<ipython-input-21-b862181dc70c>:16: FutureWarning: The frame.append method is deprecated and will be removed from pandas in a future version. Use pandas.concat instead.\n",
            "  GRAPH = GRAPH.append({'source': source, 'source label': source_row['text'].iloc[0],\n",
            "<ipython-input-21-b862181dc70c>:16: FutureWarning: The frame.append method is deprecated and will be removed from pandas in a future version. Use pandas.concat instead.\n",
            "  GRAPH = GRAPH.append({'source': source, 'source label': source_row['text'].iloc[0],\n",
            "<ipython-input-21-b862181dc70c>:16: FutureWarning: The frame.append method is deprecated and will be removed from pandas in a future version. Use pandas.concat instead.\n",
            "  GRAPH = GRAPH.append({'source': source, 'source label': source_row['text'].iloc[0],\n",
            "<ipython-input-21-b862181dc70c>:16: FutureWarning: The frame.append method is deprecated and will be removed from pandas in a future version. Use pandas.concat instead.\n",
            "  GRAPH = GRAPH.append({'source': source, 'source label': source_row['text'].iloc[0],\n",
            "<ipython-input-21-b862181dc70c>:16: FutureWarning: The frame.append method is deprecated and will be removed from pandas in a future version. Use pandas.concat instead.\n",
            "  GRAPH = GRAPH.append({'source': source, 'source label': source_row['text'].iloc[0],\n",
            "<ipython-input-21-b862181dc70c>:16: FutureWarning: The frame.append method is deprecated and will be removed from pandas in a future version. Use pandas.concat instead.\n",
            "  GRAPH = GRAPH.append({'source': source, 'source label': source_row['text'].iloc[0],\n"
          ]
        }
      ],
      "source": [
        "#картирование\n",
        "sports0, sports0_graph = cognitive_maps_pipline(sports0, 0.775)"
      ]
    },
    {
      "cell_type": "markdown",
      "metadata": {
        "id": "S9ZMD6naGenx"
      },
      "source": [
        "#### Формат сохранения"
      ]
    },
    {
      "cell_type": "code",
      "execution_count": null,
      "metadata": {
        "id": "1R4wJgvpeXIJ"
      },
      "outputs": [],
      "source": [
        "#создание документов с графами\n",
        "save_Gephi_format(public_name, sports0, sports0_graph)\n",
        "# save_GC_format(public_name, practise, graph)"
      ]
    },
    {
      "cell_type": "markdown",
      "metadata": {
        "id": "IUQ6eMtvpJjW"
      },
      "source": [
        "## СПОРТ_ОДНОКЛАССНИКИ"
      ]
    },
    {
      "cell_type": "markdown",
      "metadata": {
        "id": "Ut1-2ITkC5rK"
      },
      "source": [
        "#### загрузка"
      ]
    },
    {
      "cell_type": "code",
      "execution_count": null,
      "metadata": {
        "id": "RoeONlv9qEnR"
      },
      "outputs": [],
      "source": [
        "#загрузка\n",
        "public_name = \"спорт_одноклассники\"\n",
        "sports1 = pd.read_csv(f\"{public_name}.csv\", header=0, names=[\"time\",\"username\",\n",
        "                                                              \"text\", \"likes\"])"
      ]
    },
    {
      "cell_type": "markdown",
      "metadata": {
        "id": "lR0kFosFC9Hq"
      },
      "source": [
        "#### предобработка"
      ]
    },
    {
      "cell_type": "code",
      "execution_count": null,
      "metadata": {
        "colab": {
          "base_uri": "https://localhost:8080/"
        },
        "id": "l9oKk1KT-Avb",
        "outputId": "b476a6cd-576e-44f7-bf16-cf82a01e2c6b"
      },
      "outputs": [
        {
          "output_type": "stream",
          "name": "stderr",
          "text": [
            "<ipython-input-7-7fd52da3ef66>:15: SettingWithCopyWarning: \n",
            "A value is trying to be set on a copy of a slice from a DataFrame\n",
            "\n",
            "See the caveats in the documentation: https://pandas.pydata.org/pandas-docs/stable/user_guide/indexing.html#returning-a-view-versus-a-copy\n",
            "  df_PRACTISE.dropna(subset=['text'], inplace=True)\n"
          ]
        }
      ],
      "source": [
        "# предобработка\n",
        "\n",
        "sports1 = preprocessing_defs_odnoklassniki(sports1)\n",
        "sports1 = preprocessing_texts(sports1)"
      ]
    },
    {
      "cell_type": "markdown",
      "metadata": {
        "id": "6rlN-k7XC_Do"
      },
      "source": [
        "#### картирование"
      ]
    },
    {
      "cell_type": "code",
      "execution_count": null,
      "metadata": {
        "colab": {
          "base_uri": "https://localhost:8080/"
        },
        "id": "HV6EzQAq-q1t",
        "outputId": "b679f22b-9420-4f06-c493-47c4f3783c93"
      },
      "outputs": [
        {
          "output_type": "stream",
          "name": "stdout",
          "text": [
            "MEAN SIMILARITY NOW IS  0.7032187128067017\n",
            "GRAPH HAS... 15 EDGES\n"
          ]
        },
        {
          "output_type": "stream",
          "name": "stderr",
          "text": [
            "<ipython-input-21-b862181dc70c>:16: FutureWarning: The frame.append method is deprecated and will be removed from pandas in a future version. Use pandas.concat instead.\n",
            "  GRAPH = GRAPH.append({'source': source, 'source label': source_row['text'].iloc[0],\n",
            "<ipython-input-21-b862181dc70c>:16: FutureWarning: The frame.append method is deprecated and will be removed from pandas in a future version. Use pandas.concat instead.\n",
            "  GRAPH = GRAPH.append({'source': source, 'source label': source_row['text'].iloc[0],\n",
            "<ipython-input-21-b862181dc70c>:16: FutureWarning: The frame.append method is deprecated and will be removed from pandas in a future version. Use pandas.concat instead.\n",
            "  GRAPH = GRAPH.append({'source': source, 'source label': source_row['text'].iloc[0],\n",
            "<ipython-input-21-b862181dc70c>:16: FutureWarning: The frame.append method is deprecated and will be removed from pandas in a future version. Use pandas.concat instead.\n",
            "  GRAPH = GRAPH.append({'source': source, 'source label': source_row['text'].iloc[0],\n",
            "<ipython-input-21-b862181dc70c>:16: FutureWarning: The frame.append method is deprecated and will be removed from pandas in a future version. Use pandas.concat instead.\n",
            "  GRAPH = GRAPH.append({'source': source, 'source label': source_row['text'].iloc[0],\n",
            "<ipython-input-21-b862181dc70c>:16: FutureWarning: The frame.append method is deprecated and will be removed from pandas in a future version. Use pandas.concat instead.\n",
            "  GRAPH = GRAPH.append({'source': source, 'source label': source_row['text'].iloc[0],\n",
            "<ipython-input-21-b862181dc70c>:16: FutureWarning: The frame.append method is deprecated and will be removed from pandas in a future version. Use pandas.concat instead.\n",
            "  GRAPH = GRAPH.append({'source': source, 'source label': source_row['text'].iloc[0],\n",
            "<ipython-input-21-b862181dc70c>:16: FutureWarning: The frame.append method is deprecated and will be removed from pandas in a future version. Use pandas.concat instead.\n",
            "  GRAPH = GRAPH.append({'source': source, 'source label': source_row['text'].iloc[0],\n",
            "<ipython-input-21-b862181dc70c>:16: FutureWarning: The frame.append method is deprecated and will be removed from pandas in a future version. Use pandas.concat instead.\n",
            "  GRAPH = GRAPH.append({'source': source, 'source label': source_row['text'].iloc[0],\n",
            "<ipython-input-21-b862181dc70c>:16: FutureWarning: The frame.append method is deprecated and will be removed from pandas in a future version. Use pandas.concat instead.\n",
            "  GRAPH = GRAPH.append({'source': source, 'source label': source_row['text'].iloc[0],\n",
            "<ipython-input-21-b862181dc70c>:16: FutureWarning: The frame.append method is deprecated and will be removed from pandas in a future version. Use pandas.concat instead.\n",
            "  GRAPH = GRAPH.append({'source': source, 'source label': source_row['text'].iloc[0],\n",
            "<ipython-input-21-b862181dc70c>:16: FutureWarning: The frame.append method is deprecated and will be removed from pandas in a future version. Use pandas.concat instead.\n",
            "  GRAPH = GRAPH.append({'source': source, 'source label': source_row['text'].iloc[0],\n",
            "<ipython-input-21-b862181dc70c>:16: FutureWarning: The frame.append method is deprecated and will be removed from pandas in a future version. Use pandas.concat instead.\n",
            "  GRAPH = GRAPH.append({'source': source, 'source label': source_row['text'].iloc[0],\n",
            "<ipython-input-21-b862181dc70c>:16: FutureWarning: The frame.append method is deprecated and will be removed from pandas in a future version. Use pandas.concat instead.\n",
            "  GRAPH = GRAPH.append({'source': source, 'source label': source_row['text'].iloc[0],\n",
            "<ipython-input-21-b862181dc70c>:16: FutureWarning: The frame.append method is deprecated and will be removed from pandas in a future version. Use pandas.concat instead.\n",
            "  GRAPH = GRAPH.append({'source': source, 'source label': source_row['text'].iloc[0],\n"
          ]
        }
      ],
      "source": [
        "#картирование\n",
        "\n",
        "sports1, sports1_graph = cognitive_maps_pipline(sports1, 0.86)"
      ]
    },
    {
      "cell_type": "markdown",
      "metadata": {
        "id": "9XsmJlslDCCi"
      },
      "source": [
        "#### формат сохранения"
      ]
    },
    {
      "cell_type": "code",
      "execution_count": null,
      "metadata": {
        "id": "cECIJXxH6KNT"
      },
      "outputs": [],
      "source": [
        "save_Gephi_format(public_name, sports1, sports1_graph)\n",
        "# save_GC_format(public_name, practise, graph)"
      ]
    },
    {
      "cell_type": "markdown",
      "metadata": {
        "id": "6Flnqe--eerS"
      },
      "source": [
        "## Юридические консультации"
      ]
    },
    {
      "cell_type": "markdown",
      "metadata": {
        "id": "wMwvSt5e23hY"
      },
      "source": [
        "#### загрузка"
      ]
    },
    {
      "cell_type": "code",
      "execution_count": null,
      "metadata": {
        "id": "k-GWnBPcek32"
      },
      "outputs": [],
      "source": [
        "#загрузка\n",
        "name_practise = \"Юридические консультации_Артём\"\n",
        "law = pd.read_excel(f'{name_practise}.xlsx')\n",
        "law = law.rename({'date': 'time'}, axis=1)\n",
        "\n",
        "post_law0, post_law1 = get_posts(law, 'post_id', 2)"
      ]
    },
    {
      "cell_type": "markdown",
      "metadata": {
        "id": "M3-2iMoy27As"
      },
      "source": [
        "#### предобработка"
      ]
    },
    {
      "cell_type": "code",
      "execution_count": null,
      "metadata": {
        "colab": {
          "base_uri": "https://localhost:8080/"
        },
        "id": "jmgl4SHWkeXn",
        "outputId": "4a178244-2645-4274-f5f9-c26172d714ee"
      },
      "outputs": [
        {
          "output_type": "stream",
          "name": "stderr",
          "text": [
            "<ipython-input-7-7fd52da3ef66>:10: SettingWithCopyWarning: \n",
            "A value is trying to be set on a copy of a slice from a DataFrame.\n",
            "Try using .loc[row_indexer,col_indexer] = value instead\n",
            "\n",
            "See the caveats in the documentation: https://pandas.pydata.org/pandas-docs/stable/user_guide/indexing.html#returning-a-view-versus-a-copy\n",
            "  df_PRACTISE['text'] = df_PRACTISE['text'].str.lower().str.replace('\\n', ' ', regex = False).str.replace(r'[^\\w\\s\\.\\?,!:;-]+', '', regex=True).str.strip()\n",
            "<ipython-input-7-7fd52da3ef66>:10: SettingWithCopyWarning: \n",
            "A value is trying to be set on a copy of a slice from a DataFrame.\n",
            "Try using .loc[row_indexer,col_indexer] = value instead\n",
            "\n",
            "See the caveats in the documentation: https://pandas.pydata.org/pandas-docs/stable/user_guide/indexing.html#returning-a-view-versus-a-copy\n",
            "  df_PRACTISE['text'] = df_PRACTISE['text'].str.lower().str.replace('\\n', ' ', regex = False).str.replace(r'[^\\w\\s\\.\\?,!:;-]+', '', regex=True).str.strip()\n"
          ]
        }
      ],
      "source": [
        "# предобработка\n",
        "\n",
        "post_law0 = preprocessing_texts(post_law0)\n",
        "post_law1 = preprocessing_texts(post_law1)"
      ]
    },
    {
      "cell_type": "markdown",
      "metadata": {
        "id": "S6WFI7om2_0D"
      },
      "source": [
        "#### картирование"
      ]
    },
    {
      "cell_type": "code",
      "execution_count": null,
      "metadata": {
        "colab": {
          "base_uri": "https://localhost:8080/"
        },
        "id": "3QEUSAlymGOt",
        "outputId": "b50a62c7-a0cb-4d9c-c65c-5d10f18627ad"
      },
      "outputs": [
        {
          "output_type": "stream",
          "name": "stdout",
          "text": [
            "MEAN SIMILARITY NOW IS  0.7322284583630921\n",
            "GRAPH HAS... 19 EDGES\n"
          ]
        },
        {
          "output_type": "stream",
          "name": "stderr",
          "text": [
            "<ipython-input-21-b862181dc70c>:16: FutureWarning: The frame.append method is deprecated and will be removed from pandas in a future version. Use pandas.concat instead.\n",
            "  GRAPH = GRAPH.append({'source': source, 'source label': source_row['text'].iloc[0],\n",
            "<ipython-input-21-b862181dc70c>:16: FutureWarning: The frame.append method is deprecated and will be removed from pandas in a future version. Use pandas.concat instead.\n",
            "  GRAPH = GRAPH.append({'source': source, 'source label': source_row['text'].iloc[0],\n",
            "<ipython-input-21-b862181dc70c>:16: FutureWarning: The frame.append method is deprecated and will be removed from pandas in a future version. Use pandas.concat instead.\n",
            "  GRAPH = GRAPH.append({'source': source, 'source label': source_row['text'].iloc[0],\n",
            "<ipython-input-21-b862181dc70c>:16: FutureWarning: The frame.append method is deprecated and will be removed from pandas in a future version. Use pandas.concat instead.\n",
            "  GRAPH = GRAPH.append({'source': source, 'source label': source_row['text'].iloc[0],\n",
            "<ipython-input-21-b862181dc70c>:16: FutureWarning: The frame.append method is deprecated and will be removed from pandas in a future version. Use pandas.concat instead.\n",
            "  GRAPH = GRAPH.append({'source': source, 'source label': source_row['text'].iloc[0],\n",
            "<ipython-input-21-b862181dc70c>:16: FutureWarning: The frame.append method is deprecated and will be removed from pandas in a future version. Use pandas.concat instead.\n",
            "  GRAPH = GRAPH.append({'source': source, 'source label': source_row['text'].iloc[0],\n",
            "<ipython-input-21-b862181dc70c>:16: FutureWarning: The frame.append method is deprecated and will be removed from pandas in a future version. Use pandas.concat instead.\n",
            "  GRAPH = GRAPH.append({'source': source, 'source label': source_row['text'].iloc[0],\n",
            "<ipython-input-21-b862181dc70c>:16: FutureWarning: The frame.append method is deprecated and will be removed from pandas in a future version. Use pandas.concat instead.\n",
            "  GRAPH = GRAPH.append({'source': source, 'source label': source_row['text'].iloc[0],\n",
            "<ipython-input-21-b862181dc70c>:16: FutureWarning: The frame.append method is deprecated and will be removed from pandas in a future version. Use pandas.concat instead.\n",
            "  GRAPH = GRAPH.append({'source': source, 'source label': source_row['text'].iloc[0],\n",
            "<ipython-input-21-b862181dc70c>:16: FutureWarning: The frame.append method is deprecated and will be removed from pandas in a future version. Use pandas.concat instead.\n",
            "  GRAPH = GRAPH.append({'source': source, 'source label': source_row['text'].iloc[0],\n",
            "<ipython-input-21-b862181dc70c>:16: FutureWarning: The frame.append method is deprecated and will be removed from pandas in a future version. Use pandas.concat instead.\n",
            "  GRAPH = GRAPH.append({'source': source, 'source label': source_row['text'].iloc[0],\n",
            "<ipython-input-21-b862181dc70c>:16: FutureWarning: The frame.append method is deprecated and will be removed from pandas in a future version. Use pandas.concat instead.\n",
            "  GRAPH = GRAPH.append({'source': source, 'source label': source_row['text'].iloc[0],\n",
            "<ipython-input-21-b862181dc70c>:16: FutureWarning: The frame.append method is deprecated and will be removed from pandas in a future version. Use pandas.concat instead.\n",
            "  GRAPH = GRAPH.append({'source': source, 'source label': source_row['text'].iloc[0],\n",
            "<ipython-input-21-b862181dc70c>:16: FutureWarning: The frame.append method is deprecated and will be removed from pandas in a future version. Use pandas.concat instead.\n",
            "  GRAPH = GRAPH.append({'source': source, 'source label': source_row['text'].iloc[0],\n",
            "<ipython-input-21-b862181dc70c>:16: FutureWarning: The frame.append method is deprecated and will be removed from pandas in a future version. Use pandas.concat instead.\n",
            "  GRAPH = GRAPH.append({'source': source, 'source label': source_row['text'].iloc[0],\n",
            "<ipython-input-21-b862181dc70c>:16: FutureWarning: The frame.append method is deprecated and will be removed from pandas in a future version. Use pandas.concat instead.\n",
            "  GRAPH = GRAPH.append({'source': source, 'source label': source_row['text'].iloc[0],\n",
            "<ipython-input-21-b862181dc70c>:16: FutureWarning: The frame.append method is deprecated and will be removed from pandas in a future version. Use pandas.concat instead.\n",
            "  GRAPH = GRAPH.append({'source': source, 'source label': source_row['text'].iloc[0],\n",
            "<ipython-input-21-b862181dc70c>:16: FutureWarning: The frame.append method is deprecated and will be removed from pandas in a future version. Use pandas.concat instead.\n",
            "  GRAPH = GRAPH.append({'source': source, 'source label': source_row['text'].iloc[0],\n",
            "<ipython-input-21-b862181dc70c>:16: FutureWarning: The frame.append method is deprecated and will be removed from pandas in a future version. Use pandas.concat instead.\n",
            "  GRAPH = GRAPH.append({'source': source, 'source label': source_row['text'].iloc[0],\n"
          ]
        }
      ],
      "source": [
        "#картирование\n",
        "\n",
        "law0, law0_graph = cognitive_maps_pipline(post_law0, 0.86)\n"
      ]
    },
    {
      "cell_type": "code",
      "source": [
        "law1, law1_graph = cognitive_maps_pipline(post_law1, 0.83)"
      ],
      "metadata": {
        "colab": {
          "base_uri": "https://localhost:8080/"
        },
        "id": "bAgouJmScyuC",
        "outputId": "b8c0bfe4-509e-4a7f-8963-c420d0318527"
      },
      "execution_count": null,
      "outputs": [
        {
          "output_type": "stream",
          "name": "stdout",
          "text": [
            "MEAN SIMILARITY NOW IS  0.6269962565657589\n",
            "GRAPH HAS... 16 EDGES\n"
          ]
        },
        {
          "output_type": "stream",
          "name": "stderr",
          "text": [
            "<ipython-input-21-b862181dc70c>:16: FutureWarning: The frame.append method is deprecated and will be removed from pandas in a future version. Use pandas.concat instead.\n",
            "  GRAPH = GRAPH.append({'source': source, 'source label': source_row['text'].iloc[0],\n",
            "<ipython-input-21-b862181dc70c>:16: FutureWarning: The frame.append method is deprecated and will be removed from pandas in a future version. Use pandas.concat instead.\n",
            "  GRAPH = GRAPH.append({'source': source, 'source label': source_row['text'].iloc[0],\n",
            "<ipython-input-21-b862181dc70c>:16: FutureWarning: The frame.append method is deprecated and will be removed from pandas in a future version. Use pandas.concat instead.\n",
            "  GRAPH = GRAPH.append({'source': source, 'source label': source_row['text'].iloc[0],\n",
            "<ipython-input-21-b862181dc70c>:16: FutureWarning: The frame.append method is deprecated and will be removed from pandas in a future version. Use pandas.concat instead.\n",
            "  GRAPH = GRAPH.append({'source': source, 'source label': source_row['text'].iloc[0],\n",
            "<ipython-input-21-b862181dc70c>:16: FutureWarning: The frame.append method is deprecated and will be removed from pandas in a future version. Use pandas.concat instead.\n",
            "  GRAPH = GRAPH.append({'source': source, 'source label': source_row['text'].iloc[0],\n",
            "<ipython-input-21-b862181dc70c>:16: FutureWarning: The frame.append method is deprecated and will be removed from pandas in a future version. Use pandas.concat instead.\n",
            "  GRAPH = GRAPH.append({'source': source, 'source label': source_row['text'].iloc[0],\n",
            "<ipython-input-21-b862181dc70c>:16: FutureWarning: The frame.append method is deprecated and will be removed from pandas in a future version. Use pandas.concat instead.\n",
            "  GRAPH = GRAPH.append({'source': source, 'source label': source_row['text'].iloc[0],\n",
            "<ipython-input-21-b862181dc70c>:16: FutureWarning: The frame.append method is deprecated and will be removed from pandas in a future version. Use pandas.concat instead.\n",
            "  GRAPH = GRAPH.append({'source': source, 'source label': source_row['text'].iloc[0],\n",
            "<ipython-input-21-b862181dc70c>:16: FutureWarning: The frame.append method is deprecated and will be removed from pandas in a future version. Use pandas.concat instead.\n",
            "  GRAPH = GRAPH.append({'source': source, 'source label': source_row['text'].iloc[0],\n",
            "<ipython-input-21-b862181dc70c>:16: FutureWarning: The frame.append method is deprecated and will be removed from pandas in a future version. Use pandas.concat instead.\n",
            "  GRAPH = GRAPH.append({'source': source, 'source label': source_row['text'].iloc[0],\n",
            "<ipython-input-21-b862181dc70c>:16: FutureWarning: The frame.append method is deprecated and will be removed from pandas in a future version. Use pandas.concat instead.\n",
            "  GRAPH = GRAPH.append({'source': source, 'source label': source_row['text'].iloc[0],\n",
            "<ipython-input-21-b862181dc70c>:16: FutureWarning: The frame.append method is deprecated and will be removed from pandas in a future version. Use pandas.concat instead.\n",
            "  GRAPH = GRAPH.append({'source': source, 'source label': source_row['text'].iloc[0],\n",
            "<ipython-input-21-b862181dc70c>:16: FutureWarning: The frame.append method is deprecated and will be removed from pandas in a future version. Use pandas.concat instead.\n",
            "  GRAPH = GRAPH.append({'source': source, 'source label': source_row['text'].iloc[0],\n",
            "<ipython-input-21-b862181dc70c>:16: FutureWarning: The frame.append method is deprecated and will be removed from pandas in a future version. Use pandas.concat instead.\n",
            "  GRAPH = GRAPH.append({'source': source, 'source label': source_row['text'].iloc[0],\n",
            "<ipython-input-21-b862181dc70c>:16: FutureWarning: The frame.append method is deprecated and will be removed from pandas in a future version. Use pandas.concat instead.\n",
            "  GRAPH = GRAPH.append({'source': source, 'source label': source_row['text'].iloc[0],\n",
            "<ipython-input-21-b862181dc70c>:16: FutureWarning: The frame.append method is deprecated and will be removed from pandas in a future version. Use pandas.concat instead.\n",
            "  GRAPH = GRAPH.append({'source': source, 'source label': source_row['text'].iloc[0],\n"
          ]
        }
      ]
    },
    {
      "cell_type": "markdown",
      "metadata": {
        "id": "0lP25J8aDGid"
      },
      "source": [
        "#### формат сохранения"
      ]
    },
    {
      "cell_type": "code",
      "execution_count": null,
      "metadata": {
        "id": "8A9FzlftDLQL"
      },
      "outputs": [],
      "source": [
        "save_Gephi_format(name_practise+'0', law0, law0_graph)\n",
        "save_Gephi_format(name_practise+'1', law1, law1_graph)"
      ]
    },
    {
      "cell_type": "markdown",
      "metadata": {
        "id": "7NQMcOAwpEQM"
      },
      "source": [
        "## Город проживания"
      ]
    },
    {
      "cell_type": "markdown",
      "metadata": {
        "id": "91ajGIQ2DaC3"
      },
      "source": [
        "#### загрузка"
      ]
    },
    {
      "cell_type": "code",
      "execution_count": null,
      "metadata": {
        "id": "C_GCa8kppIst"
      },
      "outputs": [],
      "source": [
        "# загрузка\n",
        "\n",
        "name_practise = \"Город проживания (СПб и Киров) + юридическая Беларусь\"\n",
        "living = pd.read_excel(f'{name_practise}.xlsx')\n",
        "living = living.rename({'date': 'time'}, axis=1)\n",
        "\n",
        "living0, living1 = get_posts(living, 'post_id', 2)"
      ]
    },
    {
      "cell_type": "markdown",
      "metadata": {
        "id": "xJZ6WymUDcC-"
      },
      "source": [
        "#### предобработка"
      ]
    },
    {
      "cell_type": "code",
      "execution_count": null,
      "metadata": {
        "colab": {
          "base_uri": "https://localhost:8080/"
        },
        "id": "gzfqjd577S6D",
        "outputId": "0f145568-2c25-42d7-bd80-3a6b8ccbac56"
      },
      "outputs": [
        {
          "output_type": "stream",
          "name": "stderr",
          "text": [
            "<ipython-input-8-4f17b0a815ba>:10: SettingWithCopyWarning: \n",
            "A value is trying to be set on a copy of a slice from a DataFrame.\n",
            "Try using .loc[row_indexer,col_indexer] = value instead\n",
            "\n",
            "See the caveats in the documentation: https://pandas.pydata.org/pandas-docs/stable/user_guide/indexing.html#returning-a-view-versus-a-copy\n",
            "  df_PRACTISE['text'] = df_PRACTISE['text'].str.lower().str.replace('\\n', ' ', regex = False).str.replace(r'[^\\w\\s\\.\\?,!:;-]+', '', regex=True).str.strip()\n",
            "<ipython-input-8-4f17b0a815ba>:14: SettingWithCopyWarning: \n",
            "A value is trying to be set on a copy of a slice from a DataFrame\n",
            "\n",
            "See the caveats in the documentation: https://pandas.pydata.org/pandas-docs/stable/user_guide/indexing.html#returning-a-view-versus-a-copy\n",
            "  df_PRACTISE.dropna(subset=['text'], inplace=True)\n",
            "<ipython-input-8-4f17b0a815ba>:10: SettingWithCopyWarning: \n",
            "A value is trying to be set on a copy of a slice from a DataFrame.\n",
            "Try using .loc[row_indexer,col_indexer] = value instead\n",
            "\n",
            "See the caveats in the documentation: https://pandas.pydata.org/pandas-docs/stable/user_guide/indexing.html#returning-a-view-versus-a-copy\n",
            "  df_PRACTISE['text'] = df_PRACTISE['text'].str.lower().str.replace('\\n', ' ', regex = False).str.replace(r'[^\\w\\s\\.\\?,!:;-]+', '', regex=True).str.strip()\n"
          ]
        }
      ],
      "source": [
        "# предобработка\n",
        "\n",
        "living0 = preprocessing_texts(living0)\n",
        "living1 = preprocessing_texts(living1)"
      ]
    },
    {
      "cell_type": "markdown",
      "metadata": {
        "id": "7Q_OU-BtDe84"
      },
      "source": [
        "#### картирование"
      ]
    },
    {
      "cell_type": "code",
      "execution_count": null,
      "metadata": {
        "colab": {
          "base_uri": "https://localhost:8080/"
        },
        "id": "3typ2p7Pr9lH",
        "outputId": "a0e4fafc-ec96-4e56-b960-7b6c5f3ede9b"
      },
      "outputs": [
        {
          "output_type": "stream",
          "name": "stdout",
          "text": [
            "GRAPH HAS... 16 EDGES\n"
          ]
        },
        {
          "output_type": "stream",
          "name": "stderr",
          "text": [
            "<ipython-input-14-b862181dc70c>:16: FutureWarning: The frame.append method is deprecated and will be removed from pandas in a future version. Use pandas.concat instead.\n",
            "  GRAPH = GRAPH.append({'source': source, 'source label': source_row['text'].iloc[0],\n",
            "<ipython-input-14-b862181dc70c>:16: FutureWarning: The frame.append method is deprecated and will be removed from pandas in a future version. Use pandas.concat instead.\n",
            "  GRAPH = GRAPH.append({'source': source, 'source label': source_row['text'].iloc[0],\n",
            "<ipython-input-14-b862181dc70c>:16: FutureWarning: The frame.append method is deprecated and will be removed from pandas in a future version. Use pandas.concat instead.\n",
            "  GRAPH = GRAPH.append({'source': source, 'source label': source_row['text'].iloc[0],\n",
            "<ipython-input-14-b862181dc70c>:16: FutureWarning: The frame.append method is deprecated and will be removed from pandas in a future version. Use pandas.concat instead.\n",
            "  GRAPH = GRAPH.append({'source': source, 'source label': source_row['text'].iloc[0],\n",
            "<ipython-input-14-b862181dc70c>:16: FutureWarning: The frame.append method is deprecated and will be removed from pandas in a future version. Use pandas.concat instead.\n",
            "  GRAPH = GRAPH.append({'source': source, 'source label': source_row['text'].iloc[0],\n",
            "<ipython-input-14-b862181dc70c>:16: FutureWarning: The frame.append method is deprecated and will be removed from pandas in a future version. Use pandas.concat instead.\n",
            "  GRAPH = GRAPH.append({'source': source, 'source label': source_row['text'].iloc[0],\n",
            "<ipython-input-14-b862181dc70c>:16: FutureWarning: The frame.append method is deprecated and will be removed from pandas in a future version. Use pandas.concat instead.\n",
            "  GRAPH = GRAPH.append({'source': source, 'source label': source_row['text'].iloc[0],\n",
            "<ipython-input-14-b862181dc70c>:16: FutureWarning: The frame.append method is deprecated and will be removed from pandas in a future version. Use pandas.concat instead.\n",
            "  GRAPH = GRAPH.append({'source': source, 'source label': source_row['text'].iloc[0],\n",
            "<ipython-input-14-b862181dc70c>:16: FutureWarning: The frame.append method is deprecated and will be removed from pandas in a future version. Use pandas.concat instead.\n",
            "  GRAPH = GRAPH.append({'source': source, 'source label': source_row['text'].iloc[0],\n",
            "<ipython-input-14-b862181dc70c>:16: FutureWarning: The frame.append method is deprecated and will be removed from pandas in a future version. Use pandas.concat instead.\n",
            "  GRAPH = GRAPH.append({'source': source, 'source label': source_row['text'].iloc[0],\n",
            "<ipython-input-14-b862181dc70c>:16: FutureWarning: The frame.append method is deprecated and will be removed from pandas in a future version. Use pandas.concat instead.\n",
            "  GRAPH = GRAPH.append({'source': source, 'source label': source_row['text'].iloc[0],\n",
            "<ipython-input-14-b862181dc70c>:16: FutureWarning: The frame.append method is deprecated and will be removed from pandas in a future version. Use pandas.concat instead.\n",
            "  GRAPH = GRAPH.append({'source': source, 'source label': source_row['text'].iloc[0],\n",
            "<ipython-input-14-b862181dc70c>:16: FutureWarning: The frame.append method is deprecated and will be removed from pandas in a future version. Use pandas.concat instead.\n",
            "  GRAPH = GRAPH.append({'source': source, 'source label': source_row['text'].iloc[0],\n",
            "<ipython-input-14-b862181dc70c>:16: FutureWarning: The frame.append method is deprecated and will be removed from pandas in a future version. Use pandas.concat instead.\n",
            "  GRAPH = GRAPH.append({'source': source, 'source label': source_row['text'].iloc[0],\n",
            "<ipython-input-14-b862181dc70c>:16: FutureWarning: The frame.append method is deprecated and will be removed from pandas in a future version. Use pandas.concat instead.\n",
            "  GRAPH = GRAPH.append({'source': source, 'source label': source_row['text'].iloc[0],\n",
            "<ipython-input-14-b862181dc70c>:16: FutureWarning: The frame.append method is deprecated and will be removed from pandas in a future version. Use pandas.concat instead.\n",
            "  GRAPH = GRAPH.append({'source': source, 'source label': source_row['text'].iloc[0],\n"
          ]
        }
      ],
      "source": [
        "#картирование\n",
        "living0, living0_graph = cognitive_maps_pipline(living0, 0.87)"
      ]
    },
    {
      "cell_type": "code",
      "source": [
        "living1, living1_graph = cognitive_maps_pipline(living1, 0.86)"
      ],
      "metadata": {
        "colab": {
          "base_uri": "https://localhost:8080/"
        },
        "id": "Ls8BycHYd1qJ",
        "outputId": "0dac44f4-1b48-42ba-f57a-f817dd6c51e7"
      },
      "execution_count": null,
      "outputs": [
        {
          "output_type": "stream",
          "name": "stdout",
          "text": [
            "GRAPH HAS... 19 EDGES\n"
          ]
        },
        {
          "output_type": "stream",
          "name": "stderr",
          "text": [
            "<ipython-input-14-b862181dc70c>:16: FutureWarning: The frame.append method is deprecated and will be removed from pandas in a future version. Use pandas.concat instead.\n",
            "  GRAPH = GRAPH.append({'source': source, 'source label': source_row['text'].iloc[0],\n",
            "<ipython-input-14-b862181dc70c>:16: FutureWarning: The frame.append method is deprecated and will be removed from pandas in a future version. Use pandas.concat instead.\n",
            "  GRAPH = GRAPH.append({'source': source, 'source label': source_row['text'].iloc[0],\n",
            "<ipython-input-14-b862181dc70c>:16: FutureWarning: The frame.append method is deprecated and will be removed from pandas in a future version. Use pandas.concat instead.\n",
            "  GRAPH = GRAPH.append({'source': source, 'source label': source_row['text'].iloc[0],\n",
            "<ipython-input-14-b862181dc70c>:16: FutureWarning: The frame.append method is deprecated and will be removed from pandas in a future version. Use pandas.concat instead.\n",
            "  GRAPH = GRAPH.append({'source': source, 'source label': source_row['text'].iloc[0],\n",
            "<ipython-input-14-b862181dc70c>:16: FutureWarning: The frame.append method is deprecated and will be removed from pandas in a future version. Use pandas.concat instead.\n",
            "  GRAPH = GRAPH.append({'source': source, 'source label': source_row['text'].iloc[0],\n",
            "<ipython-input-14-b862181dc70c>:16: FutureWarning: The frame.append method is deprecated and will be removed from pandas in a future version. Use pandas.concat instead.\n",
            "  GRAPH = GRAPH.append({'source': source, 'source label': source_row['text'].iloc[0],\n",
            "<ipython-input-14-b862181dc70c>:16: FutureWarning: The frame.append method is deprecated and will be removed from pandas in a future version. Use pandas.concat instead.\n",
            "  GRAPH = GRAPH.append({'source': source, 'source label': source_row['text'].iloc[0],\n",
            "<ipython-input-14-b862181dc70c>:16: FutureWarning: The frame.append method is deprecated and will be removed from pandas in a future version. Use pandas.concat instead.\n",
            "  GRAPH = GRAPH.append({'source': source, 'source label': source_row['text'].iloc[0],\n",
            "<ipython-input-14-b862181dc70c>:16: FutureWarning: The frame.append method is deprecated and will be removed from pandas in a future version. Use pandas.concat instead.\n",
            "  GRAPH = GRAPH.append({'source': source, 'source label': source_row['text'].iloc[0],\n",
            "<ipython-input-14-b862181dc70c>:16: FutureWarning: The frame.append method is deprecated and will be removed from pandas in a future version. Use pandas.concat instead.\n",
            "  GRAPH = GRAPH.append({'source': source, 'source label': source_row['text'].iloc[0],\n",
            "<ipython-input-14-b862181dc70c>:16: FutureWarning: The frame.append method is deprecated and will be removed from pandas in a future version. Use pandas.concat instead.\n",
            "  GRAPH = GRAPH.append({'source': source, 'source label': source_row['text'].iloc[0],\n",
            "<ipython-input-14-b862181dc70c>:16: FutureWarning: The frame.append method is deprecated and will be removed from pandas in a future version. Use pandas.concat instead.\n",
            "  GRAPH = GRAPH.append({'source': source, 'source label': source_row['text'].iloc[0],\n",
            "<ipython-input-14-b862181dc70c>:16: FutureWarning: The frame.append method is deprecated and will be removed from pandas in a future version. Use pandas.concat instead.\n",
            "  GRAPH = GRAPH.append({'source': source, 'source label': source_row['text'].iloc[0],\n",
            "<ipython-input-14-b862181dc70c>:16: FutureWarning: The frame.append method is deprecated and will be removed from pandas in a future version. Use pandas.concat instead.\n",
            "  GRAPH = GRAPH.append({'source': source, 'source label': source_row['text'].iloc[0],\n",
            "<ipython-input-14-b862181dc70c>:16: FutureWarning: The frame.append method is deprecated and will be removed from pandas in a future version. Use pandas.concat instead.\n",
            "  GRAPH = GRAPH.append({'source': source, 'source label': source_row['text'].iloc[0],\n",
            "<ipython-input-14-b862181dc70c>:16: FutureWarning: The frame.append method is deprecated and will be removed from pandas in a future version. Use pandas.concat instead.\n",
            "  GRAPH = GRAPH.append({'source': source, 'source label': source_row['text'].iloc[0],\n",
            "<ipython-input-14-b862181dc70c>:16: FutureWarning: The frame.append method is deprecated and will be removed from pandas in a future version. Use pandas.concat instead.\n",
            "  GRAPH = GRAPH.append({'source': source, 'source label': source_row['text'].iloc[0],\n",
            "<ipython-input-14-b862181dc70c>:16: FutureWarning: The frame.append method is deprecated and will be removed from pandas in a future version. Use pandas.concat instead.\n",
            "  GRAPH = GRAPH.append({'source': source, 'source label': source_row['text'].iloc[0],\n",
            "<ipython-input-14-b862181dc70c>:16: FutureWarning: The frame.append method is deprecated and will be removed from pandas in a future version. Use pandas.concat instead.\n",
            "  GRAPH = GRAPH.append({'source': source, 'source label': source_row['text'].iloc[0],\n"
          ]
        }
      ]
    },
    {
      "cell_type": "markdown",
      "metadata": {
        "id": "YxYqmytWDjPC"
      },
      "source": [
        "#### формат сохранения"
      ]
    },
    {
      "cell_type": "code",
      "execution_count": null,
      "metadata": {
        "id": "WYEVf5uODkB4"
      },
      "outputs": [],
      "source": [
        "save_Gephi_format(name_practise+'0', living0, living0_graph)\n",
        "save_Gephi_format(name_practise+'1', living1, living1_graph)"
      ]
    },
    {
      "cell_type": "markdown",
      "metadata": {
        "id": "Dyfu8mFNtyct"
      },
      "source": [
        "## Услуги"
      ]
    },
    {
      "cell_type": "markdown",
      "metadata": {
        "id": "OCTBmLJKDoYJ"
      },
      "source": [
        "#### загрузка"
      ]
    },
    {
      "cell_type": "code",
      "execution_count": null,
      "metadata": {
        "colab": {
          "base_uri": "https://localhost:8080/"
        },
        "id": "W7aIyYxyt3am",
        "outputId": "b3a3c708-2234-4eeb-c930-349c9083e489"
      },
      "outputs": [
        {
          "output_type": "stream",
          "name": "stderr",
          "text": [
            "<ipython-input-24-f21dd97d0ad0>:8: SettingWithCopyWarning: \n",
            "A value is trying to be set on a copy of a slice from a DataFrame.\n",
            "Try using .loc[row_indexer,col_indexer] = value instead\n",
            "\n",
            "See the caveats in the documentation: https://pandas.pydata.org/pandas-docs/stable/user_guide/indexing.html#returning-a-view-versus-a-copy\n",
            "  services1['vertex'] = services1['vertex'].astype(int)\n",
            "<ipython-input-24-f21dd97d0ad0>:9: SettingWithCopyWarning: \n",
            "A value is trying to be set on a copy of a slice from a DataFrame.\n",
            "Try using .loc[row_indexer,col_indexer] = value instead\n",
            "\n",
            "See the caveats in the documentation: https://pandas.pydata.org/pandas-docs/stable/user_guide/indexing.html#returning-a-view-versus-a-copy\n",
            "  services2['vertex'] = services2['vertex'].astype(int)\n"
          ]
        }
      ],
      "source": [
        "# загрузка\n",
        "name_practise = \"Услуги class domklining_belkacar_yandexgo\"\n",
        "services = pd.read_excel(f'{name_practise}.xlsx', index_col=None, header=None,\n",
        "                         names = ['vertex', 'time', 'text', 'class', 'likes', 'post_id'])\n",
        "\n",
        "_, services1, services2 = get_posts(services, 'post_id', 3)\n",
        "\n",
        "services1['vertex'] = services1['vertex'].astype(int)\n",
        "services2['vertex'] = services2['vertex'].astype(int)"
      ]
    },
    {
      "cell_type": "markdown",
      "metadata": {
        "id": "D68SzDgYDp4f"
      },
      "source": [
        "#### предобработка"
      ]
    },
    {
      "cell_type": "code",
      "execution_count": null,
      "metadata": {
        "colab": {
          "base_uri": "https://localhost:8080/"
        },
        "id": "1O2tPCUJwcni",
        "outputId": "ac1b7155-9572-45cf-ede4-55f34368b4e7"
      },
      "outputs": [
        {
          "output_type": "stream",
          "name": "stderr",
          "text": [
            "<ipython-input-7-7fd52da3ef66>:10: SettingWithCopyWarning: \n",
            "A value is trying to be set on a copy of a slice from a DataFrame.\n",
            "Try using .loc[row_indexer,col_indexer] = value instead\n",
            "\n",
            "See the caveats in the documentation: https://pandas.pydata.org/pandas-docs/stable/user_guide/indexing.html#returning-a-view-versus-a-copy\n",
            "  df_PRACTISE['text'] = df_PRACTISE['text'].str.lower().str.replace('\\n', ' ', regex = False).str.replace(r'[^\\w\\s\\.\\?,!:;-]+', '', regex=True).str.strip()\n",
            "<ipython-input-7-7fd52da3ef66>:15: SettingWithCopyWarning: \n",
            "A value is trying to be set on a copy of a slice from a DataFrame\n",
            "\n",
            "See the caveats in the documentation: https://pandas.pydata.org/pandas-docs/stable/user_guide/indexing.html#returning-a-view-versus-a-copy\n",
            "  df_PRACTISE.dropna(subset=['text'], inplace=True)\n",
            "<ipython-input-7-7fd52da3ef66>:10: SettingWithCopyWarning: \n",
            "A value is trying to be set on a copy of a slice from a DataFrame.\n",
            "Try using .loc[row_indexer,col_indexer] = value instead\n",
            "\n",
            "See the caveats in the documentation: https://pandas.pydata.org/pandas-docs/stable/user_guide/indexing.html#returning-a-view-versus-a-copy\n",
            "  df_PRACTISE['text'] = df_PRACTISE['text'].str.lower().str.replace('\\n', ' ', regex = False).str.replace(r'[^\\w\\s\\.\\?,!:;-]+', '', regex=True).str.strip()\n"
          ]
        }
      ],
      "source": [
        "# предобработка\n",
        "\n",
        "services1 = preprocessing_texts(services1)\n",
        "services2 = preprocessing_texts(services2)"
      ]
    },
    {
      "cell_type": "markdown",
      "metadata": {
        "id": "YqfwAS4ADs3P"
      },
      "source": [
        "#### картирование"
      ]
    },
    {
      "cell_type": "code",
      "execution_count": null,
      "metadata": {
        "colab": {
          "base_uri": "https://localhost:8080/"
        },
        "id": "ip87JunkwxsZ",
        "outputId": "537cc13c-738f-4b2d-ed8b-8bd8877c1865"
      },
      "outputs": [
        {
          "output_type": "stream",
          "name": "stdout",
          "text": [
            "MEAN SIMILARITY NOW IS  0.6649953448648367\n",
            "GRAPH HAS... 17 EDGES\n"
          ]
        },
        {
          "output_type": "stream",
          "name": "stderr",
          "text": [
            "<ipython-input-21-b862181dc70c>:16: FutureWarning: The frame.append method is deprecated and will be removed from pandas in a future version. Use pandas.concat instead.\n",
            "  GRAPH = GRAPH.append({'source': source, 'source label': source_row['text'].iloc[0],\n",
            "<ipython-input-21-b862181dc70c>:16: FutureWarning: The frame.append method is deprecated and will be removed from pandas in a future version. Use pandas.concat instead.\n",
            "  GRAPH = GRAPH.append({'source': source, 'source label': source_row['text'].iloc[0],\n",
            "<ipython-input-21-b862181dc70c>:16: FutureWarning: The frame.append method is deprecated and will be removed from pandas in a future version. Use pandas.concat instead.\n",
            "  GRAPH = GRAPH.append({'source': source, 'source label': source_row['text'].iloc[0],\n",
            "<ipython-input-21-b862181dc70c>:16: FutureWarning: The frame.append method is deprecated and will be removed from pandas in a future version. Use pandas.concat instead.\n",
            "  GRAPH = GRAPH.append({'source': source, 'source label': source_row['text'].iloc[0],\n",
            "<ipython-input-21-b862181dc70c>:16: FutureWarning: The frame.append method is deprecated and will be removed from pandas in a future version. Use pandas.concat instead.\n",
            "  GRAPH = GRAPH.append({'source': source, 'source label': source_row['text'].iloc[0],\n",
            "<ipython-input-21-b862181dc70c>:16: FutureWarning: The frame.append method is deprecated and will be removed from pandas in a future version. Use pandas.concat instead.\n",
            "  GRAPH = GRAPH.append({'source': source, 'source label': source_row['text'].iloc[0],\n",
            "<ipython-input-21-b862181dc70c>:16: FutureWarning: The frame.append method is deprecated and will be removed from pandas in a future version. Use pandas.concat instead.\n",
            "  GRAPH = GRAPH.append({'source': source, 'source label': source_row['text'].iloc[0],\n",
            "<ipython-input-21-b862181dc70c>:16: FutureWarning: The frame.append method is deprecated and will be removed from pandas in a future version. Use pandas.concat instead.\n",
            "  GRAPH = GRAPH.append({'source': source, 'source label': source_row['text'].iloc[0],\n",
            "<ipython-input-21-b862181dc70c>:16: FutureWarning: The frame.append method is deprecated and will be removed from pandas in a future version. Use pandas.concat instead.\n",
            "  GRAPH = GRAPH.append({'source': source, 'source label': source_row['text'].iloc[0],\n",
            "<ipython-input-21-b862181dc70c>:16: FutureWarning: The frame.append method is deprecated and will be removed from pandas in a future version. Use pandas.concat instead.\n",
            "  GRAPH = GRAPH.append({'source': source, 'source label': source_row['text'].iloc[0],\n",
            "<ipython-input-21-b862181dc70c>:16: FutureWarning: The frame.append method is deprecated and will be removed from pandas in a future version. Use pandas.concat instead.\n",
            "  GRAPH = GRAPH.append({'source': source, 'source label': source_row['text'].iloc[0],\n",
            "<ipython-input-21-b862181dc70c>:16: FutureWarning: The frame.append method is deprecated and will be removed from pandas in a future version. Use pandas.concat instead.\n",
            "  GRAPH = GRAPH.append({'source': source, 'source label': source_row['text'].iloc[0],\n",
            "<ipython-input-21-b862181dc70c>:16: FutureWarning: The frame.append method is deprecated and will be removed from pandas in a future version. Use pandas.concat instead.\n",
            "  GRAPH = GRAPH.append({'source': source, 'source label': source_row['text'].iloc[0],\n",
            "<ipython-input-21-b862181dc70c>:16: FutureWarning: The frame.append method is deprecated and will be removed from pandas in a future version. Use pandas.concat instead.\n",
            "  GRAPH = GRAPH.append({'source': source, 'source label': source_row['text'].iloc[0],\n",
            "<ipython-input-21-b862181dc70c>:16: FutureWarning: The frame.append method is deprecated and will be removed from pandas in a future version. Use pandas.concat instead.\n",
            "  GRAPH = GRAPH.append({'source': source, 'source label': source_row['text'].iloc[0],\n",
            "<ipython-input-21-b862181dc70c>:16: FutureWarning: The frame.append method is deprecated and will be removed from pandas in a future version. Use pandas.concat instead.\n",
            "  GRAPH = GRAPH.append({'source': source, 'source label': source_row['text'].iloc[0],\n",
            "<ipython-input-21-b862181dc70c>:16: FutureWarning: The frame.append method is deprecated and will be removed from pandas in a future version. Use pandas.concat instead.\n",
            "  GRAPH = GRAPH.append({'source': source, 'source label': source_row['text'].iloc[0],\n"
          ]
        }
      ],
      "source": [
        "# картирование\n",
        "\n",
        "services1, services1_graph = cognitive_maps_pipline(services1, 0.92)"
      ]
    },
    {
      "cell_type": "code",
      "source": [
        "services2, services2_graph = cognitive_maps_pipline(services2, 0.89)"
      ],
      "metadata": {
        "colab": {
          "base_uri": "https://localhost:8080/"
        },
        "id": "zdWIqHO9eRa-",
        "outputId": "d45d712e-d037-4379-a06d-93dab5091974"
      },
      "execution_count": null,
      "outputs": [
        {
          "output_type": "stream",
          "name": "stdout",
          "text": [
            "MEAN SIMILARITY NOW IS  0.6812896870374681\n",
            "GRAPH HAS... 18 EDGES\n"
          ]
        },
        {
          "output_type": "stream",
          "name": "stderr",
          "text": [
            "<ipython-input-21-b862181dc70c>:16: FutureWarning: The frame.append method is deprecated and will be removed from pandas in a future version. Use pandas.concat instead.\n",
            "  GRAPH = GRAPH.append({'source': source, 'source label': source_row['text'].iloc[0],\n",
            "<ipython-input-21-b862181dc70c>:16: FutureWarning: The frame.append method is deprecated and will be removed from pandas in a future version. Use pandas.concat instead.\n",
            "  GRAPH = GRAPH.append({'source': source, 'source label': source_row['text'].iloc[0],\n",
            "<ipython-input-21-b862181dc70c>:16: FutureWarning: The frame.append method is deprecated and will be removed from pandas in a future version. Use pandas.concat instead.\n",
            "  GRAPH = GRAPH.append({'source': source, 'source label': source_row['text'].iloc[0],\n",
            "<ipython-input-21-b862181dc70c>:16: FutureWarning: The frame.append method is deprecated and will be removed from pandas in a future version. Use pandas.concat instead.\n",
            "  GRAPH = GRAPH.append({'source': source, 'source label': source_row['text'].iloc[0],\n",
            "<ipython-input-21-b862181dc70c>:16: FutureWarning: The frame.append method is deprecated and will be removed from pandas in a future version. Use pandas.concat instead.\n",
            "  GRAPH = GRAPH.append({'source': source, 'source label': source_row['text'].iloc[0],\n",
            "<ipython-input-21-b862181dc70c>:16: FutureWarning: The frame.append method is deprecated and will be removed from pandas in a future version. Use pandas.concat instead.\n",
            "  GRAPH = GRAPH.append({'source': source, 'source label': source_row['text'].iloc[0],\n",
            "<ipython-input-21-b862181dc70c>:16: FutureWarning: The frame.append method is deprecated and will be removed from pandas in a future version. Use pandas.concat instead.\n",
            "  GRAPH = GRAPH.append({'source': source, 'source label': source_row['text'].iloc[0],\n",
            "<ipython-input-21-b862181dc70c>:16: FutureWarning: The frame.append method is deprecated and will be removed from pandas in a future version. Use pandas.concat instead.\n",
            "  GRAPH = GRAPH.append({'source': source, 'source label': source_row['text'].iloc[0],\n",
            "<ipython-input-21-b862181dc70c>:16: FutureWarning: The frame.append method is deprecated and will be removed from pandas in a future version. Use pandas.concat instead.\n",
            "  GRAPH = GRAPH.append({'source': source, 'source label': source_row['text'].iloc[0],\n",
            "<ipython-input-21-b862181dc70c>:16: FutureWarning: The frame.append method is deprecated and will be removed from pandas in a future version. Use pandas.concat instead.\n",
            "  GRAPH = GRAPH.append({'source': source, 'source label': source_row['text'].iloc[0],\n",
            "<ipython-input-21-b862181dc70c>:16: FutureWarning: The frame.append method is deprecated and will be removed from pandas in a future version. Use pandas.concat instead.\n",
            "  GRAPH = GRAPH.append({'source': source, 'source label': source_row['text'].iloc[0],\n",
            "<ipython-input-21-b862181dc70c>:16: FutureWarning: The frame.append method is deprecated and will be removed from pandas in a future version. Use pandas.concat instead.\n",
            "  GRAPH = GRAPH.append({'source': source, 'source label': source_row['text'].iloc[0],\n",
            "<ipython-input-21-b862181dc70c>:16: FutureWarning: The frame.append method is deprecated and will be removed from pandas in a future version. Use pandas.concat instead.\n",
            "  GRAPH = GRAPH.append({'source': source, 'source label': source_row['text'].iloc[0],\n",
            "<ipython-input-21-b862181dc70c>:16: FutureWarning: The frame.append method is deprecated and will be removed from pandas in a future version. Use pandas.concat instead.\n",
            "  GRAPH = GRAPH.append({'source': source, 'source label': source_row['text'].iloc[0],\n",
            "<ipython-input-21-b862181dc70c>:16: FutureWarning: The frame.append method is deprecated and will be removed from pandas in a future version. Use pandas.concat instead.\n",
            "  GRAPH = GRAPH.append({'source': source, 'source label': source_row['text'].iloc[0],\n",
            "<ipython-input-21-b862181dc70c>:16: FutureWarning: The frame.append method is deprecated and will be removed from pandas in a future version. Use pandas.concat instead.\n",
            "  GRAPH = GRAPH.append({'source': source, 'source label': source_row['text'].iloc[0],\n",
            "<ipython-input-21-b862181dc70c>:16: FutureWarning: The frame.append method is deprecated and will be removed from pandas in a future version. Use pandas.concat instead.\n",
            "  GRAPH = GRAPH.append({'source': source, 'source label': source_row['text'].iloc[0],\n",
            "<ipython-input-21-b862181dc70c>:16: FutureWarning: The frame.append method is deprecated and will be removed from pandas in a future version. Use pandas.concat instead.\n",
            "  GRAPH = GRAPH.append({'source': source, 'source label': source_row['text'].iloc[0],\n"
          ]
        }
      ]
    },
    {
      "cell_type": "markdown",
      "metadata": {
        "id": "IBacaUj0Dw1q"
      },
      "source": [
        "#### формат сохранения"
      ]
    },
    {
      "cell_type": "code",
      "execution_count": null,
      "metadata": {
        "id": "XpgHEK_JWcLZ"
      },
      "outputs": [],
      "source": [
        "save_Gephi_format(name_practise+'1', services1, services1_graph)\n",
        "save_Gephi_format(name_practise+'2', services2, services2_graph)"
      ]
    },
    {
      "cell_type": "markdown",
      "metadata": {
        "id": "uFH__sTyz3fY"
      },
      "source": [
        "## Здоровое питание"
      ]
    },
    {
      "cell_type": "markdown",
      "metadata": {
        "id": "FPLAbow0D1cf"
      },
      "source": [
        "#### загрузка"
      ]
    },
    {
      "cell_type": "code",
      "execution_count": null,
      "metadata": {
        "id": "efZeCBbvz6_F",
        "colab": {
          "base_uri": "https://localhost:8080/"
        },
        "outputId": "56221320-39f7-49d0-bae3-429604c9cc64"
      },
      "outputs": [
        {
          "output_type": "stream",
          "name": "stdout",
          "text": [
            "1074959    19\n",
            "496526     19\n",
            "1102109    17\n",
            "1080785    16\n",
            "1074619    13\n",
            "           ..\n",
            "490870      1\n",
            "1093290     1\n",
            "497328      1\n",
            "1093590     1\n",
            "\"6\"         1\n",
            "Name: post_id, Length: 528, dtype: int64\n"
          ]
        }
      ],
      "source": [
        "# загрузка\n",
        "public_name = \"ЗдоровоеПитание\"\n",
        "healthy = pd.read_csv(f\"{public_name}.csv\", header=0, sep=';')\n",
        "healthy = healthy.rename({'date': 'time'}, axis=1)\n",
        "\n",
        "healthy0, healthy1 = get_posts(healthy, 'post_id')"
      ]
    },
    {
      "cell_type": "markdown",
      "metadata": {
        "id": "iTD8KUMUD23l"
      },
      "source": [
        "#### предобработка"
      ]
    },
    {
      "cell_type": "code",
      "execution_count": null,
      "metadata": {
        "colab": {
          "base_uri": "https://localhost:8080/"
        },
        "id": "n-ep016x2-tL",
        "outputId": "d0b51d76-e6d1-43d8-fc26-01d7d7ea72c3"
      },
      "outputs": [
        {
          "output_type": "stream",
          "name": "stderr",
          "text": [
            "<ipython-input-29-4f17b0a815ba>:10: SettingWithCopyWarning: \n",
            "A value is trying to be set on a copy of a slice from a DataFrame.\n",
            "Try using .loc[row_indexer,col_indexer] = value instead\n",
            "\n",
            "See the caveats in the documentation: https://pandas.pydata.org/pandas-docs/stable/user_guide/indexing.html#returning-a-view-versus-a-copy\n",
            "  df_PRACTISE['text'] = df_PRACTISE['text'].str.lower().str.replace('\\n', ' ', regex = False).str.replace(r'[^\\w\\s\\.\\?,!:;-]+', '', regex=True).str.strip()\n",
            "<ipython-input-29-4f17b0a815ba>:10: SettingWithCopyWarning: \n",
            "A value is trying to be set on a copy of a slice from a DataFrame.\n",
            "Try using .loc[row_indexer,col_indexer] = value instead\n",
            "\n",
            "See the caveats in the documentation: https://pandas.pydata.org/pandas-docs/stable/user_guide/indexing.html#returning-a-view-versus-a-copy\n",
            "  df_PRACTISE['text'] = df_PRACTISE['text'].str.lower().str.replace('\\n', ' ', regex = False).str.replace(r'[^\\w\\s\\.\\?,!:;-]+', '', regex=True).str.strip()\n"
          ]
        }
      ],
      "source": [
        "# предобработка\n",
        "\n",
        "healthy0 = preprocessing_texts(healthy0)\n",
        "healthy1 = preprocessing_texts(healthy1)"
      ]
    },
    {
      "cell_type": "code",
      "source": [
        "len(healthy0)"
      ],
      "metadata": {
        "colab": {
          "base_uri": "https://localhost:8080/"
        },
        "id": "0u9x1Lycau1d",
        "outputId": "81550d2b-872c-4610-b567-9230af76f0dc"
      },
      "execution_count": null,
      "outputs": [
        {
          "output_type": "execute_result",
          "data": {
            "text/plain": [
              "19"
            ]
          },
          "metadata": {},
          "execution_count": 42
        }
      ]
    },
    {
      "cell_type": "code",
      "source": [],
      "metadata": {
        "id": "72PDYHAGazPg"
      },
      "execution_count": null,
      "outputs": []
    },
    {
      "cell_type": "markdown",
      "metadata": {
        "id": "P1KArUDBD528"
      },
      "source": [
        "#### картирование"
      ]
    },
    {
      "cell_type": "code",
      "execution_count": null,
      "metadata": {
        "colab": {
          "base_uri": "https://localhost:8080/"
        },
        "id": "Xxhi3Syj3P8w",
        "outputId": "1956a762-f84f-421b-a46a-e227b1b14a06"
      },
      "outputs": [
        {
          "output_type": "stream",
          "name": "stdout",
          "text": [
            "GRAPH HAS... 16 EDGES\n"
          ]
        },
        {
          "output_type": "stream",
          "name": "stderr",
          "text": [
            "<ipython-input-14-b862181dc70c>:16: FutureWarning: The frame.append method is deprecated and will be removed from pandas in a future version. Use pandas.concat instead.\n",
            "  GRAPH = GRAPH.append({'source': source, 'source label': source_row['text'].iloc[0],\n",
            "<ipython-input-14-b862181dc70c>:16: FutureWarning: The frame.append method is deprecated and will be removed from pandas in a future version. Use pandas.concat instead.\n",
            "  GRAPH = GRAPH.append({'source': source, 'source label': source_row['text'].iloc[0],\n",
            "<ipython-input-14-b862181dc70c>:16: FutureWarning: The frame.append method is deprecated and will be removed from pandas in a future version. Use pandas.concat instead.\n",
            "  GRAPH = GRAPH.append({'source': source, 'source label': source_row['text'].iloc[0],\n",
            "<ipython-input-14-b862181dc70c>:16: FutureWarning: The frame.append method is deprecated and will be removed from pandas in a future version. Use pandas.concat instead.\n",
            "  GRAPH = GRAPH.append({'source': source, 'source label': source_row['text'].iloc[0],\n",
            "<ipython-input-14-b862181dc70c>:16: FutureWarning: The frame.append method is deprecated and will be removed from pandas in a future version. Use pandas.concat instead.\n",
            "  GRAPH = GRAPH.append({'source': source, 'source label': source_row['text'].iloc[0],\n",
            "<ipython-input-14-b862181dc70c>:16: FutureWarning: The frame.append method is deprecated and will be removed from pandas in a future version. Use pandas.concat instead.\n",
            "  GRAPH = GRAPH.append({'source': source, 'source label': source_row['text'].iloc[0],\n",
            "<ipython-input-14-b862181dc70c>:16: FutureWarning: The frame.append method is deprecated and will be removed from pandas in a future version. Use pandas.concat instead.\n",
            "  GRAPH = GRAPH.append({'source': source, 'source label': source_row['text'].iloc[0],\n",
            "<ipython-input-14-b862181dc70c>:16: FutureWarning: The frame.append method is deprecated and will be removed from pandas in a future version. Use pandas.concat instead.\n",
            "  GRAPH = GRAPH.append({'source': source, 'source label': source_row['text'].iloc[0],\n",
            "<ipython-input-14-b862181dc70c>:16: FutureWarning: The frame.append method is deprecated and will be removed from pandas in a future version. Use pandas.concat instead.\n",
            "  GRAPH = GRAPH.append({'source': source, 'source label': source_row['text'].iloc[0],\n",
            "<ipython-input-14-b862181dc70c>:16: FutureWarning: The frame.append method is deprecated and will be removed from pandas in a future version. Use pandas.concat instead.\n",
            "  GRAPH = GRAPH.append({'source': source, 'source label': source_row['text'].iloc[0],\n",
            "<ipython-input-14-b862181dc70c>:16: FutureWarning: The frame.append method is deprecated and will be removed from pandas in a future version. Use pandas.concat instead.\n",
            "  GRAPH = GRAPH.append({'source': source, 'source label': source_row['text'].iloc[0],\n",
            "<ipython-input-14-b862181dc70c>:16: FutureWarning: The frame.append method is deprecated and will be removed from pandas in a future version. Use pandas.concat instead.\n",
            "  GRAPH = GRAPH.append({'source': source, 'source label': source_row['text'].iloc[0],\n",
            "<ipython-input-14-b862181dc70c>:16: FutureWarning: The frame.append method is deprecated and will be removed from pandas in a future version. Use pandas.concat instead.\n",
            "  GRAPH = GRAPH.append({'source': source, 'source label': source_row['text'].iloc[0],\n",
            "<ipython-input-14-b862181dc70c>:16: FutureWarning: The frame.append method is deprecated and will be removed from pandas in a future version. Use pandas.concat instead.\n",
            "  GRAPH = GRAPH.append({'source': source, 'source label': source_row['text'].iloc[0],\n",
            "<ipython-input-14-b862181dc70c>:16: FutureWarning: The frame.append method is deprecated and will be removed from pandas in a future version. Use pandas.concat instead.\n",
            "  GRAPH = GRAPH.append({'source': source, 'source label': source_row['text'].iloc[0],\n",
            "<ipython-input-14-b862181dc70c>:16: FutureWarning: The frame.append method is deprecated and will be removed from pandas in a future version. Use pandas.concat instead.\n",
            "  GRAPH = GRAPH.append({'source': source, 'source label': source_row['text'].iloc[0],\n"
          ]
        }
      ],
      "source": [
        "# картирование\n",
        "\n",
        "healthy0, healthy0_graph = cognitive_maps_pipline(healthy0, 0.74)\n"
      ]
    },
    {
      "cell_type": "code",
      "source": [
        "healthy1, healty1_graph = cognitive_maps_pipline(healthy1, 0.75)"
      ],
      "metadata": {
        "colab": {
          "base_uri": "https://localhost:8080/"
        },
        "id": "kBMpkq2BZG7S",
        "outputId": "a80f66b6-8c24-492b-f39b-5b7996ef6c49"
      },
      "execution_count": null,
      "outputs": [
        {
          "output_type": "stream",
          "name": "stdout",
          "text": [
            "GRAPH HAS... 18 EDGES\n"
          ]
        },
        {
          "output_type": "stream",
          "name": "stderr",
          "text": [
            "<ipython-input-14-b862181dc70c>:16: FutureWarning: The frame.append method is deprecated and will be removed from pandas in a future version. Use pandas.concat instead.\n",
            "  GRAPH = GRAPH.append({'source': source, 'source label': source_row['text'].iloc[0],\n",
            "<ipython-input-14-b862181dc70c>:16: FutureWarning: The frame.append method is deprecated and will be removed from pandas in a future version. Use pandas.concat instead.\n",
            "  GRAPH = GRAPH.append({'source': source, 'source label': source_row['text'].iloc[0],\n",
            "<ipython-input-14-b862181dc70c>:16: FutureWarning: The frame.append method is deprecated and will be removed from pandas in a future version. Use pandas.concat instead.\n",
            "  GRAPH = GRAPH.append({'source': source, 'source label': source_row['text'].iloc[0],\n",
            "<ipython-input-14-b862181dc70c>:16: FutureWarning: The frame.append method is deprecated and will be removed from pandas in a future version. Use pandas.concat instead.\n",
            "  GRAPH = GRAPH.append({'source': source, 'source label': source_row['text'].iloc[0],\n",
            "<ipython-input-14-b862181dc70c>:16: FutureWarning: The frame.append method is deprecated and will be removed from pandas in a future version. Use pandas.concat instead.\n",
            "  GRAPH = GRAPH.append({'source': source, 'source label': source_row['text'].iloc[0],\n",
            "<ipython-input-14-b862181dc70c>:16: FutureWarning: The frame.append method is deprecated and will be removed from pandas in a future version. Use pandas.concat instead.\n",
            "  GRAPH = GRAPH.append({'source': source, 'source label': source_row['text'].iloc[0],\n",
            "<ipython-input-14-b862181dc70c>:16: FutureWarning: The frame.append method is deprecated and will be removed from pandas in a future version. Use pandas.concat instead.\n",
            "  GRAPH = GRAPH.append({'source': source, 'source label': source_row['text'].iloc[0],\n",
            "<ipython-input-14-b862181dc70c>:16: FutureWarning: The frame.append method is deprecated and will be removed from pandas in a future version. Use pandas.concat instead.\n",
            "  GRAPH = GRAPH.append({'source': source, 'source label': source_row['text'].iloc[0],\n",
            "<ipython-input-14-b862181dc70c>:16: FutureWarning: The frame.append method is deprecated and will be removed from pandas in a future version. Use pandas.concat instead.\n",
            "  GRAPH = GRAPH.append({'source': source, 'source label': source_row['text'].iloc[0],\n",
            "<ipython-input-14-b862181dc70c>:16: FutureWarning: The frame.append method is deprecated and will be removed from pandas in a future version. Use pandas.concat instead.\n",
            "  GRAPH = GRAPH.append({'source': source, 'source label': source_row['text'].iloc[0],\n",
            "<ipython-input-14-b862181dc70c>:16: FutureWarning: The frame.append method is deprecated and will be removed from pandas in a future version. Use pandas.concat instead.\n",
            "  GRAPH = GRAPH.append({'source': source, 'source label': source_row['text'].iloc[0],\n",
            "<ipython-input-14-b862181dc70c>:16: FutureWarning: The frame.append method is deprecated and will be removed from pandas in a future version. Use pandas.concat instead.\n",
            "  GRAPH = GRAPH.append({'source': source, 'source label': source_row['text'].iloc[0],\n",
            "<ipython-input-14-b862181dc70c>:16: FutureWarning: The frame.append method is deprecated and will be removed from pandas in a future version. Use pandas.concat instead.\n",
            "  GRAPH = GRAPH.append({'source': source, 'source label': source_row['text'].iloc[0],\n",
            "<ipython-input-14-b862181dc70c>:16: FutureWarning: The frame.append method is deprecated and will be removed from pandas in a future version. Use pandas.concat instead.\n",
            "  GRAPH = GRAPH.append({'source': source, 'source label': source_row['text'].iloc[0],\n",
            "<ipython-input-14-b862181dc70c>:16: FutureWarning: The frame.append method is deprecated and will be removed from pandas in a future version. Use pandas.concat instead.\n",
            "  GRAPH = GRAPH.append({'source': source, 'source label': source_row['text'].iloc[0],\n",
            "<ipython-input-14-b862181dc70c>:16: FutureWarning: The frame.append method is deprecated and will be removed from pandas in a future version. Use pandas.concat instead.\n",
            "  GRAPH = GRAPH.append({'source': source, 'source label': source_row['text'].iloc[0],\n",
            "<ipython-input-14-b862181dc70c>:16: FutureWarning: The frame.append method is deprecated and will be removed from pandas in a future version. Use pandas.concat instead.\n",
            "  GRAPH = GRAPH.append({'source': source, 'source label': source_row['text'].iloc[0],\n",
            "<ipython-input-14-b862181dc70c>:16: FutureWarning: The frame.append method is deprecated and will be removed from pandas in a future version. Use pandas.concat instead.\n",
            "  GRAPH = GRAPH.append({'source': source, 'source label': source_row['text'].iloc[0],\n"
          ]
        }
      ]
    },
    {
      "cell_type": "markdown",
      "metadata": {
        "id": "HmT_7bglD8d2"
      },
      "source": [
        "#### формат сохранения"
      ]
    },
    {
      "cell_type": "code",
      "execution_count": null,
      "metadata": {
        "id": "LfT5QBNIWxKg"
      },
      "outputs": [],
      "source": [
        "save_Gephi_format(public_name+'0', healthy0, healthy0_graph)\n",
        "save_Gephi_format(public_name+'1', healthy1, healty1_graph)"
      ]
    }
  ],
  "metadata": {
    "colab": {
      "collapsed_sections": [
        "aVcFRr-61MiV",
        "o0lteI1B4Lk1",
        "frTs0_a94Peu",
        "S9ZMD6naGenx",
        "IUQ6eMtvpJjW",
        "Ut1-2ITkC5rK",
        "lR0kFosFC9Hq",
        "6Flnqe--eerS",
        "wMwvSt5e23hY",
        "M3-2iMoy27As",
        "OCTBmLJKDoYJ",
        "uFH__sTyz3fY"
      ],
      "provenance": [],
      "include_colab_link": true
    },
    "kernelspec": {
      "display_name": "Python 3",
      "name": "python3"
    },
    "language_info": {
      "name": "python"
    },
    "widgets": {
      "application/vnd.jupyter.widget-state+json": {
        "f7421e116abd4d6d8a9ed42433962ed8": {
          "model_module": "@jupyter-widgets/controls",
          "model_name": "HBoxModel",
          "model_module_version": "1.5.0",
          "state": {
            "_dom_classes": [],
            "_model_module": "@jupyter-widgets/controls",
            "_model_module_version": "1.5.0",
            "_model_name": "HBoxModel",
            "_view_count": null,
            "_view_module": "@jupyter-widgets/controls",
            "_view_module_version": "1.5.0",
            "_view_name": "HBoxView",
            "box_style": "",
            "children": [
              "IPY_MODEL_ff0e9e98e88244dc845416943d7c5d70",
              "IPY_MODEL_c5c60c2e2f8f462cac63c452e568137f",
              "IPY_MODEL_77ae5a4772f14a9a9306d040b6bc8119"
            ],
            "layout": "IPY_MODEL_d8213205ab634f9da7dd86693d78c762"
          }
        },
        "ff0e9e98e88244dc845416943d7c5d70": {
          "model_module": "@jupyter-widgets/controls",
          "model_name": "HTMLModel",
          "model_module_version": "1.5.0",
          "state": {
            "_dom_classes": [],
            "_model_module": "@jupyter-widgets/controls",
            "_model_module_version": "1.5.0",
            "_model_name": "HTMLModel",
            "_view_count": null,
            "_view_module": "@jupyter-widgets/controls",
            "_view_module_version": "1.5.0",
            "_view_name": "HTMLView",
            "description": "",
            "description_tooltip": null,
            "layout": "IPY_MODEL_8af43831f62b4a719345308850978ea1",
            "placeholder": "​",
            "style": "IPY_MODEL_a3d83c24cce74c5eac795026e4dfa425",
            "value": "Downloading (…)382ba/.gitattributes: 100%"
          }
        },
        "c5c60c2e2f8f462cac63c452e568137f": {
          "model_module": "@jupyter-widgets/controls",
          "model_name": "FloatProgressModel",
          "model_module_version": "1.5.0",
          "state": {
            "_dom_classes": [],
            "_model_module": "@jupyter-widgets/controls",
            "_model_module_version": "1.5.0",
            "_model_name": "FloatProgressModel",
            "_view_count": null,
            "_view_module": "@jupyter-widgets/controls",
            "_view_module_version": "1.5.0",
            "_view_name": "ProgressView",
            "bar_style": "success",
            "description": "",
            "description_tooltip": null,
            "layout": "IPY_MODEL_9a906c017e624d6d88b4acc07725bf0e",
            "max": 445,
            "min": 0,
            "orientation": "horizontal",
            "style": "IPY_MODEL_eebbdb01235643db891109b638952842",
            "value": 445
          }
        },
        "77ae5a4772f14a9a9306d040b6bc8119": {
          "model_module": "@jupyter-widgets/controls",
          "model_name": "HTMLModel",
          "model_module_version": "1.5.0",
          "state": {
            "_dom_classes": [],
            "_model_module": "@jupyter-widgets/controls",
            "_model_module_version": "1.5.0",
            "_model_name": "HTMLModel",
            "_view_count": null,
            "_view_module": "@jupyter-widgets/controls",
            "_view_module_version": "1.5.0",
            "_view_name": "HTMLView",
            "description": "",
            "description_tooltip": null,
            "layout": "IPY_MODEL_87f1bd3ab29a4c7293de8da33249551d",
            "placeholder": "​",
            "style": "IPY_MODEL_2e8e3c0da4874ab39a23568c98188c2a",
            "value": " 445/445 [00:00&lt;00:00, 14.9kB/s]"
          }
        },
        "d8213205ab634f9da7dd86693d78c762": {
          "model_module": "@jupyter-widgets/base",
          "model_name": "LayoutModel",
          "model_module_version": "1.2.0",
          "state": {
            "_model_module": "@jupyter-widgets/base",
            "_model_module_version": "1.2.0",
            "_model_name": "LayoutModel",
            "_view_count": null,
            "_view_module": "@jupyter-widgets/base",
            "_view_module_version": "1.2.0",
            "_view_name": "LayoutView",
            "align_content": null,
            "align_items": null,
            "align_self": null,
            "border": null,
            "bottom": null,
            "display": null,
            "flex": null,
            "flex_flow": null,
            "grid_area": null,
            "grid_auto_columns": null,
            "grid_auto_flow": null,
            "grid_auto_rows": null,
            "grid_column": null,
            "grid_gap": null,
            "grid_row": null,
            "grid_template_areas": null,
            "grid_template_columns": null,
            "grid_template_rows": null,
            "height": null,
            "justify_content": null,
            "justify_items": null,
            "left": null,
            "margin": null,
            "max_height": null,
            "max_width": null,
            "min_height": null,
            "min_width": null,
            "object_fit": null,
            "object_position": null,
            "order": null,
            "overflow": null,
            "overflow_x": null,
            "overflow_y": null,
            "padding": null,
            "right": null,
            "top": null,
            "visibility": null,
            "width": null
          }
        },
        "8af43831f62b4a719345308850978ea1": {
          "model_module": "@jupyter-widgets/base",
          "model_name": "LayoutModel",
          "model_module_version": "1.2.0",
          "state": {
            "_model_module": "@jupyter-widgets/base",
            "_model_module_version": "1.2.0",
            "_model_name": "LayoutModel",
            "_view_count": null,
            "_view_module": "@jupyter-widgets/base",
            "_view_module_version": "1.2.0",
            "_view_name": "LayoutView",
            "align_content": null,
            "align_items": null,
            "align_self": null,
            "border": null,
            "bottom": null,
            "display": null,
            "flex": null,
            "flex_flow": null,
            "grid_area": null,
            "grid_auto_columns": null,
            "grid_auto_flow": null,
            "grid_auto_rows": null,
            "grid_column": null,
            "grid_gap": null,
            "grid_row": null,
            "grid_template_areas": null,
            "grid_template_columns": null,
            "grid_template_rows": null,
            "height": null,
            "justify_content": null,
            "justify_items": null,
            "left": null,
            "margin": null,
            "max_height": null,
            "max_width": null,
            "min_height": null,
            "min_width": null,
            "object_fit": null,
            "object_position": null,
            "order": null,
            "overflow": null,
            "overflow_x": null,
            "overflow_y": null,
            "padding": null,
            "right": null,
            "top": null,
            "visibility": null,
            "width": null
          }
        },
        "a3d83c24cce74c5eac795026e4dfa425": {
          "model_module": "@jupyter-widgets/controls",
          "model_name": "DescriptionStyleModel",
          "model_module_version": "1.5.0",
          "state": {
            "_model_module": "@jupyter-widgets/controls",
            "_model_module_version": "1.5.0",
            "_model_name": "DescriptionStyleModel",
            "_view_count": null,
            "_view_module": "@jupyter-widgets/base",
            "_view_module_version": "1.2.0",
            "_view_name": "StyleView",
            "description_width": ""
          }
        },
        "9a906c017e624d6d88b4acc07725bf0e": {
          "model_module": "@jupyter-widgets/base",
          "model_name": "LayoutModel",
          "model_module_version": "1.2.0",
          "state": {
            "_model_module": "@jupyter-widgets/base",
            "_model_module_version": "1.2.0",
            "_model_name": "LayoutModel",
            "_view_count": null,
            "_view_module": "@jupyter-widgets/base",
            "_view_module_version": "1.2.0",
            "_view_name": "LayoutView",
            "align_content": null,
            "align_items": null,
            "align_self": null,
            "border": null,
            "bottom": null,
            "display": null,
            "flex": null,
            "flex_flow": null,
            "grid_area": null,
            "grid_auto_columns": null,
            "grid_auto_flow": null,
            "grid_auto_rows": null,
            "grid_column": null,
            "grid_gap": null,
            "grid_row": null,
            "grid_template_areas": null,
            "grid_template_columns": null,
            "grid_template_rows": null,
            "height": null,
            "justify_content": null,
            "justify_items": null,
            "left": null,
            "margin": null,
            "max_height": null,
            "max_width": null,
            "min_height": null,
            "min_width": null,
            "object_fit": null,
            "object_position": null,
            "order": null,
            "overflow": null,
            "overflow_x": null,
            "overflow_y": null,
            "padding": null,
            "right": null,
            "top": null,
            "visibility": null,
            "width": null
          }
        },
        "eebbdb01235643db891109b638952842": {
          "model_module": "@jupyter-widgets/controls",
          "model_name": "ProgressStyleModel",
          "model_module_version": "1.5.0",
          "state": {
            "_model_module": "@jupyter-widgets/controls",
            "_model_module_version": "1.5.0",
            "_model_name": "ProgressStyleModel",
            "_view_count": null,
            "_view_module": "@jupyter-widgets/base",
            "_view_module_version": "1.2.0",
            "_view_name": "StyleView",
            "bar_color": null,
            "description_width": ""
          }
        },
        "87f1bd3ab29a4c7293de8da33249551d": {
          "model_module": "@jupyter-widgets/base",
          "model_name": "LayoutModel",
          "model_module_version": "1.2.0",
          "state": {
            "_model_module": "@jupyter-widgets/base",
            "_model_module_version": "1.2.0",
            "_model_name": "LayoutModel",
            "_view_count": null,
            "_view_module": "@jupyter-widgets/base",
            "_view_module_version": "1.2.0",
            "_view_name": "LayoutView",
            "align_content": null,
            "align_items": null,
            "align_self": null,
            "border": null,
            "bottom": null,
            "display": null,
            "flex": null,
            "flex_flow": null,
            "grid_area": null,
            "grid_auto_columns": null,
            "grid_auto_flow": null,
            "grid_auto_rows": null,
            "grid_column": null,
            "grid_gap": null,
            "grid_row": null,
            "grid_template_areas": null,
            "grid_template_columns": null,
            "grid_template_rows": null,
            "height": null,
            "justify_content": null,
            "justify_items": null,
            "left": null,
            "margin": null,
            "max_height": null,
            "max_width": null,
            "min_height": null,
            "min_width": null,
            "object_fit": null,
            "object_position": null,
            "order": null,
            "overflow": null,
            "overflow_x": null,
            "overflow_y": null,
            "padding": null,
            "right": null,
            "top": null,
            "visibility": null,
            "width": null
          }
        },
        "2e8e3c0da4874ab39a23568c98188c2a": {
          "model_module": "@jupyter-widgets/controls",
          "model_name": "DescriptionStyleModel",
          "model_module_version": "1.5.0",
          "state": {
            "_model_module": "@jupyter-widgets/controls",
            "_model_module_version": "1.5.0",
            "_model_name": "DescriptionStyleModel",
            "_view_count": null,
            "_view_module": "@jupyter-widgets/base",
            "_view_module_version": "1.2.0",
            "_view_name": "StyleView",
            "description_width": ""
          }
        },
        "79cb34e77b0548a39f0c8c79ff58b159": {
          "model_module": "@jupyter-widgets/controls",
          "model_name": "HBoxModel",
          "model_module_version": "1.5.0",
          "state": {
            "_dom_classes": [],
            "_model_module": "@jupyter-widgets/controls",
            "_model_module_version": "1.5.0",
            "_model_name": "HBoxModel",
            "_view_count": null,
            "_view_module": "@jupyter-widgets/controls",
            "_view_module_version": "1.5.0",
            "_view_name": "HBoxView",
            "box_style": "",
            "children": [
              "IPY_MODEL_b1d03d6c79f84e8092099f8ed3eb753f",
              "IPY_MODEL_9e654a4b89dd4e3e953a36b09a9b5d5b",
              "IPY_MODEL_671513a87cac4ce7a995fbdd02f33d14"
            ],
            "layout": "IPY_MODEL_17398889e1ef4e30a673d14a493be936"
          }
        },
        "b1d03d6c79f84e8092099f8ed3eb753f": {
          "model_module": "@jupyter-widgets/controls",
          "model_name": "HTMLModel",
          "model_module_version": "1.5.0",
          "state": {
            "_dom_classes": [],
            "_model_module": "@jupyter-widgets/controls",
            "_model_module_version": "1.5.0",
            "_model_name": "HTMLModel",
            "_view_count": null,
            "_view_module": "@jupyter-widgets/controls",
            "_view_module_version": "1.5.0",
            "_view_name": "HTMLView",
            "description": "",
            "description_tooltip": null,
            "layout": "IPY_MODEL_18fe1cb151dc4a1e8f2b81196d6d047d",
            "placeholder": "​",
            "style": "IPY_MODEL_b0dcbc7ca15640dc8afd5d502fbdbf8c",
            "value": "Downloading (…)e19f0382ba/README.md: 100%"
          }
        },
        "9e654a4b89dd4e3e953a36b09a9b5d5b": {
          "model_module": "@jupyter-widgets/controls",
          "model_name": "FloatProgressModel",
          "model_module_version": "1.5.0",
          "state": {
            "_dom_classes": [],
            "_model_module": "@jupyter-widgets/controls",
            "_model_module_version": "1.5.0",
            "_model_name": "FloatProgressModel",
            "_view_count": null,
            "_view_module": "@jupyter-widgets/controls",
            "_view_module_version": "1.5.0",
            "_view_name": "ProgressView",
            "bar_style": "success",
            "description": "",
            "description_tooltip": null,
            "layout": "IPY_MODEL_587af4fffa9944928b0f09b26b0fda86",
            "max": 7104,
            "min": 0,
            "orientation": "horizontal",
            "style": "IPY_MODEL_02de14f990f549b29df708cc3e47f74b",
            "value": 7104
          }
        },
        "671513a87cac4ce7a995fbdd02f33d14": {
          "model_module": "@jupyter-widgets/controls",
          "model_name": "HTMLModel",
          "model_module_version": "1.5.0",
          "state": {
            "_dom_classes": [],
            "_model_module": "@jupyter-widgets/controls",
            "_model_module_version": "1.5.0",
            "_model_name": "HTMLModel",
            "_view_count": null,
            "_view_module": "@jupyter-widgets/controls",
            "_view_module_version": "1.5.0",
            "_view_name": "HTMLView",
            "description": "",
            "description_tooltip": null,
            "layout": "IPY_MODEL_4c79302645c64d42862ab5dfaddb35a1",
            "placeholder": "​",
            "style": "IPY_MODEL_4cb40259ec954c599add3d4248b54203",
            "value": " 7.10k/7.10k [00:00&lt;00:00, 247kB/s]"
          }
        },
        "17398889e1ef4e30a673d14a493be936": {
          "model_module": "@jupyter-widgets/base",
          "model_name": "LayoutModel",
          "model_module_version": "1.2.0",
          "state": {
            "_model_module": "@jupyter-widgets/base",
            "_model_module_version": "1.2.0",
            "_model_name": "LayoutModel",
            "_view_count": null,
            "_view_module": "@jupyter-widgets/base",
            "_view_module_version": "1.2.0",
            "_view_name": "LayoutView",
            "align_content": null,
            "align_items": null,
            "align_self": null,
            "border": null,
            "bottom": null,
            "display": null,
            "flex": null,
            "flex_flow": null,
            "grid_area": null,
            "grid_auto_columns": null,
            "grid_auto_flow": null,
            "grid_auto_rows": null,
            "grid_column": null,
            "grid_gap": null,
            "grid_row": null,
            "grid_template_areas": null,
            "grid_template_columns": null,
            "grid_template_rows": null,
            "height": null,
            "justify_content": null,
            "justify_items": null,
            "left": null,
            "margin": null,
            "max_height": null,
            "max_width": null,
            "min_height": null,
            "min_width": null,
            "object_fit": null,
            "object_position": null,
            "order": null,
            "overflow": null,
            "overflow_x": null,
            "overflow_y": null,
            "padding": null,
            "right": null,
            "top": null,
            "visibility": null,
            "width": null
          }
        },
        "18fe1cb151dc4a1e8f2b81196d6d047d": {
          "model_module": "@jupyter-widgets/base",
          "model_name": "LayoutModel",
          "model_module_version": "1.2.0",
          "state": {
            "_model_module": "@jupyter-widgets/base",
            "_model_module_version": "1.2.0",
            "_model_name": "LayoutModel",
            "_view_count": null,
            "_view_module": "@jupyter-widgets/base",
            "_view_module_version": "1.2.0",
            "_view_name": "LayoutView",
            "align_content": null,
            "align_items": null,
            "align_self": null,
            "border": null,
            "bottom": null,
            "display": null,
            "flex": null,
            "flex_flow": null,
            "grid_area": null,
            "grid_auto_columns": null,
            "grid_auto_flow": null,
            "grid_auto_rows": null,
            "grid_column": null,
            "grid_gap": null,
            "grid_row": null,
            "grid_template_areas": null,
            "grid_template_columns": null,
            "grid_template_rows": null,
            "height": null,
            "justify_content": null,
            "justify_items": null,
            "left": null,
            "margin": null,
            "max_height": null,
            "max_width": null,
            "min_height": null,
            "min_width": null,
            "object_fit": null,
            "object_position": null,
            "order": null,
            "overflow": null,
            "overflow_x": null,
            "overflow_y": null,
            "padding": null,
            "right": null,
            "top": null,
            "visibility": null,
            "width": null
          }
        },
        "b0dcbc7ca15640dc8afd5d502fbdbf8c": {
          "model_module": "@jupyter-widgets/controls",
          "model_name": "DescriptionStyleModel",
          "model_module_version": "1.5.0",
          "state": {
            "_model_module": "@jupyter-widgets/controls",
            "_model_module_version": "1.5.0",
            "_model_name": "DescriptionStyleModel",
            "_view_count": null,
            "_view_module": "@jupyter-widgets/base",
            "_view_module_version": "1.2.0",
            "_view_name": "StyleView",
            "description_width": ""
          }
        },
        "587af4fffa9944928b0f09b26b0fda86": {
          "model_module": "@jupyter-widgets/base",
          "model_name": "LayoutModel",
          "model_module_version": "1.2.0",
          "state": {
            "_model_module": "@jupyter-widgets/base",
            "_model_module_version": "1.2.0",
            "_model_name": "LayoutModel",
            "_view_count": null,
            "_view_module": "@jupyter-widgets/base",
            "_view_module_version": "1.2.0",
            "_view_name": "LayoutView",
            "align_content": null,
            "align_items": null,
            "align_self": null,
            "border": null,
            "bottom": null,
            "display": null,
            "flex": null,
            "flex_flow": null,
            "grid_area": null,
            "grid_auto_columns": null,
            "grid_auto_flow": null,
            "grid_auto_rows": null,
            "grid_column": null,
            "grid_gap": null,
            "grid_row": null,
            "grid_template_areas": null,
            "grid_template_columns": null,
            "grid_template_rows": null,
            "height": null,
            "justify_content": null,
            "justify_items": null,
            "left": null,
            "margin": null,
            "max_height": null,
            "max_width": null,
            "min_height": null,
            "min_width": null,
            "object_fit": null,
            "object_position": null,
            "order": null,
            "overflow": null,
            "overflow_x": null,
            "overflow_y": null,
            "padding": null,
            "right": null,
            "top": null,
            "visibility": null,
            "width": null
          }
        },
        "02de14f990f549b29df708cc3e47f74b": {
          "model_module": "@jupyter-widgets/controls",
          "model_name": "ProgressStyleModel",
          "model_module_version": "1.5.0",
          "state": {
            "_model_module": "@jupyter-widgets/controls",
            "_model_module_version": "1.5.0",
            "_model_name": "ProgressStyleModel",
            "_view_count": null,
            "_view_module": "@jupyter-widgets/base",
            "_view_module_version": "1.2.0",
            "_view_name": "StyleView",
            "bar_color": null,
            "description_width": ""
          }
        },
        "4c79302645c64d42862ab5dfaddb35a1": {
          "model_module": "@jupyter-widgets/base",
          "model_name": "LayoutModel",
          "model_module_version": "1.2.0",
          "state": {
            "_model_module": "@jupyter-widgets/base",
            "_model_module_version": "1.2.0",
            "_model_name": "LayoutModel",
            "_view_count": null,
            "_view_module": "@jupyter-widgets/base",
            "_view_module_version": "1.2.0",
            "_view_name": "LayoutView",
            "align_content": null,
            "align_items": null,
            "align_self": null,
            "border": null,
            "bottom": null,
            "display": null,
            "flex": null,
            "flex_flow": null,
            "grid_area": null,
            "grid_auto_columns": null,
            "grid_auto_flow": null,
            "grid_auto_rows": null,
            "grid_column": null,
            "grid_gap": null,
            "grid_row": null,
            "grid_template_areas": null,
            "grid_template_columns": null,
            "grid_template_rows": null,
            "height": null,
            "justify_content": null,
            "justify_items": null,
            "left": null,
            "margin": null,
            "max_height": null,
            "max_width": null,
            "min_height": null,
            "min_width": null,
            "object_fit": null,
            "object_position": null,
            "order": null,
            "overflow": null,
            "overflow_x": null,
            "overflow_y": null,
            "padding": null,
            "right": null,
            "top": null,
            "visibility": null,
            "width": null
          }
        },
        "4cb40259ec954c599add3d4248b54203": {
          "model_module": "@jupyter-widgets/controls",
          "model_name": "DescriptionStyleModel",
          "model_module_version": "1.5.0",
          "state": {
            "_model_module": "@jupyter-widgets/controls",
            "_model_module_version": "1.5.0",
            "_model_name": "DescriptionStyleModel",
            "_view_count": null,
            "_view_module": "@jupyter-widgets/base",
            "_view_module_version": "1.2.0",
            "_view_name": "StyleView",
            "description_width": ""
          }
        },
        "6d52eb0025b0471d827502d26d439968": {
          "model_module": "@jupyter-widgets/controls",
          "model_name": "HBoxModel",
          "model_module_version": "1.5.0",
          "state": {
            "_dom_classes": [],
            "_model_module": "@jupyter-widgets/controls",
            "_model_module_version": "1.5.0",
            "_model_name": "HBoxModel",
            "_view_count": null,
            "_view_module": "@jupyter-widgets/controls",
            "_view_module_version": "1.5.0",
            "_view_name": "HBoxView",
            "box_style": "",
            "children": [
              "IPY_MODEL_41816b2fe71046daa50ae1679294e238",
              "IPY_MODEL_f52d769fa6d5461c87253e16d0d9ccba",
              "IPY_MODEL_d1476e03463b4b0a906f60f70606235e"
            ],
            "layout": "IPY_MODEL_7137df8a424649819320a1f8c1dfda22"
          }
        },
        "41816b2fe71046daa50ae1679294e238": {
          "model_module": "@jupyter-widgets/controls",
          "model_name": "HTMLModel",
          "model_module_version": "1.5.0",
          "state": {
            "_dom_classes": [],
            "_model_module": "@jupyter-widgets/controls",
            "_model_module_version": "1.5.0",
            "_model_name": "HTMLModel",
            "_view_count": null,
            "_view_module": "@jupyter-widgets/controls",
            "_view_module_version": "1.5.0",
            "_view_name": "HTMLView",
            "description": "",
            "description_tooltip": null,
            "layout": "IPY_MODEL_6306a67e39b14e99b40b0f8348a04ad4",
            "placeholder": "​",
            "style": "IPY_MODEL_13c254c101ea4e6f8d1c1e45c011a2c7",
            "value": "Downloading (…)9f0382ba/config.json: 100%"
          }
        },
        "f52d769fa6d5461c87253e16d0d9ccba": {
          "model_module": "@jupyter-widgets/controls",
          "model_name": "FloatProgressModel",
          "model_module_version": "1.5.0",
          "state": {
            "_dom_classes": [],
            "_model_module": "@jupyter-widgets/controls",
            "_model_module_version": "1.5.0",
            "_model_name": "FloatProgressModel",
            "_view_count": null,
            "_view_module": "@jupyter-widgets/controls",
            "_view_module_version": "1.5.0",
            "_view_name": "ProgressView",
            "bar_style": "success",
            "description": "",
            "description_tooltip": null,
            "layout": "IPY_MODEL_c7f8a5ca8d47430585b1dc6a62963879",
            "max": 625,
            "min": 0,
            "orientation": "horizontal",
            "style": "IPY_MODEL_2916c60a16ac4c96b9db8ee199f0f3c1",
            "value": 625
          }
        },
        "d1476e03463b4b0a906f60f70606235e": {
          "model_module": "@jupyter-widgets/controls",
          "model_name": "HTMLModel",
          "model_module_version": "1.5.0",
          "state": {
            "_dom_classes": [],
            "_model_module": "@jupyter-widgets/controls",
            "_model_module_version": "1.5.0",
            "_model_name": "HTMLModel",
            "_view_count": null,
            "_view_module": "@jupyter-widgets/controls",
            "_view_module_version": "1.5.0",
            "_view_name": "HTMLView",
            "description": "",
            "description_tooltip": null,
            "layout": "IPY_MODEL_e604cab300bb4bd4bab31c03cac89579",
            "placeholder": "​",
            "style": "IPY_MODEL_99b646fd5a0f4ef9b5638d4aff8eef86",
            "value": " 625/625 [00:00&lt;00:00, 32.3kB/s]"
          }
        },
        "7137df8a424649819320a1f8c1dfda22": {
          "model_module": "@jupyter-widgets/base",
          "model_name": "LayoutModel",
          "model_module_version": "1.2.0",
          "state": {
            "_model_module": "@jupyter-widgets/base",
            "_model_module_version": "1.2.0",
            "_model_name": "LayoutModel",
            "_view_count": null,
            "_view_module": "@jupyter-widgets/base",
            "_view_module_version": "1.2.0",
            "_view_name": "LayoutView",
            "align_content": null,
            "align_items": null,
            "align_self": null,
            "border": null,
            "bottom": null,
            "display": null,
            "flex": null,
            "flex_flow": null,
            "grid_area": null,
            "grid_auto_columns": null,
            "grid_auto_flow": null,
            "grid_auto_rows": null,
            "grid_column": null,
            "grid_gap": null,
            "grid_row": null,
            "grid_template_areas": null,
            "grid_template_columns": null,
            "grid_template_rows": null,
            "height": null,
            "justify_content": null,
            "justify_items": null,
            "left": null,
            "margin": null,
            "max_height": null,
            "max_width": null,
            "min_height": null,
            "min_width": null,
            "object_fit": null,
            "object_position": null,
            "order": null,
            "overflow": null,
            "overflow_x": null,
            "overflow_y": null,
            "padding": null,
            "right": null,
            "top": null,
            "visibility": null,
            "width": null
          }
        },
        "6306a67e39b14e99b40b0f8348a04ad4": {
          "model_module": "@jupyter-widgets/base",
          "model_name": "LayoutModel",
          "model_module_version": "1.2.0",
          "state": {
            "_model_module": "@jupyter-widgets/base",
            "_model_module_version": "1.2.0",
            "_model_name": "LayoutModel",
            "_view_count": null,
            "_view_module": "@jupyter-widgets/base",
            "_view_module_version": "1.2.0",
            "_view_name": "LayoutView",
            "align_content": null,
            "align_items": null,
            "align_self": null,
            "border": null,
            "bottom": null,
            "display": null,
            "flex": null,
            "flex_flow": null,
            "grid_area": null,
            "grid_auto_columns": null,
            "grid_auto_flow": null,
            "grid_auto_rows": null,
            "grid_column": null,
            "grid_gap": null,
            "grid_row": null,
            "grid_template_areas": null,
            "grid_template_columns": null,
            "grid_template_rows": null,
            "height": null,
            "justify_content": null,
            "justify_items": null,
            "left": null,
            "margin": null,
            "max_height": null,
            "max_width": null,
            "min_height": null,
            "min_width": null,
            "object_fit": null,
            "object_position": null,
            "order": null,
            "overflow": null,
            "overflow_x": null,
            "overflow_y": null,
            "padding": null,
            "right": null,
            "top": null,
            "visibility": null,
            "width": null
          }
        },
        "13c254c101ea4e6f8d1c1e45c011a2c7": {
          "model_module": "@jupyter-widgets/controls",
          "model_name": "DescriptionStyleModel",
          "model_module_version": "1.5.0",
          "state": {
            "_model_module": "@jupyter-widgets/controls",
            "_model_module_version": "1.5.0",
            "_model_name": "DescriptionStyleModel",
            "_view_count": null,
            "_view_module": "@jupyter-widgets/base",
            "_view_module_version": "1.2.0",
            "_view_name": "StyleView",
            "description_width": ""
          }
        },
        "c7f8a5ca8d47430585b1dc6a62963879": {
          "model_module": "@jupyter-widgets/base",
          "model_name": "LayoutModel",
          "model_module_version": "1.2.0",
          "state": {
            "_model_module": "@jupyter-widgets/base",
            "_model_module_version": "1.2.0",
            "_model_name": "LayoutModel",
            "_view_count": null,
            "_view_module": "@jupyter-widgets/base",
            "_view_module_version": "1.2.0",
            "_view_name": "LayoutView",
            "align_content": null,
            "align_items": null,
            "align_self": null,
            "border": null,
            "bottom": null,
            "display": null,
            "flex": null,
            "flex_flow": null,
            "grid_area": null,
            "grid_auto_columns": null,
            "grid_auto_flow": null,
            "grid_auto_rows": null,
            "grid_column": null,
            "grid_gap": null,
            "grid_row": null,
            "grid_template_areas": null,
            "grid_template_columns": null,
            "grid_template_rows": null,
            "height": null,
            "justify_content": null,
            "justify_items": null,
            "left": null,
            "margin": null,
            "max_height": null,
            "max_width": null,
            "min_height": null,
            "min_width": null,
            "object_fit": null,
            "object_position": null,
            "order": null,
            "overflow": null,
            "overflow_x": null,
            "overflow_y": null,
            "padding": null,
            "right": null,
            "top": null,
            "visibility": null,
            "width": null
          }
        },
        "2916c60a16ac4c96b9db8ee199f0f3c1": {
          "model_module": "@jupyter-widgets/controls",
          "model_name": "ProgressStyleModel",
          "model_module_version": "1.5.0",
          "state": {
            "_model_module": "@jupyter-widgets/controls",
            "_model_module_version": "1.5.0",
            "_model_name": "ProgressStyleModel",
            "_view_count": null,
            "_view_module": "@jupyter-widgets/base",
            "_view_module_version": "1.2.0",
            "_view_name": "StyleView",
            "bar_color": null,
            "description_width": ""
          }
        },
        "e604cab300bb4bd4bab31c03cac89579": {
          "model_module": "@jupyter-widgets/base",
          "model_name": "LayoutModel",
          "model_module_version": "1.2.0",
          "state": {
            "_model_module": "@jupyter-widgets/base",
            "_model_module_version": "1.2.0",
            "_model_name": "LayoutModel",
            "_view_count": null,
            "_view_module": "@jupyter-widgets/base",
            "_view_module_version": "1.2.0",
            "_view_name": "LayoutView",
            "align_content": null,
            "align_items": null,
            "align_self": null,
            "border": null,
            "bottom": null,
            "display": null,
            "flex": null,
            "flex_flow": null,
            "grid_area": null,
            "grid_auto_columns": null,
            "grid_auto_flow": null,
            "grid_auto_rows": null,
            "grid_column": null,
            "grid_gap": null,
            "grid_row": null,
            "grid_template_areas": null,
            "grid_template_columns": null,
            "grid_template_rows": null,
            "height": null,
            "justify_content": null,
            "justify_items": null,
            "left": null,
            "margin": null,
            "max_height": null,
            "max_width": null,
            "min_height": null,
            "min_width": null,
            "object_fit": null,
            "object_position": null,
            "order": null,
            "overflow": null,
            "overflow_x": null,
            "overflow_y": null,
            "padding": null,
            "right": null,
            "top": null,
            "visibility": null,
            "width": null
          }
        },
        "99b646fd5a0f4ef9b5638d4aff8eef86": {
          "model_module": "@jupyter-widgets/controls",
          "model_name": "DescriptionStyleModel",
          "model_module_version": "1.5.0",
          "state": {
            "_model_module": "@jupyter-widgets/controls",
            "_model_module_version": "1.5.0",
            "_model_name": "DescriptionStyleModel",
            "_view_count": null,
            "_view_module": "@jupyter-widgets/base",
            "_view_module_version": "1.2.0",
            "_view_name": "StyleView",
            "description_width": ""
          }
        },
        "a3c1422492c7468693d28fde439fc8bb": {
          "model_module": "@jupyter-widgets/controls",
          "model_name": "HBoxModel",
          "model_module_version": "1.5.0",
          "state": {
            "_dom_classes": [],
            "_model_module": "@jupyter-widgets/controls",
            "_model_module_version": "1.5.0",
            "_model_name": "HBoxModel",
            "_view_count": null,
            "_view_module": "@jupyter-widgets/controls",
            "_view_module_version": "1.5.0",
            "_view_name": "HBoxView",
            "box_style": "",
            "children": [
              "IPY_MODEL_dfb3771d5cf7426a87bb846e110925ef",
              "IPY_MODEL_21f229f296884fd781dbffb4499b2124",
              "IPY_MODEL_89d94440e4e2420397f04b21fd20c4d7"
            ],
            "layout": "IPY_MODEL_2fd4bc253dd64a3c80670e50bc59f942"
          }
        },
        "dfb3771d5cf7426a87bb846e110925ef": {
          "model_module": "@jupyter-widgets/controls",
          "model_name": "HTMLModel",
          "model_module_version": "1.5.0",
          "state": {
            "_dom_classes": [],
            "_model_module": "@jupyter-widgets/controls",
            "_model_module_version": "1.5.0",
            "_model_name": "HTMLModel",
            "_view_count": null,
            "_view_module": "@jupyter-widgets/controls",
            "_view_module_version": "1.5.0",
            "_view_name": "HTMLView",
            "description": "",
            "description_tooltip": null,
            "layout": "IPY_MODEL_c0377279381647cca8a0089079d995be",
            "placeholder": "​",
            "style": "IPY_MODEL_bf434a4fb67e4e8ab0757ebd1e59fa6f",
            "value": "Downloading model.safetensors: 100%"
          }
        },
        "21f229f296884fd781dbffb4499b2124": {
          "model_module": "@jupyter-widgets/controls",
          "model_name": "FloatProgressModel",
          "model_module_version": "1.5.0",
          "state": {
            "_dom_classes": [],
            "_model_module": "@jupyter-widgets/controls",
            "_model_module_version": "1.5.0",
            "_model_name": "FloatProgressModel",
            "_view_count": null,
            "_view_module": "@jupyter-widgets/controls",
            "_view_module_version": "1.5.0",
            "_view_name": "ProgressView",
            "bar_style": "success",
            "description": "",
            "description_tooltip": null,
            "layout": "IPY_MODEL_c2e48851ec3e4e378b4c53e3acfb4832",
            "max": 714290682,
            "min": 0,
            "orientation": "horizontal",
            "style": "IPY_MODEL_8b54901353b144d89280ec8b5641ca54",
            "value": 714290682
          }
        },
        "89d94440e4e2420397f04b21fd20c4d7": {
          "model_module": "@jupyter-widgets/controls",
          "model_name": "HTMLModel",
          "model_module_version": "1.5.0",
          "state": {
            "_dom_classes": [],
            "_model_module": "@jupyter-widgets/controls",
            "_model_module_version": "1.5.0",
            "_model_name": "HTMLModel",
            "_view_count": null,
            "_view_module": "@jupyter-widgets/controls",
            "_view_module_version": "1.5.0",
            "_view_name": "HTMLView",
            "description": "",
            "description_tooltip": null,
            "layout": "IPY_MODEL_30b8cefddb0b4e5cbf402802fb56b6f3",
            "placeholder": "​",
            "style": "IPY_MODEL_fef9ab9701e0490baf62705e9a272301",
            "value": " 714M/714M [00:04&lt;00:00, 173MB/s]"
          }
        },
        "2fd4bc253dd64a3c80670e50bc59f942": {
          "model_module": "@jupyter-widgets/base",
          "model_name": "LayoutModel",
          "model_module_version": "1.2.0",
          "state": {
            "_model_module": "@jupyter-widgets/base",
            "_model_module_version": "1.2.0",
            "_model_name": "LayoutModel",
            "_view_count": null,
            "_view_module": "@jupyter-widgets/base",
            "_view_module_version": "1.2.0",
            "_view_name": "LayoutView",
            "align_content": null,
            "align_items": null,
            "align_self": null,
            "border": null,
            "bottom": null,
            "display": null,
            "flex": null,
            "flex_flow": null,
            "grid_area": null,
            "grid_auto_columns": null,
            "grid_auto_flow": null,
            "grid_auto_rows": null,
            "grid_column": null,
            "grid_gap": null,
            "grid_row": null,
            "grid_template_areas": null,
            "grid_template_columns": null,
            "grid_template_rows": null,
            "height": null,
            "justify_content": null,
            "justify_items": null,
            "left": null,
            "margin": null,
            "max_height": null,
            "max_width": null,
            "min_height": null,
            "min_width": null,
            "object_fit": null,
            "object_position": null,
            "order": null,
            "overflow": null,
            "overflow_x": null,
            "overflow_y": null,
            "padding": null,
            "right": null,
            "top": null,
            "visibility": null,
            "width": null
          }
        },
        "c0377279381647cca8a0089079d995be": {
          "model_module": "@jupyter-widgets/base",
          "model_name": "LayoutModel",
          "model_module_version": "1.2.0",
          "state": {
            "_model_module": "@jupyter-widgets/base",
            "_model_module_version": "1.2.0",
            "_model_name": "LayoutModel",
            "_view_count": null,
            "_view_module": "@jupyter-widgets/base",
            "_view_module_version": "1.2.0",
            "_view_name": "LayoutView",
            "align_content": null,
            "align_items": null,
            "align_self": null,
            "border": null,
            "bottom": null,
            "display": null,
            "flex": null,
            "flex_flow": null,
            "grid_area": null,
            "grid_auto_columns": null,
            "grid_auto_flow": null,
            "grid_auto_rows": null,
            "grid_column": null,
            "grid_gap": null,
            "grid_row": null,
            "grid_template_areas": null,
            "grid_template_columns": null,
            "grid_template_rows": null,
            "height": null,
            "justify_content": null,
            "justify_items": null,
            "left": null,
            "margin": null,
            "max_height": null,
            "max_width": null,
            "min_height": null,
            "min_width": null,
            "object_fit": null,
            "object_position": null,
            "order": null,
            "overflow": null,
            "overflow_x": null,
            "overflow_y": null,
            "padding": null,
            "right": null,
            "top": null,
            "visibility": null,
            "width": null
          }
        },
        "bf434a4fb67e4e8ab0757ebd1e59fa6f": {
          "model_module": "@jupyter-widgets/controls",
          "model_name": "DescriptionStyleModel",
          "model_module_version": "1.5.0",
          "state": {
            "_model_module": "@jupyter-widgets/controls",
            "_model_module_version": "1.5.0",
            "_model_name": "DescriptionStyleModel",
            "_view_count": null,
            "_view_module": "@jupyter-widgets/base",
            "_view_module_version": "1.2.0",
            "_view_name": "StyleView",
            "description_width": ""
          }
        },
        "c2e48851ec3e4e378b4c53e3acfb4832": {
          "model_module": "@jupyter-widgets/base",
          "model_name": "LayoutModel",
          "model_module_version": "1.2.0",
          "state": {
            "_model_module": "@jupyter-widgets/base",
            "_model_module_version": "1.2.0",
            "_model_name": "LayoutModel",
            "_view_count": null,
            "_view_module": "@jupyter-widgets/base",
            "_view_module_version": "1.2.0",
            "_view_name": "LayoutView",
            "align_content": null,
            "align_items": null,
            "align_self": null,
            "border": null,
            "bottom": null,
            "display": null,
            "flex": null,
            "flex_flow": null,
            "grid_area": null,
            "grid_auto_columns": null,
            "grid_auto_flow": null,
            "grid_auto_rows": null,
            "grid_column": null,
            "grid_gap": null,
            "grid_row": null,
            "grid_template_areas": null,
            "grid_template_columns": null,
            "grid_template_rows": null,
            "height": null,
            "justify_content": null,
            "justify_items": null,
            "left": null,
            "margin": null,
            "max_height": null,
            "max_width": null,
            "min_height": null,
            "min_width": null,
            "object_fit": null,
            "object_position": null,
            "order": null,
            "overflow": null,
            "overflow_x": null,
            "overflow_y": null,
            "padding": null,
            "right": null,
            "top": null,
            "visibility": null,
            "width": null
          }
        },
        "8b54901353b144d89280ec8b5641ca54": {
          "model_module": "@jupyter-widgets/controls",
          "model_name": "ProgressStyleModel",
          "model_module_version": "1.5.0",
          "state": {
            "_model_module": "@jupyter-widgets/controls",
            "_model_module_version": "1.5.0",
            "_model_name": "ProgressStyleModel",
            "_view_count": null,
            "_view_module": "@jupyter-widgets/base",
            "_view_module_version": "1.2.0",
            "_view_name": "StyleView",
            "bar_color": null,
            "description_width": ""
          }
        },
        "30b8cefddb0b4e5cbf402802fb56b6f3": {
          "model_module": "@jupyter-widgets/base",
          "model_name": "LayoutModel",
          "model_module_version": "1.2.0",
          "state": {
            "_model_module": "@jupyter-widgets/base",
            "_model_module_version": "1.2.0",
            "_model_name": "LayoutModel",
            "_view_count": null,
            "_view_module": "@jupyter-widgets/base",
            "_view_module_version": "1.2.0",
            "_view_name": "LayoutView",
            "align_content": null,
            "align_items": null,
            "align_self": null,
            "border": null,
            "bottom": null,
            "display": null,
            "flex": null,
            "flex_flow": null,
            "grid_area": null,
            "grid_auto_columns": null,
            "grid_auto_flow": null,
            "grid_auto_rows": null,
            "grid_column": null,
            "grid_gap": null,
            "grid_row": null,
            "grid_template_areas": null,
            "grid_template_columns": null,
            "grid_template_rows": null,
            "height": null,
            "justify_content": null,
            "justify_items": null,
            "left": null,
            "margin": null,
            "max_height": null,
            "max_width": null,
            "min_height": null,
            "min_width": null,
            "object_fit": null,
            "object_position": null,
            "order": null,
            "overflow": null,
            "overflow_x": null,
            "overflow_y": null,
            "padding": null,
            "right": null,
            "top": null,
            "visibility": null,
            "width": null
          }
        },
        "fef9ab9701e0490baf62705e9a272301": {
          "model_module": "@jupyter-widgets/controls",
          "model_name": "DescriptionStyleModel",
          "model_module_version": "1.5.0",
          "state": {
            "_model_module": "@jupyter-widgets/controls",
            "_model_module_version": "1.5.0",
            "_model_name": "DescriptionStyleModel",
            "_view_count": null,
            "_view_module": "@jupyter-widgets/base",
            "_view_module_version": "1.2.0",
            "_view_name": "StyleView",
            "description_width": ""
          }
        },
        "5ca67c7989f5478ea8d33472e2761c20": {
          "model_module": "@jupyter-widgets/controls",
          "model_name": "HBoxModel",
          "model_module_version": "1.5.0",
          "state": {
            "_dom_classes": [],
            "_model_module": "@jupyter-widgets/controls",
            "_model_module_version": "1.5.0",
            "_model_name": "HBoxModel",
            "_view_count": null,
            "_view_module": "@jupyter-widgets/controls",
            "_view_module_version": "1.5.0",
            "_view_name": "HBoxView",
            "box_style": "",
            "children": [
              "IPY_MODEL_f25b6e055e204313bd6418288cfed3f5",
              "IPY_MODEL_cea2bdcc3290448eb901e70e3a1f78e4",
              "IPY_MODEL_73d76e226bce427d8077fbebd50aff82"
            ],
            "layout": "IPY_MODEL_cb787e14fe334e71b4d733246dee4d78"
          }
        },
        "f25b6e055e204313bd6418288cfed3f5": {
          "model_module": "@jupyter-widgets/controls",
          "model_name": "HTMLModel",
          "model_module_version": "1.5.0",
          "state": {
            "_dom_classes": [],
            "_model_module": "@jupyter-widgets/controls",
            "_model_module_version": "1.5.0",
            "_model_name": "HTMLModel",
            "_view_count": null,
            "_view_module": "@jupyter-widgets/controls",
            "_view_module_version": "1.5.0",
            "_view_name": "HTMLView",
            "description": "",
            "description_tooltip": null,
            "layout": "IPY_MODEL_2ed06fc9cd194ac69d776750f8ef7d05",
            "placeholder": "​",
            "style": "IPY_MODEL_e5a25a6d7783492186bfd2ebfdbc4b6c",
            "value": "Downloading pytorch_model.bin: 100%"
          }
        },
        "cea2bdcc3290448eb901e70e3a1f78e4": {
          "model_module": "@jupyter-widgets/controls",
          "model_name": "FloatProgressModel",
          "model_module_version": "1.5.0",
          "state": {
            "_dom_classes": [],
            "_model_module": "@jupyter-widgets/controls",
            "_model_module_version": "1.5.0",
            "_model_name": "FloatProgressModel",
            "_view_count": null,
            "_view_module": "@jupyter-widgets/controls",
            "_view_module_version": "1.5.0",
            "_view_name": "ProgressView",
            "bar_style": "success",
            "description": "",
            "description_tooltip": null,
            "layout": "IPY_MODEL_66da366d78694cc3a0b5550f3a2f8af8",
            "max": 714314041,
            "min": 0,
            "orientation": "horizontal",
            "style": "IPY_MODEL_daf6de88439f435d86fe40be0de64037",
            "value": 714314041
          }
        },
        "73d76e226bce427d8077fbebd50aff82": {
          "model_module": "@jupyter-widgets/controls",
          "model_name": "HTMLModel",
          "model_module_version": "1.5.0",
          "state": {
            "_dom_classes": [],
            "_model_module": "@jupyter-widgets/controls",
            "_model_module_version": "1.5.0",
            "_model_name": "HTMLModel",
            "_view_count": null,
            "_view_module": "@jupyter-widgets/controls",
            "_view_module_version": "1.5.0",
            "_view_name": "HTMLView",
            "description": "",
            "description_tooltip": null,
            "layout": "IPY_MODEL_5c5e3497246d4830b42b72b8290fc84b",
            "placeholder": "​",
            "style": "IPY_MODEL_76e782373113413f9ee6f2c7e9343e03",
            "value": " 714M/714M [00:06&lt;00:00, 135MB/s]"
          }
        },
        "cb787e14fe334e71b4d733246dee4d78": {
          "model_module": "@jupyter-widgets/base",
          "model_name": "LayoutModel",
          "model_module_version": "1.2.0",
          "state": {
            "_model_module": "@jupyter-widgets/base",
            "_model_module_version": "1.2.0",
            "_model_name": "LayoutModel",
            "_view_count": null,
            "_view_module": "@jupyter-widgets/base",
            "_view_module_version": "1.2.0",
            "_view_name": "LayoutView",
            "align_content": null,
            "align_items": null,
            "align_self": null,
            "border": null,
            "bottom": null,
            "display": null,
            "flex": null,
            "flex_flow": null,
            "grid_area": null,
            "grid_auto_columns": null,
            "grid_auto_flow": null,
            "grid_auto_rows": null,
            "grid_column": null,
            "grid_gap": null,
            "grid_row": null,
            "grid_template_areas": null,
            "grid_template_columns": null,
            "grid_template_rows": null,
            "height": null,
            "justify_content": null,
            "justify_items": null,
            "left": null,
            "margin": null,
            "max_height": null,
            "max_width": null,
            "min_height": null,
            "min_width": null,
            "object_fit": null,
            "object_position": null,
            "order": null,
            "overflow": null,
            "overflow_x": null,
            "overflow_y": null,
            "padding": null,
            "right": null,
            "top": null,
            "visibility": null,
            "width": null
          }
        },
        "2ed06fc9cd194ac69d776750f8ef7d05": {
          "model_module": "@jupyter-widgets/base",
          "model_name": "LayoutModel",
          "model_module_version": "1.2.0",
          "state": {
            "_model_module": "@jupyter-widgets/base",
            "_model_module_version": "1.2.0",
            "_model_name": "LayoutModel",
            "_view_count": null,
            "_view_module": "@jupyter-widgets/base",
            "_view_module_version": "1.2.0",
            "_view_name": "LayoutView",
            "align_content": null,
            "align_items": null,
            "align_self": null,
            "border": null,
            "bottom": null,
            "display": null,
            "flex": null,
            "flex_flow": null,
            "grid_area": null,
            "grid_auto_columns": null,
            "grid_auto_flow": null,
            "grid_auto_rows": null,
            "grid_column": null,
            "grid_gap": null,
            "grid_row": null,
            "grid_template_areas": null,
            "grid_template_columns": null,
            "grid_template_rows": null,
            "height": null,
            "justify_content": null,
            "justify_items": null,
            "left": null,
            "margin": null,
            "max_height": null,
            "max_width": null,
            "min_height": null,
            "min_width": null,
            "object_fit": null,
            "object_position": null,
            "order": null,
            "overflow": null,
            "overflow_x": null,
            "overflow_y": null,
            "padding": null,
            "right": null,
            "top": null,
            "visibility": null,
            "width": null
          }
        },
        "e5a25a6d7783492186bfd2ebfdbc4b6c": {
          "model_module": "@jupyter-widgets/controls",
          "model_name": "DescriptionStyleModel",
          "model_module_version": "1.5.0",
          "state": {
            "_model_module": "@jupyter-widgets/controls",
            "_model_module_version": "1.5.0",
            "_model_name": "DescriptionStyleModel",
            "_view_count": null,
            "_view_module": "@jupyter-widgets/base",
            "_view_module_version": "1.2.0",
            "_view_name": "StyleView",
            "description_width": ""
          }
        },
        "66da366d78694cc3a0b5550f3a2f8af8": {
          "model_module": "@jupyter-widgets/base",
          "model_name": "LayoutModel",
          "model_module_version": "1.2.0",
          "state": {
            "_model_module": "@jupyter-widgets/base",
            "_model_module_version": "1.2.0",
            "_model_name": "LayoutModel",
            "_view_count": null,
            "_view_module": "@jupyter-widgets/base",
            "_view_module_version": "1.2.0",
            "_view_name": "LayoutView",
            "align_content": null,
            "align_items": null,
            "align_self": null,
            "border": null,
            "bottom": null,
            "display": null,
            "flex": null,
            "flex_flow": null,
            "grid_area": null,
            "grid_auto_columns": null,
            "grid_auto_flow": null,
            "grid_auto_rows": null,
            "grid_column": null,
            "grid_gap": null,
            "grid_row": null,
            "grid_template_areas": null,
            "grid_template_columns": null,
            "grid_template_rows": null,
            "height": null,
            "justify_content": null,
            "justify_items": null,
            "left": null,
            "margin": null,
            "max_height": null,
            "max_width": null,
            "min_height": null,
            "min_width": null,
            "object_fit": null,
            "object_position": null,
            "order": null,
            "overflow": null,
            "overflow_x": null,
            "overflow_y": null,
            "padding": null,
            "right": null,
            "top": null,
            "visibility": null,
            "width": null
          }
        },
        "daf6de88439f435d86fe40be0de64037": {
          "model_module": "@jupyter-widgets/controls",
          "model_name": "ProgressStyleModel",
          "model_module_version": "1.5.0",
          "state": {
            "_model_module": "@jupyter-widgets/controls",
            "_model_module_version": "1.5.0",
            "_model_name": "ProgressStyleModel",
            "_view_count": null,
            "_view_module": "@jupyter-widgets/base",
            "_view_module_version": "1.2.0",
            "_view_name": "StyleView",
            "bar_color": null,
            "description_width": ""
          }
        },
        "5c5e3497246d4830b42b72b8290fc84b": {
          "model_module": "@jupyter-widgets/base",
          "model_name": "LayoutModel",
          "model_module_version": "1.2.0",
          "state": {
            "_model_module": "@jupyter-widgets/base",
            "_model_module_version": "1.2.0",
            "_model_name": "LayoutModel",
            "_view_count": null,
            "_view_module": "@jupyter-widgets/base",
            "_view_module_version": "1.2.0",
            "_view_name": "LayoutView",
            "align_content": null,
            "align_items": null,
            "align_self": null,
            "border": null,
            "bottom": null,
            "display": null,
            "flex": null,
            "flex_flow": null,
            "grid_area": null,
            "grid_auto_columns": null,
            "grid_auto_flow": null,
            "grid_auto_rows": null,
            "grid_column": null,
            "grid_gap": null,
            "grid_row": null,
            "grid_template_areas": null,
            "grid_template_columns": null,
            "grid_template_rows": null,
            "height": null,
            "justify_content": null,
            "justify_items": null,
            "left": null,
            "margin": null,
            "max_height": null,
            "max_width": null,
            "min_height": null,
            "min_width": null,
            "object_fit": null,
            "object_position": null,
            "order": null,
            "overflow": null,
            "overflow_x": null,
            "overflow_y": null,
            "padding": null,
            "right": null,
            "top": null,
            "visibility": null,
            "width": null
          }
        },
        "76e782373113413f9ee6f2c7e9343e03": {
          "model_module": "@jupyter-widgets/controls",
          "model_name": "DescriptionStyleModel",
          "model_module_version": "1.5.0",
          "state": {
            "_model_module": "@jupyter-widgets/controls",
            "_model_module_version": "1.5.0",
            "_model_name": "DescriptionStyleModel",
            "_view_count": null,
            "_view_module": "@jupyter-widgets/base",
            "_view_module_version": "1.2.0",
            "_view_name": "StyleView",
            "description_width": ""
          }
        },
        "947522e293e54751a8c925082e8ed0a4": {
          "model_module": "@jupyter-widgets/controls",
          "model_name": "HBoxModel",
          "model_module_version": "1.5.0",
          "state": {
            "_dom_classes": [],
            "_model_module": "@jupyter-widgets/controls",
            "_model_module_version": "1.5.0",
            "_model_name": "HBoxModel",
            "_view_count": null,
            "_view_module": "@jupyter-widgets/controls",
            "_view_module_version": "1.5.0",
            "_view_name": "HBoxView",
            "box_style": "",
            "children": [
              "IPY_MODEL_13c4d7eb3b7c41b08245e060f0930694",
              "IPY_MODEL_045ecd17ee6547fe85e138e9d8a83968",
              "IPY_MODEL_2f0f39b1d3214666beb463b99aff4990"
            ],
            "layout": "IPY_MODEL_16a452f23bb74b35829b20f3e8b1f24b"
          }
        },
        "13c4d7eb3b7c41b08245e060f0930694": {
          "model_module": "@jupyter-widgets/controls",
          "model_name": "HTMLModel",
          "model_module_version": "1.5.0",
          "state": {
            "_dom_classes": [],
            "_model_module": "@jupyter-widgets/controls",
            "_model_module_version": "1.5.0",
            "_model_name": "HTMLModel",
            "_view_count": null,
            "_view_module": "@jupyter-widgets/controls",
            "_view_module_version": "1.5.0",
            "_view_name": "HTMLView",
            "description": "",
            "description_tooltip": null,
            "layout": "IPY_MODEL_7aea5aa944da4cec81d09f2ef55b5bca",
            "placeholder": "​",
            "style": "IPY_MODEL_ed01831ff2ff428abeccb63a6300383f",
            "value": "Downloading (…)382ba/tokenizer.json: 100%"
          }
        },
        "045ecd17ee6547fe85e138e9d8a83968": {
          "model_module": "@jupyter-widgets/controls",
          "model_name": "FloatProgressModel",
          "model_module_version": "1.5.0",
          "state": {
            "_dom_classes": [],
            "_model_module": "@jupyter-widgets/controls",
            "_model_module_version": "1.5.0",
            "_model_name": "FloatProgressModel",
            "_view_count": null,
            "_view_module": "@jupyter-widgets/controls",
            "_view_module_version": "1.5.0",
            "_view_name": "ProgressView",
            "bar_style": "success",
            "description": "",
            "description_tooltip": null,
            "layout": "IPY_MODEL_4ac6859efc48432384f4d597a231b6a9",
            "max": 1961828,
            "min": 0,
            "orientation": "horizontal",
            "style": "IPY_MODEL_ce75b73c6de54183bd562a24a5bed567",
            "value": 1961828
          }
        },
        "2f0f39b1d3214666beb463b99aff4990": {
          "model_module": "@jupyter-widgets/controls",
          "model_name": "HTMLModel",
          "model_module_version": "1.5.0",
          "state": {
            "_dom_classes": [],
            "_model_module": "@jupyter-widgets/controls",
            "_model_module_version": "1.5.0",
            "_model_name": "HTMLModel",
            "_view_count": null,
            "_view_module": "@jupyter-widgets/controls",
            "_view_module_version": "1.5.0",
            "_view_name": "HTMLView",
            "description": "",
            "description_tooltip": null,
            "layout": "IPY_MODEL_4c009ae1b5ad4ae79fc980c95558aa9e",
            "placeholder": "​",
            "style": "IPY_MODEL_722f360acc8e4659b6cb5fdbfdae2544",
            "value": " 1.96M/1.96M [00:00&lt;00:00, 4.92MB/s]"
          }
        },
        "16a452f23bb74b35829b20f3e8b1f24b": {
          "model_module": "@jupyter-widgets/base",
          "model_name": "LayoutModel",
          "model_module_version": "1.2.0",
          "state": {
            "_model_module": "@jupyter-widgets/base",
            "_model_module_version": "1.2.0",
            "_model_name": "LayoutModel",
            "_view_count": null,
            "_view_module": "@jupyter-widgets/base",
            "_view_module_version": "1.2.0",
            "_view_name": "LayoutView",
            "align_content": null,
            "align_items": null,
            "align_self": null,
            "border": null,
            "bottom": null,
            "display": null,
            "flex": null,
            "flex_flow": null,
            "grid_area": null,
            "grid_auto_columns": null,
            "grid_auto_flow": null,
            "grid_auto_rows": null,
            "grid_column": null,
            "grid_gap": null,
            "grid_row": null,
            "grid_template_areas": null,
            "grid_template_columns": null,
            "grid_template_rows": null,
            "height": null,
            "justify_content": null,
            "justify_items": null,
            "left": null,
            "margin": null,
            "max_height": null,
            "max_width": null,
            "min_height": null,
            "min_width": null,
            "object_fit": null,
            "object_position": null,
            "order": null,
            "overflow": null,
            "overflow_x": null,
            "overflow_y": null,
            "padding": null,
            "right": null,
            "top": null,
            "visibility": null,
            "width": null
          }
        },
        "7aea5aa944da4cec81d09f2ef55b5bca": {
          "model_module": "@jupyter-widgets/base",
          "model_name": "LayoutModel",
          "model_module_version": "1.2.0",
          "state": {
            "_model_module": "@jupyter-widgets/base",
            "_model_module_version": "1.2.0",
            "_model_name": "LayoutModel",
            "_view_count": null,
            "_view_module": "@jupyter-widgets/base",
            "_view_module_version": "1.2.0",
            "_view_name": "LayoutView",
            "align_content": null,
            "align_items": null,
            "align_self": null,
            "border": null,
            "bottom": null,
            "display": null,
            "flex": null,
            "flex_flow": null,
            "grid_area": null,
            "grid_auto_columns": null,
            "grid_auto_flow": null,
            "grid_auto_rows": null,
            "grid_column": null,
            "grid_gap": null,
            "grid_row": null,
            "grid_template_areas": null,
            "grid_template_columns": null,
            "grid_template_rows": null,
            "height": null,
            "justify_content": null,
            "justify_items": null,
            "left": null,
            "margin": null,
            "max_height": null,
            "max_width": null,
            "min_height": null,
            "min_width": null,
            "object_fit": null,
            "object_position": null,
            "order": null,
            "overflow": null,
            "overflow_x": null,
            "overflow_y": null,
            "padding": null,
            "right": null,
            "top": null,
            "visibility": null,
            "width": null
          }
        },
        "ed01831ff2ff428abeccb63a6300383f": {
          "model_module": "@jupyter-widgets/controls",
          "model_name": "DescriptionStyleModel",
          "model_module_version": "1.5.0",
          "state": {
            "_model_module": "@jupyter-widgets/controls",
            "_model_module_version": "1.5.0",
            "_model_name": "DescriptionStyleModel",
            "_view_count": null,
            "_view_module": "@jupyter-widgets/base",
            "_view_module_version": "1.2.0",
            "_view_name": "StyleView",
            "description_width": ""
          }
        },
        "4ac6859efc48432384f4d597a231b6a9": {
          "model_module": "@jupyter-widgets/base",
          "model_name": "LayoutModel",
          "model_module_version": "1.2.0",
          "state": {
            "_model_module": "@jupyter-widgets/base",
            "_model_module_version": "1.2.0",
            "_model_name": "LayoutModel",
            "_view_count": null,
            "_view_module": "@jupyter-widgets/base",
            "_view_module_version": "1.2.0",
            "_view_name": "LayoutView",
            "align_content": null,
            "align_items": null,
            "align_self": null,
            "border": null,
            "bottom": null,
            "display": null,
            "flex": null,
            "flex_flow": null,
            "grid_area": null,
            "grid_auto_columns": null,
            "grid_auto_flow": null,
            "grid_auto_rows": null,
            "grid_column": null,
            "grid_gap": null,
            "grid_row": null,
            "grid_template_areas": null,
            "grid_template_columns": null,
            "grid_template_rows": null,
            "height": null,
            "justify_content": null,
            "justify_items": null,
            "left": null,
            "margin": null,
            "max_height": null,
            "max_width": null,
            "min_height": null,
            "min_width": null,
            "object_fit": null,
            "object_position": null,
            "order": null,
            "overflow": null,
            "overflow_x": null,
            "overflow_y": null,
            "padding": null,
            "right": null,
            "top": null,
            "visibility": null,
            "width": null
          }
        },
        "ce75b73c6de54183bd562a24a5bed567": {
          "model_module": "@jupyter-widgets/controls",
          "model_name": "ProgressStyleModel",
          "model_module_version": "1.5.0",
          "state": {
            "_model_module": "@jupyter-widgets/controls",
            "_model_module_version": "1.5.0",
            "_model_name": "ProgressStyleModel",
            "_view_count": null,
            "_view_module": "@jupyter-widgets/base",
            "_view_module_version": "1.2.0",
            "_view_name": "StyleView",
            "bar_color": null,
            "description_width": ""
          }
        },
        "4c009ae1b5ad4ae79fc980c95558aa9e": {
          "model_module": "@jupyter-widgets/base",
          "model_name": "LayoutModel",
          "model_module_version": "1.2.0",
          "state": {
            "_model_module": "@jupyter-widgets/base",
            "_model_module_version": "1.2.0",
            "_model_name": "LayoutModel",
            "_view_count": null,
            "_view_module": "@jupyter-widgets/base",
            "_view_module_version": "1.2.0",
            "_view_name": "LayoutView",
            "align_content": null,
            "align_items": null,
            "align_self": null,
            "border": null,
            "bottom": null,
            "display": null,
            "flex": null,
            "flex_flow": null,
            "grid_area": null,
            "grid_auto_columns": null,
            "grid_auto_flow": null,
            "grid_auto_rows": null,
            "grid_column": null,
            "grid_gap": null,
            "grid_row": null,
            "grid_template_areas": null,
            "grid_template_columns": null,
            "grid_template_rows": null,
            "height": null,
            "justify_content": null,
            "justify_items": null,
            "left": null,
            "margin": null,
            "max_height": null,
            "max_width": null,
            "min_height": null,
            "min_width": null,
            "object_fit": null,
            "object_position": null,
            "order": null,
            "overflow": null,
            "overflow_x": null,
            "overflow_y": null,
            "padding": null,
            "right": null,
            "top": null,
            "visibility": null,
            "width": null
          }
        },
        "722f360acc8e4659b6cb5fdbfdae2544": {
          "model_module": "@jupyter-widgets/controls",
          "model_name": "DescriptionStyleModel",
          "model_module_version": "1.5.0",
          "state": {
            "_model_module": "@jupyter-widgets/controls",
            "_model_module_version": "1.5.0",
            "_model_name": "DescriptionStyleModel",
            "_view_count": null,
            "_view_module": "@jupyter-widgets/base",
            "_view_module_version": "1.2.0",
            "_view_name": "StyleView",
            "description_width": ""
          }
        },
        "ba69f60b2e334b52ab1955ad7b5d085d": {
          "model_module": "@jupyter-widgets/controls",
          "model_name": "HBoxModel",
          "model_module_version": "1.5.0",
          "state": {
            "_dom_classes": [],
            "_model_module": "@jupyter-widgets/controls",
            "_model_module_version": "1.5.0",
            "_model_name": "HBoxModel",
            "_view_count": null,
            "_view_module": "@jupyter-widgets/controls",
            "_view_module_version": "1.5.0",
            "_view_name": "HBoxView",
            "box_style": "",
            "children": [
              "IPY_MODEL_8c3dc4f0cb6643bc809497c54ed76133",
              "IPY_MODEL_5a77f8aba9f548bb8fb5210f4f6aa59d",
              "IPY_MODEL_60e3f4fedcc74b0a9d6442a2859a6a0e"
            ],
            "layout": "IPY_MODEL_315a78428aef4df099b246114f7eec65"
          }
        },
        "8c3dc4f0cb6643bc809497c54ed76133": {
          "model_module": "@jupyter-widgets/controls",
          "model_name": "HTMLModel",
          "model_module_version": "1.5.0",
          "state": {
            "_dom_classes": [],
            "_model_module": "@jupyter-widgets/controls",
            "_model_module_version": "1.5.0",
            "_model_name": "HTMLModel",
            "_view_count": null,
            "_view_module": "@jupyter-widgets/controls",
            "_view_module_version": "1.5.0",
            "_view_name": "HTMLView",
            "description": "",
            "description_tooltip": null,
            "layout": "IPY_MODEL_4b67c490eb564f7ba0d7b53dbcb560cb",
            "placeholder": "​",
            "style": "IPY_MODEL_276bbbbc16664bfe999931950bd6fa33",
            "value": "Downloading (…)okenizer_config.json: 100%"
          }
        },
        "5a77f8aba9f548bb8fb5210f4f6aa59d": {
          "model_module": "@jupyter-widgets/controls",
          "model_name": "FloatProgressModel",
          "model_module_version": "1.5.0",
          "state": {
            "_dom_classes": [],
            "_model_module": "@jupyter-widgets/controls",
            "_model_module_version": "1.5.0",
            "_model_name": "FloatProgressModel",
            "_view_count": null,
            "_view_module": "@jupyter-widgets/controls",
            "_view_module_version": "1.5.0",
            "_view_name": "ProgressView",
            "bar_style": "success",
            "description": "",
            "description_tooltip": null,
            "layout": "IPY_MODEL_934d731af7074373828073cc79604f7c",
            "max": 29,
            "min": 0,
            "orientation": "horizontal",
            "style": "IPY_MODEL_2b93b392b7424fa99c5863ab7bce42ff",
            "value": 29
          }
        },
        "60e3f4fedcc74b0a9d6442a2859a6a0e": {
          "model_module": "@jupyter-widgets/controls",
          "model_name": "HTMLModel",
          "model_module_version": "1.5.0",
          "state": {
            "_dom_classes": [],
            "_model_module": "@jupyter-widgets/controls",
            "_model_module_version": "1.5.0",
            "_model_name": "HTMLModel",
            "_view_count": null,
            "_view_module": "@jupyter-widgets/controls",
            "_view_module_version": "1.5.0",
            "_view_name": "HTMLView",
            "description": "",
            "description_tooltip": null,
            "layout": "IPY_MODEL_27ca0deb28284a3ab192ff51cb93a6bf",
            "placeholder": "​",
            "style": "IPY_MODEL_b54466901d0b46ee95c6219481261169",
            "value": " 29.0/29.0 [00:00&lt;00:00, 1.84kB/s]"
          }
        },
        "315a78428aef4df099b246114f7eec65": {
          "model_module": "@jupyter-widgets/base",
          "model_name": "LayoutModel",
          "model_module_version": "1.2.0",
          "state": {
            "_model_module": "@jupyter-widgets/base",
            "_model_module_version": "1.2.0",
            "_model_name": "LayoutModel",
            "_view_count": null,
            "_view_module": "@jupyter-widgets/base",
            "_view_module_version": "1.2.0",
            "_view_name": "LayoutView",
            "align_content": null,
            "align_items": null,
            "align_self": null,
            "border": null,
            "bottom": null,
            "display": null,
            "flex": null,
            "flex_flow": null,
            "grid_area": null,
            "grid_auto_columns": null,
            "grid_auto_flow": null,
            "grid_auto_rows": null,
            "grid_column": null,
            "grid_gap": null,
            "grid_row": null,
            "grid_template_areas": null,
            "grid_template_columns": null,
            "grid_template_rows": null,
            "height": null,
            "justify_content": null,
            "justify_items": null,
            "left": null,
            "margin": null,
            "max_height": null,
            "max_width": null,
            "min_height": null,
            "min_width": null,
            "object_fit": null,
            "object_position": null,
            "order": null,
            "overflow": null,
            "overflow_x": null,
            "overflow_y": null,
            "padding": null,
            "right": null,
            "top": null,
            "visibility": null,
            "width": null
          }
        },
        "4b67c490eb564f7ba0d7b53dbcb560cb": {
          "model_module": "@jupyter-widgets/base",
          "model_name": "LayoutModel",
          "model_module_version": "1.2.0",
          "state": {
            "_model_module": "@jupyter-widgets/base",
            "_model_module_version": "1.2.0",
            "_model_name": "LayoutModel",
            "_view_count": null,
            "_view_module": "@jupyter-widgets/base",
            "_view_module_version": "1.2.0",
            "_view_name": "LayoutView",
            "align_content": null,
            "align_items": null,
            "align_self": null,
            "border": null,
            "bottom": null,
            "display": null,
            "flex": null,
            "flex_flow": null,
            "grid_area": null,
            "grid_auto_columns": null,
            "grid_auto_flow": null,
            "grid_auto_rows": null,
            "grid_column": null,
            "grid_gap": null,
            "grid_row": null,
            "grid_template_areas": null,
            "grid_template_columns": null,
            "grid_template_rows": null,
            "height": null,
            "justify_content": null,
            "justify_items": null,
            "left": null,
            "margin": null,
            "max_height": null,
            "max_width": null,
            "min_height": null,
            "min_width": null,
            "object_fit": null,
            "object_position": null,
            "order": null,
            "overflow": null,
            "overflow_x": null,
            "overflow_y": null,
            "padding": null,
            "right": null,
            "top": null,
            "visibility": null,
            "width": null
          }
        },
        "276bbbbc16664bfe999931950bd6fa33": {
          "model_module": "@jupyter-widgets/controls",
          "model_name": "DescriptionStyleModel",
          "model_module_version": "1.5.0",
          "state": {
            "_model_module": "@jupyter-widgets/controls",
            "_model_module_version": "1.5.0",
            "_model_name": "DescriptionStyleModel",
            "_view_count": null,
            "_view_module": "@jupyter-widgets/base",
            "_view_module_version": "1.2.0",
            "_view_name": "StyleView",
            "description_width": ""
          }
        },
        "934d731af7074373828073cc79604f7c": {
          "model_module": "@jupyter-widgets/base",
          "model_name": "LayoutModel",
          "model_module_version": "1.2.0",
          "state": {
            "_model_module": "@jupyter-widgets/base",
            "_model_module_version": "1.2.0",
            "_model_name": "LayoutModel",
            "_view_count": null,
            "_view_module": "@jupyter-widgets/base",
            "_view_module_version": "1.2.0",
            "_view_name": "LayoutView",
            "align_content": null,
            "align_items": null,
            "align_self": null,
            "border": null,
            "bottom": null,
            "display": null,
            "flex": null,
            "flex_flow": null,
            "grid_area": null,
            "grid_auto_columns": null,
            "grid_auto_flow": null,
            "grid_auto_rows": null,
            "grid_column": null,
            "grid_gap": null,
            "grid_row": null,
            "grid_template_areas": null,
            "grid_template_columns": null,
            "grid_template_rows": null,
            "height": null,
            "justify_content": null,
            "justify_items": null,
            "left": null,
            "margin": null,
            "max_height": null,
            "max_width": null,
            "min_height": null,
            "min_width": null,
            "object_fit": null,
            "object_position": null,
            "order": null,
            "overflow": null,
            "overflow_x": null,
            "overflow_y": null,
            "padding": null,
            "right": null,
            "top": null,
            "visibility": null,
            "width": null
          }
        },
        "2b93b392b7424fa99c5863ab7bce42ff": {
          "model_module": "@jupyter-widgets/controls",
          "model_name": "ProgressStyleModel",
          "model_module_version": "1.5.0",
          "state": {
            "_model_module": "@jupyter-widgets/controls",
            "_model_module_version": "1.5.0",
            "_model_name": "ProgressStyleModel",
            "_view_count": null,
            "_view_module": "@jupyter-widgets/base",
            "_view_module_version": "1.2.0",
            "_view_name": "StyleView",
            "bar_color": null,
            "description_width": ""
          }
        },
        "27ca0deb28284a3ab192ff51cb93a6bf": {
          "model_module": "@jupyter-widgets/base",
          "model_name": "LayoutModel",
          "model_module_version": "1.2.0",
          "state": {
            "_model_module": "@jupyter-widgets/base",
            "_model_module_version": "1.2.0",
            "_model_name": "LayoutModel",
            "_view_count": null,
            "_view_module": "@jupyter-widgets/base",
            "_view_module_version": "1.2.0",
            "_view_name": "LayoutView",
            "align_content": null,
            "align_items": null,
            "align_self": null,
            "border": null,
            "bottom": null,
            "display": null,
            "flex": null,
            "flex_flow": null,
            "grid_area": null,
            "grid_auto_columns": null,
            "grid_auto_flow": null,
            "grid_auto_rows": null,
            "grid_column": null,
            "grid_gap": null,
            "grid_row": null,
            "grid_template_areas": null,
            "grid_template_columns": null,
            "grid_template_rows": null,
            "height": null,
            "justify_content": null,
            "justify_items": null,
            "left": null,
            "margin": null,
            "max_height": null,
            "max_width": null,
            "min_height": null,
            "min_width": null,
            "object_fit": null,
            "object_position": null,
            "order": null,
            "overflow": null,
            "overflow_x": null,
            "overflow_y": null,
            "padding": null,
            "right": null,
            "top": null,
            "visibility": null,
            "width": null
          }
        },
        "b54466901d0b46ee95c6219481261169": {
          "model_module": "@jupyter-widgets/controls",
          "model_name": "DescriptionStyleModel",
          "model_module_version": "1.5.0",
          "state": {
            "_model_module": "@jupyter-widgets/controls",
            "_model_module_version": "1.5.0",
            "_model_name": "DescriptionStyleModel",
            "_view_count": null,
            "_view_module": "@jupyter-widgets/base",
            "_view_module_version": "1.2.0",
            "_view_name": "StyleView",
            "description_width": ""
          }
        },
        "99245148434e46ebb6acae373c228a94": {
          "model_module": "@jupyter-widgets/controls",
          "model_name": "HBoxModel",
          "model_module_version": "1.5.0",
          "state": {
            "_dom_classes": [],
            "_model_module": "@jupyter-widgets/controls",
            "_model_module_version": "1.5.0",
            "_model_name": "HBoxModel",
            "_view_count": null,
            "_view_module": "@jupyter-widgets/controls",
            "_view_module_version": "1.5.0",
            "_view_name": "HBoxView",
            "box_style": "",
            "children": [
              "IPY_MODEL_50f380c47f434266b60086f33c891ed2",
              "IPY_MODEL_7426b921e6624224a712457bb8ca671a",
              "IPY_MODEL_162419304f384242b60d8e14bd7e76d4"
            ],
            "layout": "IPY_MODEL_d7175a15a7344fe59f283b3e580f48e8"
          }
        },
        "50f380c47f434266b60086f33c891ed2": {
          "model_module": "@jupyter-widgets/controls",
          "model_name": "HTMLModel",
          "model_module_version": "1.5.0",
          "state": {
            "_dom_classes": [],
            "_model_module": "@jupyter-widgets/controls",
            "_model_module_version": "1.5.0",
            "_model_name": "HTMLModel",
            "_view_count": null,
            "_view_module": "@jupyter-widgets/controls",
            "_view_module_version": "1.5.0",
            "_view_name": "HTMLView",
            "description": "",
            "description_tooltip": null,
            "layout": "IPY_MODEL_b975b9510ea148338863fffae1e89cba",
            "placeholder": "​",
            "style": "IPY_MODEL_1447ac5cd3ee4646b8d8927674fd9fdc",
            "value": "Downloading (…)e19f0382ba/vocab.txt: 100%"
          }
        },
        "7426b921e6624224a712457bb8ca671a": {
          "model_module": "@jupyter-widgets/controls",
          "model_name": "FloatProgressModel",
          "model_module_version": "1.5.0",
          "state": {
            "_dom_classes": [],
            "_model_module": "@jupyter-widgets/controls",
            "_model_module_version": "1.5.0",
            "_model_name": "FloatProgressModel",
            "_view_count": null,
            "_view_module": "@jupyter-widgets/controls",
            "_view_module_version": "1.5.0",
            "_view_name": "ProgressView",
            "bar_style": "success",
            "description": "",
            "description_tooltip": null,
            "layout": "IPY_MODEL_674418cd2e314c968fb8cfbf4b2c0a14",
            "max": 995526,
            "min": 0,
            "orientation": "horizontal",
            "style": "IPY_MODEL_92239211a625492b8449ee6e7b15ae7b",
            "value": 995526
          }
        },
        "162419304f384242b60d8e14bd7e76d4": {
          "model_module": "@jupyter-widgets/controls",
          "model_name": "HTMLModel",
          "model_module_version": "1.5.0",
          "state": {
            "_dom_classes": [],
            "_model_module": "@jupyter-widgets/controls",
            "_model_module_version": "1.5.0",
            "_model_name": "HTMLModel",
            "_view_count": null,
            "_view_module": "@jupyter-widgets/controls",
            "_view_module_version": "1.5.0",
            "_view_name": "HTMLView",
            "description": "",
            "description_tooltip": null,
            "layout": "IPY_MODEL_4425b6470158439384c38c8f5227bd24",
            "placeholder": "​",
            "style": "IPY_MODEL_aeebab5f3f3e4652920888959a613fea",
            "value": " 996k/996k [00:00&lt;00:00, 3.16MB/s]"
          }
        },
        "d7175a15a7344fe59f283b3e580f48e8": {
          "model_module": "@jupyter-widgets/base",
          "model_name": "LayoutModel",
          "model_module_version": "1.2.0",
          "state": {
            "_model_module": "@jupyter-widgets/base",
            "_model_module_version": "1.2.0",
            "_model_name": "LayoutModel",
            "_view_count": null,
            "_view_module": "@jupyter-widgets/base",
            "_view_module_version": "1.2.0",
            "_view_name": "LayoutView",
            "align_content": null,
            "align_items": null,
            "align_self": null,
            "border": null,
            "bottom": null,
            "display": null,
            "flex": null,
            "flex_flow": null,
            "grid_area": null,
            "grid_auto_columns": null,
            "grid_auto_flow": null,
            "grid_auto_rows": null,
            "grid_column": null,
            "grid_gap": null,
            "grid_row": null,
            "grid_template_areas": null,
            "grid_template_columns": null,
            "grid_template_rows": null,
            "height": null,
            "justify_content": null,
            "justify_items": null,
            "left": null,
            "margin": null,
            "max_height": null,
            "max_width": null,
            "min_height": null,
            "min_width": null,
            "object_fit": null,
            "object_position": null,
            "order": null,
            "overflow": null,
            "overflow_x": null,
            "overflow_y": null,
            "padding": null,
            "right": null,
            "top": null,
            "visibility": null,
            "width": null
          }
        },
        "b975b9510ea148338863fffae1e89cba": {
          "model_module": "@jupyter-widgets/base",
          "model_name": "LayoutModel",
          "model_module_version": "1.2.0",
          "state": {
            "_model_module": "@jupyter-widgets/base",
            "_model_module_version": "1.2.0",
            "_model_name": "LayoutModel",
            "_view_count": null,
            "_view_module": "@jupyter-widgets/base",
            "_view_module_version": "1.2.0",
            "_view_name": "LayoutView",
            "align_content": null,
            "align_items": null,
            "align_self": null,
            "border": null,
            "bottom": null,
            "display": null,
            "flex": null,
            "flex_flow": null,
            "grid_area": null,
            "grid_auto_columns": null,
            "grid_auto_flow": null,
            "grid_auto_rows": null,
            "grid_column": null,
            "grid_gap": null,
            "grid_row": null,
            "grid_template_areas": null,
            "grid_template_columns": null,
            "grid_template_rows": null,
            "height": null,
            "justify_content": null,
            "justify_items": null,
            "left": null,
            "margin": null,
            "max_height": null,
            "max_width": null,
            "min_height": null,
            "min_width": null,
            "object_fit": null,
            "object_position": null,
            "order": null,
            "overflow": null,
            "overflow_x": null,
            "overflow_y": null,
            "padding": null,
            "right": null,
            "top": null,
            "visibility": null,
            "width": null
          }
        },
        "1447ac5cd3ee4646b8d8927674fd9fdc": {
          "model_module": "@jupyter-widgets/controls",
          "model_name": "DescriptionStyleModel",
          "model_module_version": "1.5.0",
          "state": {
            "_model_module": "@jupyter-widgets/controls",
            "_model_module_version": "1.5.0",
            "_model_name": "DescriptionStyleModel",
            "_view_count": null,
            "_view_module": "@jupyter-widgets/base",
            "_view_module_version": "1.2.0",
            "_view_name": "StyleView",
            "description_width": ""
          }
        },
        "674418cd2e314c968fb8cfbf4b2c0a14": {
          "model_module": "@jupyter-widgets/base",
          "model_name": "LayoutModel",
          "model_module_version": "1.2.0",
          "state": {
            "_model_module": "@jupyter-widgets/base",
            "_model_module_version": "1.2.0",
            "_model_name": "LayoutModel",
            "_view_count": null,
            "_view_module": "@jupyter-widgets/base",
            "_view_module_version": "1.2.0",
            "_view_name": "LayoutView",
            "align_content": null,
            "align_items": null,
            "align_self": null,
            "border": null,
            "bottom": null,
            "display": null,
            "flex": null,
            "flex_flow": null,
            "grid_area": null,
            "grid_auto_columns": null,
            "grid_auto_flow": null,
            "grid_auto_rows": null,
            "grid_column": null,
            "grid_gap": null,
            "grid_row": null,
            "grid_template_areas": null,
            "grid_template_columns": null,
            "grid_template_rows": null,
            "height": null,
            "justify_content": null,
            "justify_items": null,
            "left": null,
            "margin": null,
            "max_height": null,
            "max_width": null,
            "min_height": null,
            "min_width": null,
            "object_fit": null,
            "object_position": null,
            "order": null,
            "overflow": null,
            "overflow_x": null,
            "overflow_y": null,
            "padding": null,
            "right": null,
            "top": null,
            "visibility": null,
            "width": null
          }
        },
        "92239211a625492b8449ee6e7b15ae7b": {
          "model_module": "@jupyter-widgets/controls",
          "model_name": "ProgressStyleModel",
          "model_module_version": "1.5.0",
          "state": {
            "_model_module": "@jupyter-widgets/controls",
            "_model_module_version": "1.5.0",
            "_model_name": "ProgressStyleModel",
            "_view_count": null,
            "_view_module": "@jupyter-widgets/base",
            "_view_module_version": "1.2.0",
            "_view_name": "StyleView",
            "bar_color": null,
            "description_width": ""
          }
        },
        "4425b6470158439384c38c8f5227bd24": {
          "model_module": "@jupyter-widgets/base",
          "model_name": "LayoutModel",
          "model_module_version": "1.2.0",
          "state": {
            "_model_module": "@jupyter-widgets/base",
            "_model_module_version": "1.2.0",
            "_model_name": "LayoutModel",
            "_view_count": null,
            "_view_module": "@jupyter-widgets/base",
            "_view_module_version": "1.2.0",
            "_view_name": "LayoutView",
            "align_content": null,
            "align_items": null,
            "align_self": null,
            "border": null,
            "bottom": null,
            "display": null,
            "flex": null,
            "flex_flow": null,
            "grid_area": null,
            "grid_auto_columns": null,
            "grid_auto_flow": null,
            "grid_auto_rows": null,
            "grid_column": null,
            "grid_gap": null,
            "grid_row": null,
            "grid_template_areas": null,
            "grid_template_columns": null,
            "grid_template_rows": null,
            "height": null,
            "justify_content": null,
            "justify_items": null,
            "left": null,
            "margin": null,
            "max_height": null,
            "max_width": null,
            "min_height": null,
            "min_width": null,
            "object_fit": null,
            "object_position": null,
            "order": null,
            "overflow": null,
            "overflow_x": null,
            "overflow_y": null,
            "padding": null,
            "right": null,
            "top": null,
            "visibility": null,
            "width": null
          }
        },
        "aeebab5f3f3e4652920888959a613fea": {
          "model_module": "@jupyter-widgets/controls",
          "model_name": "DescriptionStyleModel",
          "model_module_version": "1.5.0",
          "state": {
            "_model_module": "@jupyter-widgets/controls",
            "_model_module_version": "1.5.0",
            "_model_name": "DescriptionStyleModel",
            "_view_count": null,
            "_view_module": "@jupyter-widgets/base",
            "_view_module_version": "1.2.0",
            "_view_name": "StyleView",
            "description_width": ""
          }
        }
      }
    }
  },
  "nbformat": 4,
  "nbformat_minor": 0
}