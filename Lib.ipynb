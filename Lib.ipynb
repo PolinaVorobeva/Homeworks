{
 "cells": [
  {
   "cell_type": "code",
   "execution_count": 6,
   "metadata": {},
   "outputs": [
    {
     "name": "stderr",
     "output_type": "stream",
     "text": [
      "C:\\Users\\vpd_l\\Anaconda3\\lib\\site-packages\\sklearn\\cross_validation.py:41: DeprecationWarning: This module was deprecated in version 0.18 in favor of the model_selection module into which all the refactored classes and functions are moved. Also note that the interface of the new CV iterators are different from that of this module. This module will be removed in 0.20.\n",
      "  \"This module will be removed in 0.20.\", DeprecationWarning)\n",
      "C:\\Users\\vpd_l\\Anaconda3\\lib\\site-packages\\sklearn\\grid_search.py:42: DeprecationWarning: This module was deprecated in version 0.18 in favor of the model_selection module into which all the refactored classes and functions are moved. This module will be removed in 0.20.\n",
      "  DeprecationWarning)\n",
      "C:\\Users\\vpd_l\\Anaconda3\\lib\\site-packages\\sklearn\\learning_curve.py:22: DeprecationWarning: This module was deprecated in version 0.18 in favor of the model_selection module into which all the functions are moved. This module will be removed in 0.20\n",
      "  DeprecationWarning)\n"
     ]
    }
   ],
   "source": [
    "from sklearn import *\n",
    "import pandas as pd"
   ]
  },
  {
   "cell_type": "code",
   "execution_count": 60,
   "metadata": {
    "collapsed": true
   },
   "outputs": [],
   "source": [
    "class Preprocessor:\n",
    "    \n",
    "    def __init__(self, scaling=None, split=None, n_folds=5):\n",
    "        \n",
    "        self.scaling = scaling\n",
    "        self.split = split\n",
    "        self.n_folds = n_folds\n",
    "        \n",
    "    def get_scaled(self, data):\n",
    "        \n",
    "        if self.scaling == 'MinMax':\n",
    "            \n",
    "            scaler  = preprocessing.MinMaxScaler()\n",
    "            data = scaler.fit_transform(data)\n",
    "            \n",
    "        elif self.scaling == 'StandardScaler':\n",
    "            scaler  = sklearn.preprocessing.StandardScaler()\n",
    "            data = scaler.fit_transform(data) \n",
    "        \n",
    "        return data\n",
    "        \n",
    "        \n",
    "    def get_splits(self, data, y=None):\n",
    "        \n",
    "        if self.split == 'Kfold':\n",
    "            kf = model_selection.KFold(self.n_folds)\n",
    "            splt = kf.split(data)\n",
    "            return list(splt)\n",
    "                \n",
    "        elif self.split == 'Stratified Kfold':\n",
    "            skf = model_selection.StratifiedKFold(self.n_folds)\n",
    "            splt = skf.split(data, y)\n",
    "            return list(splt)"
   ]
  },
  {
   "cell_type": "code",
   "execution_count": 63,
   "metadata": {
    "collapsed": true
   },
   "outputs": [],
   "source": [
    "preprocessor = Preprocessor(scaling='MinMax', split='Kfold')"
   ]
  },
  {
   "cell_type": "code",
   "execution_count": 62,
   "metadata": {
    "collapsed": true
   },
   "outputs": [],
   "source": [
    "# train = train.fillna(0)\n",
    "# test = test.fillna(0)"
   ]
  },
  {
   "cell_type": "code",
   "execution_count": 64,
   "metadata": {},
   "outputs": [],
   "source": [
    "train = preprocessor.get_scaled(train)"
   ]
  },
  {
   "cell_type": "code",
   "execution_count": 66,
   "metadata": {},
   "outputs": [],
   "source": [
    "l_1  = preprocessor.get_splits(train, y)"
   ]
  }
 ],
 "metadata": {
  "kernelspec": {
   "display_name": "Python 3",
   "language": "python",
   "name": "python3"
  }
 },
 "nbformat": 4,
 "nbformat_minor": 2
}
